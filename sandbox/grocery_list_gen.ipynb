{
 "cells": [
  {
   "cell_type": "markdown",
   "metadata": {},
   "source": [
    "# Grocery List Generation\n",
    "The Recepticon application helps users find new recipes for items they already buy at the grocery store with no or minimal substitutions. One component of the app is allowing users the ability to populate a list of groceries that the system will then take into account into the recipe optimizer. \n",
    "\n",
    "We are going to write a class that will work with a `.csv` file containing a list of ingredients and do the following:\n",
    "\n",
    "* Return results from a query\n",
    "* Add item to list\n",
    "* Delete item from list\n",
    "* Create a new list\n",
    "* Delete a list\n",
    "* Load a list\n",
    "\n",
    "This should all work similarly to an online grocery cart, although for the sake of keeping things simple it will ignore quantity and dollar amount."
   ]
  },
  {
   "cell_type": "code",
   "execution_count": 59,
   "metadata": {
    "collapsed": true
   },
   "outputs": [],
   "source": [
    "# imports\n",
    "import pandas as pd\n",
    "import numpy as np\n",
    "import matplotlib.pyplot as plt\n",
    "import _pickle as pickle\n",
    "import uuid\n",
    "import random\n",
    "%matplotlib inline"
   ]
  },
  {
   "cell_type": "code",
   "execution_count": 2,
   "metadata": {
    "collapsed": false
   },
   "outputs": [
    {
     "data": {
      "text/html": [
       "<div>\n",
       "<table border=\"1\" class=\"dataframe\">\n",
       "  <thead>\n",
       "    <tr style=\"text-align: right;\">\n",
       "      <th></th>\n",
       "      <th>Unnamed: 0</th>\n",
       "      <th>ingredient</th>\n",
       "      <th>red_meat</th>\n",
       "      <th>poultry</th>\n",
       "      <th>fish</th>\n",
       "      <th>seafood</th>\n",
       "      <th>egg</th>\n",
       "      <th>vegetables</th>\n",
       "      <th>fruits</th>\n",
       "      <th>dairy</th>\n",
       "    </tr>\n",
       "  </thead>\n",
       "  <tbody>\n",
       "    <tr>\n",
       "      <th>0</th>\n",
       "      <td>0</td>\n",
       "      <td>maitake mushrooms</td>\n",
       "      <td>0</td>\n",
       "      <td>0</td>\n",
       "      <td>0</td>\n",
       "      <td>0</td>\n",
       "      <td>0</td>\n",
       "      <td>1</td>\n",
       "      <td>0</td>\n",
       "      <td>0</td>\n",
       "    </tr>\n",
       "    <tr>\n",
       "      <th>1</th>\n",
       "      <td>1</td>\n",
       "      <td>america</td>\n",
       "      <td>0</td>\n",
       "      <td>0</td>\n",
       "      <td>0</td>\n",
       "      <td>0</td>\n",
       "      <td>0</td>\n",
       "      <td>0</td>\n",
       "      <td>0</td>\n",
       "      <td>0</td>\n",
       "    </tr>\n",
       "    <tr>\n",
       "      <th>2</th>\n",
       "      <td>2</td>\n",
       "      <td>shiro miso</td>\n",
       "      <td>0</td>\n",
       "      <td>0</td>\n",
       "      <td>0</td>\n",
       "      <td>0</td>\n",
       "      <td>0</td>\n",
       "      <td>0</td>\n",
       "      <td>0</td>\n",
       "      <td>0</td>\n",
       "    </tr>\n",
       "    <tr>\n",
       "      <th>3</th>\n",
       "      <td>3</td>\n",
       "      <td>hash brown</td>\n",
       "      <td>0</td>\n",
       "      <td>0</td>\n",
       "      <td>0</td>\n",
       "      <td>0</td>\n",
       "      <td>0</td>\n",
       "      <td>0</td>\n",
       "      <td>0</td>\n",
       "      <td>0</td>\n",
       "    </tr>\n",
       "    <tr>\n",
       "      <th>4</th>\n",
       "      <td>4</td>\n",
       "      <td>jicama</td>\n",
       "      <td>0</td>\n",
       "      <td>0</td>\n",
       "      <td>0</td>\n",
       "      <td>0</td>\n",
       "      <td>0</td>\n",
       "      <td>0</td>\n",
       "      <td>0</td>\n",
       "      <td>0</td>\n",
       "    </tr>\n",
       "  </tbody>\n",
       "</table>\n",
       "</div>"
      ],
      "text/plain": [
       "   Unnamed: 0         ingredient  red_meat  poultry  fish  seafood  egg  \\\n",
       "0           0  maitake mushrooms         0        0     0        0    0   \n",
       "1           1            america         0        0     0        0    0   \n",
       "2           2         shiro miso         0        0     0        0    0   \n",
       "3           3         hash brown         0        0     0        0    0   \n",
       "4           4             jicama         0        0     0        0    0   \n",
       "\n",
       "   vegetables  fruits  dairy  \n",
       "0           1       0      0  \n",
       "1           0       0      0  \n",
       "2           0       0      0  \n",
       "3           0       0      0  \n",
       "4           0       0      0  "
      ]
     },
     "execution_count": 2,
     "metadata": {},
     "output_type": "execute_result"
    }
   ],
   "source": [
    "ingredients = pd.read_csv('../git_main/python/files/ingr_list.csv')\n",
    "ingredients.head()"
   ]
  },
  {
   "cell_type": "markdown",
   "metadata": {},
   "source": [
    "## Search\n",
    "First piece we'll tackle is running a search. The class will be running on the back of a flask app. The front-end of the app will be passing a 'query' to the python code so we will assume that the query input as already been generated."
   ]
  },
  {
   "cell_type": "code",
   "execution_count": 13,
   "metadata": {
    "collapsed": false
   },
   "outputs": [
    {
     "data": {
      "text/plain": [
       "454           broccolini\n",
       "823        broccoli slaw\n",
       "1352    broccoli florets\n",
       "1803    chopped broccoli\n",
       "1869            broccoli\n",
       "2368       broccoli rabe\n",
       "Name: ingredient, dtype: object"
      ]
     },
     "execution_count": 13,
     "metadata": {},
     "output_type": "execute_result"
    }
   ],
   "source": [
    "query = 'broccoli'\n",
    "#ingredients[ingredients['ingredient'].str.contains(query)==True]\n",
    "ingredients['ingredient'][ingredients['ingredient'].str.contains(query)==True]"
   ]
  },
  {
   "cell_type": "markdown",
   "metadata": {},
   "source": [
    "#### Display in HTML\n",
    "We want to output this list in HTML including an icon for each item allowing the user to add to list. We'll test some HTML functionality here to make sure the output looks like how we want."
   ]
  },
  {
   "cell_type": "code",
   "execution_count": 4,
   "metadata": {
    "collapsed": false
   },
   "outputs": [
    {
     "data": {
      "text/html": [
       "<h1>Hello, world!</h1>"
      ],
      "text/plain": [
       "<IPython.core.display.HTML object>"
      ]
     },
     "metadata": {},
     "output_type": "display_data"
    }
   ],
   "source": [
    "## import HTML display modeul for jupyter notebooks - awesome !!\n",
    "from IPython.core.display import display, HTML\n",
    "display(HTML('<h1>Hello, world!</h1>'))"
   ]
  },
  {
   "cell_type": "code",
   "execution_count": 24,
   "metadata": {
    "collapsed": false
   },
   "outputs": [
    {
     "data": {
      "text/plain": [
       "'<tr>\\n    <td>broccoli</td>\\n    <td><button type=\"button\" class=\"btn btn-default btn-lg\">\\n  <span class=\"glyphicon glyphicon-plus-sign\" aria-hidden=\"true\"></span> Add to Current List\\n</button></td>\\n  </tr>'"
      ]
     },
     "execution_count": 24,
     "metadata": {},
     "output_type": "execute_result"
    }
   ],
   "source": [
    "def grocery_row_gen(ingr):\n",
    "    entry = '''<tr>\n",
    "    <td>%s</td>\n",
    "    <td><button type=\"button\" class=\"btn btn-default btn-lg\">\n",
    "  <span class=\"glyphicon glyphicon-plus-sign\" aria-hidden=\"true\"></span> Add to Current List\n",
    "</button></td>\n",
    "  </tr>''' %ingr\n",
    "    #display(HTML(entry))\n",
    "    return (entry)\n",
    "grocery_row_gen(query)"
   ]
  },
  {
   "cell_type": "markdown",
   "metadata": {},
   "source": [
    "### Adding HTML to Search Function\n",
    "We've figured out how to search the ingredients list and how to generate an HTML table. Now we can generate a table from the function."
   ]
  },
  {
   "cell_type": "code",
   "execution_count": 25,
   "metadata": {
    "collapsed": false
   },
   "outputs": [],
   "source": [
    "def ingr_search(query, series):\n",
    "    query_results = series[series.str.contains(query)==True]\n",
    "    html_string = '''<table>\n",
    "    <tr>\n",
    "    <th>Item</th>\n",
    "    <th>Click to add</th>\n",
    "    </tr>'''\n",
    "    for row in query_results:\n",
    "        #print(row)\n",
    "        html_string += grocery_row_gen(row)\n",
    "    html_string += \"\"\"</table>\"\"\"\n",
    "    return (html_string)"
   ]
  },
  {
   "cell_type": "code",
   "execution_count": 26,
   "metadata": {
    "collapsed": false
   },
   "outputs": [
    {
     "data": {
      "text/html": [
       "<table>\n",
       "    <tr>\n",
       "    <th>Item</th>\n",
       "    <th>Click to add</th>\n",
       "    </tr><tr>\n",
       "    <td>broccolini</td>\n",
       "    <td><button type=\"button\" class=\"btn btn-default btn-lg\">\n",
       "  <span class=\"glyphicon glyphicon-plus-sign\" aria-hidden=\"true\"></span> Add to Current List\n",
       "</button></td>\n",
       "  </tr><tr>\n",
       "    <td>broccoli slaw</td>\n",
       "    <td><button type=\"button\" class=\"btn btn-default btn-lg\">\n",
       "  <span class=\"glyphicon glyphicon-plus-sign\" aria-hidden=\"true\"></span> Add to Current List\n",
       "</button></td>\n",
       "  </tr><tr>\n",
       "    <td>broccoli florets</td>\n",
       "    <td><button type=\"button\" class=\"btn btn-default btn-lg\">\n",
       "  <span class=\"glyphicon glyphicon-plus-sign\" aria-hidden=\"true\"></span> Add to Current List\n",
       "</button></td>\n",
       "  </tr><tr>\n",
       "    <td>chopped broccoli</td>\n",
       "    <td><button type=\"button\" class=\"btn btn-default btn-lg\">\n",
       "  <span class=\"glyphicon glyphicon-plus-sign\" aria-hidden=\"true\"></span> Add to Current List\n",
       "</button></td>\n",
       "  </tr><tr>\n",
       "    <td>broccoli</td>\n",
       "    <td><button type=\"button\" class=\"btn btn-default btn-lg\">\n",
       "  <span class=\"glyphicon glyphicon-plus-sign\" aria-hidden=\"true\"></span> Add to Current List\n",
       "</button></td>\n",
       "  </tr><tr>\n",
       "    <td>broccoli rabe</td>\n",
       "    <td><button type=\"button\" class=\"btn btn-default btn-lg\">\n",
       "  <span class=\"glyphicon glyphicon-plus-sign\" aria-hidden=\"true\"></span> Add to Current List\n",
       "</button></td>\n",
       "  </tr></table>"
      ],
      "text/plain": [
       "<IPython.core.display.HTML object>"
      ]
     },
     "metadata": {},
     "output_type": "display_data"
    }
   ],
   "source": [
    "display(HTML(ingr_search(query, ingredients['ingredient'])))"
   ]
  },
  {
   "cell_type": "markdown",
   "metadata": {},
   "source": [
    "## Grocery List Class\n",
    "Each user in our system will have grocery lists associated with their accounts. They will be able to create new lists and load saved lists from their account as desired. We'll leverage object-oriented programming in Python to do this. First we'll establish a new class and then build functionality into it."
   ]
  },
  {
   "cell_type": "code",
   "execution_count": 53,
   "metadata": {
    "collapsed": false
   },
   "outputs": [],
   "source": [
    "class GroceryList:\n",
    "    def __init__(self, name, user_id):\n",
    "        self.name = name\n",
    "        self.user_id = user_id\n",
    "        self.groc_list = [] # initialize with empty list of items\n",
    "        self.filename = uuid.uuid4().hex + '.pkl'\n",
    "    \n",
    "    def add_item(self, item):\n",
    "        self.groc_list.append(item)\n",
    "        print(item + \" has been added to \" + self.name + \".\")\n",
    "    \n",
    "    def delete_item(self, item):\n",
    "        self.groc_list.remove(item)\n",
    "        print(item + \" has been removed from \" + self.name + \".\")\n",
    "    \n",
    "    def get_items(self):\n",
    "        print(\"Current items in \" + self.name + \":\")\n",
    "        for item in self.groc_list:\n",
    "            print(item)\n",
    "            \n",
    "    def save_list(self):\n",
    "        with open(self.filename, 'wb') as output:  # Overwrites any existing file.\n",
    "            pickle.dump(self, output, -1)\n",
    "            \n",
    "    def clear_list(self):\n",
    "        self.groc_list = []"
   ]
  },
  {
   "cell_type": "code",
   "execution_count": 54,
   "metadata": {
    "collapsed": false
   },
   "outputs": [
    {
     "name": "stdout",
     "output_type": "stream",
     "text": [
      "broccoli has been added to mylist.\n",
      "orange has been added to mylist.\n",
      "chicken has been added to mylist.\n",
      "Current items in mylist:\n",
      "broccoli\n",
      "orange\n",
      "chicken\n",
      "orange has been removed from mylist.\n",
      "Current items in mylist:\n",
      "broccoli\n",
      "chicken\n"
     ]
    }
   ],
   "source": [
    "mylist = GroceryList(\"mylist\", \"chet\")\n",
    "mylist.add_item('broccoli')\n",
    "mylist.add_item('orange')\n",
    "mylist.add_item('chicken')\n",
    "mylist.get_items()\n",
    "mylist.delete_item('orange')\n",
    "mylist.get_items()"
   ]
  },
  {
   "cell_type": "markdown",
   "metadata": {},
   "source": [
    "## Storing Object Data\n",
    "For this to be useful to us, we'll need to store object data so that it can be opened again. This is a very simple, stripped down shopping cart, so there's nothing too complicated about the data that's being passed around. Per the following post from Stack Overflow, we'll `pickle` the data and save to files that can be opened and closed using the pickle utility in Python:\n",
    "\n",
    "https://stackoverflow.com/questions/4529815/saving-an-object-data-persistence\n",
    "\n",
    "To make the best use of this, we'll need to add a filename associated with each list. We can leverage the *tempfile* utility built into Python to generate a random file name when a new class object is created.\n",
    "\n",
    "*Note: We will also need to store the filename somewhere outside of the object so that it can be called and loaded from file*"
   ]
  },
  {
   "cell_type": "code",
   "execution_count": 55,
   "metadata": {
    "collapsed": true
   },
   "outputs": [],
   "source": [
    "mylist.save_list()"
   ]
  },
  {
   "cell_type": "markdown",
   "metadata": {},
   "source": [
    "Our class object *mylist* should now be saved as `mylist.pkl` in the local folder. To test that this worked properly, we're going to delete the list object *mylist* and then load using the *load_list* method that we just created."
   ]
  },
  {
   "cell_type": "code",
   "execution_count": 56,
   "metadata": {
    "collapsed": false
   },
   "outputs": [
    {
     "ename": "NameError",
     "evalue": "name 'mylist' is not defined",
     "output_type": "error",
     "traceback": [
      "\u001b[0;31m---------------------------------------------------------------------------\u001b[0m",
      "\u001b[0;31mNameError\u001b[0m                                 Traceback (most recent call last)",
      "\u001b[0;32m<ipython-input-56-0bd9f3f99cb9>\u001b[0m in \u001b[0;36m<module>\u001b[0;34m()\u001b[0m\n\u001b[1;32m      1\u001b[0m \u001b[1;32mdel\u001b[0m \u001b[0mmylist\u001b[0m\u001b[1;33m\u001b[0m\u001b[0m\n\u001b[0;32m----> 2\u001b[0;31m \u001b[0mprint\u001b[0m\u001b[1;33m(\u001b[0m\u001b[0mmylist\u001b[0m\u001b[1;33m.\u001b[0m\u001b[0mgetitems\u001b[0m\u001b[1;33m(\u001b[0m\u001b[1;33m)\u001b[0m\u001b[1;33m)\u001b[0m\u001b[1;33m\u001b[0m\u001b[0m\n\u001b[0m",
      "\u001b[0;31mNameError\u001b[0m: name 'mylist' is not defined"
     ]
    }
   ],
   "source": [
    "del mylist\n",
    "print(mylist.getitems())"
   ]
  },
  {
   "cell_type": "code",
   "execution_count": 47,
   "metadata": {
    "collapsed": true
   },
   "outputs": [],
   "source": [
    "def load_list(filename):\n",
    "    with open(filename, 'rb') as input:\n",
    "        current_list = pickle.load(input)\n",
    "        return current_list"
   ]
  },
  {
   "cell_type": "code",
   "execution_count": 57,
   "metadata": {
    "collapsed": false
   },
   "outputs": [
    {
     "name": "stdout",
     "output_type": "stream",
     "text": [
      "Current items in mylist:\n",
      "broccoli\n",
      "chicken\n"
     ]
    }
   ],
   "source": [
    "mylist = load_list('048d0da4881a4d12ae3f212c231b97a5.pkl')\n",
    "mylist.get_items()"
   ]
  },
  {
   "cell_type": "markdown",
   "metadata": {},
   "source": [
    "Let's make sure that this works as expected when we modify a list, save it again, and then bring it back."
   ]
  },
  {
   "cell_type": "code",
   "execution_count": 58,
   "metadata": {
    "collapsed": false
   },
   "outputs": [
    {
     "name": "stdout",
     "output_type": "stream",
     "text": [
      "chicken has been removed from mylist.\n",
      "smoothie has been added to mylist.\n",
      "Cheetos has been added to mylist.\n",
      "Current items in mylist:\n",
      "broccoli\n",
      "smoothie\n",
      "Cheetos\n",
      "Current items in mylist:\n",
      "broccoli\n",
      "smoothie\n",
      "Cheetos\n"
     ]
    }
   ],
   "source": [
    "mylist.delete_item('chicken')\n",
    "mylist.add_item('smoothie')\n",
    "mylist.add_item('Cheetos')\n",
    "mylist.get_items()\n",
    "mylist.save_list()\n",
    "del mylist\n",
    "mylist = load_list('048d0da4881a4d12ae3f212c231b97a5.pkl')\n",
    "mylist.get_items()"
   ]
  },
  {
   "cell_type": "markdown",
   "metadata": {},
   "source": [
    "### Having Some Fun\n",
    "Now that the grocery list has all the functions we want, it's time to have a little fun. We're going to write a function that will generate a new shopping list with 20 items. We'll do this a couple times and then check that we have different files for each list and they can be re-loaded into Python."
   ]
  },
  {
   "cell_type": "code",
   "execution_count": 67,
   "metadata": {
    "collapsed": false
   },
   "outputs": [],
   "source": [
    "def randomGroceryList(num, list_name, user_id, ingredients):\n",
    "    ingr = set(ingredients)\n",
    "    tmp_obj = GroceryList(list_name, user_id)\n",
    "    print(tmp_obj.filename)\n",
    "    tmp_items = random.sample(ingr, num)\n",
    "    for itm in tmp_items:\n",
    "        tmp_obj.add_item(itm)\n",
    "    tmp_obj.save_list()"
   ]
  },
  {
   "cell_type": "code",
   "execution_count": 68,
   "metadata": {
    "collapsed": false
   },
   "outputs": [
    {
     "name": "stdout",
     "output_type": "stream",
     "text": [
      "096d1bddcbf449ad878fcb247f7ae989.pkl\n",
      "egg roll wrappers has been added to mylist1.\n",
      "root has been added to mylist1.\n",
      "calamata olives has been added to mylist1.\n",
      "dough has been added to mylist1.\n",
      "cactus has been added to mylist1.\n",
      "tapioca has been added to mylist1.\n",
      "smithfield ham has been added to mylist1.\n",
      "thin pizza crust has been added to mylist1.\n",
      "asian rice noodles has been added to mylist1.\n",
      "ginger root has been added to mylist1.\n",
      "glutinous rice flour has been added to mylist1.\n",
      "cherry pie filling has been added to mylist1.\n",
      "sweet sherry has been added to mylist1.\n",
      "sangiovese has been added to mylist1.\n",
      "sour orange juice has been added to mylist1.\n",
      "caramel sauce has been added to mylist1.\n",
      "yellow onion has been added to mylist1.\n",
      "chinese celery cabbage has been added to mylist1.\n",
      "epazote has been added to mylist1.\n",
      "seltzer water has been added to mylist1.\n"
     ]
    }
   ],
   "source": [
    "randomGroceryList(20, 'mylist1', 'chet', ingredients['ingredient'])"
   ]
  }
 ],
 "metadata": {
  "anaconda-cloud": {},
  "kernelspec": {
   "display_name": "Python [conda root]",
   "language": "python",
   "name": "conda-root-py"
  },
  "language_info": {
   "codemirror_mode": {
    "name": "ipython",
    "version": 3
   },
   "file_extension": ".py",
   "mimetype": "text/x-python",
   "name": "python",
   "nbconvert_exporter": "python",
   "pygments_lexer": "ipython3",
   "version": "3.5.2"
  }
 },
 "nbformat": 4,
 "nbformat_minor": 1
}
