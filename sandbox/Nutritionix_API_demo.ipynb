{
 "cells": [
  {
   "cell_type": "markdown",
   "metadata": {},
   "source": [
    "## NutritionIX\n",
    "As part of the project team's EDA - this notebok intends to explore the potential use of the NutitionIX, free access API for food ingredient and product nutrition information.\n",
    "\n",
    "API Documentation here: https://developer.nutritionix.com/docs/v2\n",
    "\n",
    "Application ID: `521f54bd`    \n",
    "API Key: `25d5c30718d41ae5852789e886c1e110`"
   ]
  },
  {
   "cell_type": "code",
   "execution_count": 13,
   "metadata": {
    "collapsed": true
   },
   "outputs": [],
   "source": [
    "import requests\n",
    "import json\n",
    "import pandas as pd"
   ]
  },
  {
   "cell_type": "code",
   "execution_count": 108,
   "metadata": {
    "collapsed": false
   },
   "outputs": [],
   "source": [
    "url = 'https://trackapi.nutritionix.com/v2/natural/nutrients'\n",
    "header = {'Content-Type':'application/json', 'x-app-id':'521f54bd', 'x-app-key':'25d5c30718d41ae5852789e886c1e110'}\n",
    "body = '{\\n \\\"query\\\": \\\"1 cup spinach\\\"\\n }'\n",
    "\n",
    "r = requests.post(url, headers=header, data=body)"
   ]
  },
  {
   "cell_type": "code",
   "execution_count": 29,
   "metadata": {
    "collapsed": false
   },
   "outputs": [
    {
     "data": {
      "text/plain": [
       "'{\"foods\":[{\"food_name\":\"cantaloupe\",\"brand_name\":null,\"serving_qty\":1,\"serving_unit\":\"medium\",\"serving_weight_grams\":310.5,\"nf_calories\":105.57,\"nf_total_fat\":0.59,\"nf_saturated_fat\":0.16,\"nf_cholesterol\":0,\"nf_sodium\":49.68,\"nf_total_carbohydrate\":25.34,\"nf_dietary_fiber\":2.79,\"nf_sugars\":24.41,\"nf_protein\":2.61,\"nf_potassium\":829.04,\"nf_p\":46.58,\"full_nutrients\":[{\"attr_id\":203,\"value\":2.6082},{\"attr_id\":204,\"value\":0.59},{\"attr_id\":205,\"value\":25.3368},{\"attr_id\":207,\"value\":2.0183},{\"attr_id\":208,\"value\":105.57},{\"attr_id\":209,\"value\":0.0932},{\"attr_id\":210,\"value\":13.5068},{\"attr_id\":211,\"value\":4.7817},{\"attr_id\":212,\"value\":5.8064},{\"attr_id\":213,\"value\":0},{\"attr_id\":214,\"value\":0.1242},{\"attr_id\":221,\"value\":0},{\"attr_id\":255,\"value\":279.9158},{\"attr_id\":262,\"value\":0},{\"attr_id\":263,\"value\":0},{\"attr_id\":268,\"value\":437.805},{\"attr_id\":269,\"value\":24.4053},{\"attr_id\":287,\"value\":0.1863},{\"attr_id\":291,\"value\":2.7945},{\"attr_id\":301,\"value\":27.945},{\"attr_id\":303,\"value\":0.6521},{\"attr_id\":304,\"value\":37.26},{\"attr_id\":305,\"value\":46.575},{\"attr_id\":306,\"value\":829.035},{\"attr_id\":307,\"value\":49.68},{\"attr_id\":309,\"value\":0.5589},{\"attr_id\":312,\"value\":0.1273},{\"attr_id\":313,\"value\":3.105},{\"attr_id\":315,\"value\":0.1273},{\"attr_id\":317,\"value\":1.242},{\"attr_id\":318,\"value\":10501.11},{\"attr_id\":319,\"value\":0},{\"attr_id\":320,\"value\":524.745},{\"attr_id\":321,\"value\":6272.1},{\"attr_id\":322,\"value\":49.68},{\"attr_id\":323,\"value\":0.1553},{\"attr_id\":324,\"value\":0},{\"attr_id\":328,\"value\":0},{\"attr_id\":334,\"value\":3.105},{\"attr_id\":337,\"value\":0},{\"attr_id\":338,\"value\":80.73},{\"attr_id\":341,\"value\":0},{\"attr_id\":342,\"value\":0.3416},{\"attr_id\":343,\"value\":0},{\"attr_id\":344,\"value\":0},{\"attr_id\":345,\"value\":0},{\"attr_id\":346,\"value\":0},{\"attr_id\":347,\"value\":0},{\"attr_id\":401,\"value\":113.9535},{\"attr_id\":404,\"value\":0.1273},{\"attr_id\":405,\"value\":0.059},{\"attr_id\":406,\"value\":2.2791},{\"attr_id\":410,\"value\":0.326},{\"attr_id\":415,\"value\":0.2236},{\"attr_id\":417,\"value\":65.205},{\"attr_id\":418,\"value\":0},{\"attr_id\":421,\"value\":23.598},{\"attr_id\":429,\"value\":0},{\"attr_id\":430,\"value\":7.7625},{\"attr_id\":431,\"value\":0},{\"attr_id\":432,\"value\":65.205},{\"attr_id\":435,\"value\":65.205},{\"attr_id\":454,\"value\":0.3105},{\"attr_id\":501,\"value\":0.0062},{\"attr_id\":502,\"value\":0.0528},{\"attr_id\":503,\"value\":0.0652},{\"attr_id\":504,\"value\":0.0901},{\"attr_id\":505,\"value\":0.0932},{\"attr_id\":506,\"value\":0.0373},{\"attr_id\":507,\"value\":0.0062},{\"attr_id\":508,\"value\":0.0714},{\"attr_id\":509,\"value\":0.0435},{\"attr_id\":510,\"value\":0.1025},{\"attr_id\":511,\"value\":0.0901},{\"attr_id\":512,\"value\":0.0466},{\"attr_id\":513,\"value\":0.295},{\"attr_id\":514,\"value\":0.4223},{\"attr_id\":515,\"value\":0.649},{\"attr_id\":516,\"value\":0.0807},{\"attr_id\":517,\"value\":0.059},{\"attr_id\":518,\"value\":0.1304},{\"attr_id\":601,\"value\":0},{\"attr_id\":605,\"value\":0},{\"attr_id\":606,\"value\":0.1584},{\"attr_id\":607,\"value\":0},{\"attr_id\":608,\"value\":0},{\"attr_id\":609,\"value\":0},{\"attr_id\":610,\"value\":0},{\"attr_id\":611,\"value\":0.0031},{\"attr_id\":612,\"value\":0.0031},{\"attr_id\":613,\"value\":0.1335},{\"attr_id\":614,\"value\":0.0155},{\"attr_id\":617,\"value\":0.0093},{\"attr_id\":618,\"value\":0.1087},{\"attr_id\":619,\"value\":0.1428},{\"attr_id\":620,\"value\":0},{\"attr_id\":621,\"value\":0},{\"attr_id\":626,\"value\":0},{\"attr_id\":627,\"value\":0},{\"attr_id\":628,\"value\":0},{\"attr_id\":629,\"value\":0},{\"attr_id\":630,\"value\":0},{\"attr_id\":631,\"value\":0},{\"attr_id\":636,\"value\":31.05},{\"attr_id\":645,\"value\":0.0093},{\"attr_id\":646,\"value\":0.2515}],\"nix_brand_name\":null,\"nix_brand_id\":null,\"nix_item_name\":null,\"nix_item_id\":null,\"upc\":null,\"consumed_at\":\"2018-10-06T02:50:41+00:00\",\"metadata\":{\"is_raw_food\":false},\"source\":1,\"ndb_no\":9181,\"tags\":{\"item\":\"cantaloupe\",\"measure\":\"medium\",\"quantity\":\"1\",\"food_group\":3,\"tag_id\":451},\"alt_measures\":[{\"serving_weight\":55,\"measure\":\"wedge, small (1/8 of small melon)\",\"seq\":9,\"qty\":1},{\"serving_weight\":441,\"measure\":\"melon, small (about 4-1/4\\\\\" dia)\",\"seq\":8,\"qty\":1},{\"serving_weight\":69,\"measure\":\"wedge, medium (1/8 of medium melon)\",\"seq\":7,\"qty\":1},{\"serving_weight\":552,\"measure\":\"melon, medium (about 5\\\\\" dia)\",\"seq\":6,\"qty\":1},{\"serving_weight\":102,\"measure\":\"wedge, large (1/8 of large melon)\",\"seq\":5,\"qty\":1},{\"serving_weight\":814,\"measure\":\"melon, large (about 6-1/2\\\\\" dia)\",\"seq\":4,\"qty\":1},{\"serving_weight\":156,\"measure\":\"cup, diced\",\"seq\":3,\"qty\":1},{\"serving_weight\":160,\"measure\":\"cup, cubes\",\"seq\":2,\"qty\":1},{\"serving_weight\":134,\"measure\":\"NLEA serving\",\"seq\":11,\"qty\":1},{\"serving_weight\":138,\"measure\":\"cantaloupe balls\",\"seq\":10,\"qty\":10},{\"serving_weight\":177,\"measure\":\"cup, balls\",\"seq\":1,\"qty\":1},{\"serving_weight\":100,\"measure\":\"g\",\"seq\":null,\"qty\":100}],\"lat\":null,\"lng\":null,\"meal_type\":5,\"photo\":{\"thumb\":\"https://d2xdmhkmkbyw75.cloudfront.net/451_thumb.jpg\",\"highres\":\"https://d2xdmhkmkbyw75.cloudfront.net/451_highres.jpg\",\"is_user_uploaded\":false},\"sub_recipe\":null}]}'"
      ]
     },
     "execution_count": 29,
     "metadata": {},
     "output_type": "execute_result"
    }
   ],
   "source": [
    "body_2 = '{\\n \\\"query\\\": \\\"Cantaloupe, One Medium\\\"\\n }'\n",
    "\n",
    "r_2 = requests.post(url, headers=header, data=body_2)\n",
    "r_2.text"
   ]
  },
  {
   "cell_type": "code",
   "execution_count": 30,
   "metadata": {
    "collapsed": false
   },
   "outputs": [],
   "source": [
    "mango = json.loads(r_2.text)"
   ]
  },
  {
   "cell_type": "code",
   "execution_count": 102,
   "metadata": {
    "collapsed": false
   },
   "outputs": [
    {
     "name": "stdout",
     "output_type": "stream",
     "text": [
      "<class 'dict'>\n",
      "dict_keys(['foods'])\n",
      "<class 'dict'>\n",
      "https://d2xdmhkmkbyw75.cloudfront.net/451_thumb.jpg\n"
     ]
    }
   ],
   "source": [
    "print(type(mango))\n",
    "print(mango.keys())\n",
    "print(type(mango['foods'][0]))\n",
    "print(mango['foods'][0]['photo']['thumb'])"
   ]
  },
  {
   "cell_type": "code",
   "execution_count": 35,
   "metadata": {
    "collapsed": false
   },
   "outputs": [
    {
     "name": "stdout",
     "output_type": "stream",
     "text": [
      "Product:  cantaloupe\n",
      "Calories:  105.57\n",
      "Protein:  2.61\n",
      "Total Fat:  0.59\n",
      "Total Carbohydrates:  25.34\n"
     ]
    }
   ],
   "source": [
    "print(\"Product: \", mango['foods'][0][\"food_name\"])\n",
    "print(\"Calories: \", mango['foods'][0][\"nf_calories\"])\n",
    "print(\"Protein: \", mango['foods'][0][\"nf_protein\"])\n",
    "print(\"Total Fat: \", mango['foods'][0][\"nf_total_fat\"])\n",
    "print(\"Total Carbohydrates: \", mango['foods'][0][\"nf_total_carbohydrate\"])"
   ]
  },
  {
   "cell_type": "code",
   "execution_count": 61,
   "metadata": {
    "collapsed": false
   },
   "outputs": [
    {
     "data": {
      "text/plain": [
       "'{\\n \"query\": \"Cantaloupe, One Medium\"\\n }'"
      ]
     },
     "execution_count": 61,
     "metadata": {},
     "output_type": "execute_result"
    }
   ],
   "source": [
    "groc_string = 'Cantaloupe, One Medium'\n",
    "body_temp = '{\\n \\\"query\\\": \\\"%s\"\\n }' % groc_string\n",
    "body_temp"
   ]
  },
  {
   "cell_type": "code",
   "execution_count": 130,
   "metadata": {
    "collapsed": false
   },
   "outputs": [],
   "source": [
    "from IPython.display import Image, display\n",
    "from IPython.core.display import HTML"
   ]
  },
  {
   "cell_type": "code",
   "execution_count": 121,
   "metadata": {
    "collapsed": false
   },
   "outputs": [
    {
     "data": {
      "text/html": [
       "<img src=\"https://d2xdmhkmkbyw75.cloudfront.net/451_thumb.jpg\"/>"
      ],
      "text/plain": [
       "<IPython.core.display.Image object>"
      ]
     },
     "execution_count": 121,
     "metadata": {},
     "output_type": "execute_result"
    }
   ],
   "source": [
    "Image(url= \"https://d2xdmhkmkbyw75.cloudfront.net/451_thumb.jpg\")"
   ]
  },
  {
   "cell_type": "code",
   "execution_count": 133,
   "metadata": {
    "collapsed": false
   },
   "outputs": [],
   "source": [
    "def load_grocery(groc_string, groc_dict):\n",
    "    body_temp = '{\\n \\\"query\\\": \\\"%s\"\\n }' % groc_string\n",
    "    r_temp = requests.post(url, headers=header, data=body_temp)\n",
    "    d_temp = json.loads(r_temp.text)\n",
    "    url_temp = d_temp['foods'][0]['photo']['thumb']\n",
    "    \n",
    "    groc_dict[d_temp['foods'][0][\"food_name\"]] = {'kcal':d_temp['foods'][0][\"nf_calories\"], \n",
    "                                                  'protein':d_temp['foods'][0][\"nf_protein\"],\n",
    "                                                  'fat':d_temp['foods'][0][\"nf_total_fat\"],\n",
    "                                                  'carb':d_temp['foods'][0][\"nf_total_carbohydrate\"],\n",
    "                                                  'url': url_temp\n",
    "                                                 }\n",
    "    \n",
    "    return display(Image(url= url_temp)), print(groc_string)"
   ]
  },
  {
   "cell_type": "code",
   "execution_count": 106,
   "metadata": {
    "collapsed": true
   },
   "outputs": [],
   "source": [
    "demo_dict = dict()\n",
    "demo_string = \"365 Everyday Value, Organic Ice Cream Sandwiches, 3.65 fl oz, 6 ct, (Frozen)\""
   ]
  },
  {
   "cell_type": "code",
   "execution_count": 134,
   "metadata": {
    "collapsed": false
   },
   "outputs": [
    {
     "data": {
      "text/html": [
       "<img src=\"https://d2xdmhkmkbyw75.cloudfront.net/1704_thumb.jpg\"/>"
      ],
      "text/plain": [
       "<IPython.core.display.Image object>"
      ]
     },
     "metadata": {},
     "output_type": "display_data"
    },
    {
     "name": "stdout",
     "output_type": "stream",
     "text": [
      "365 Everyday Value, Organic Ice Cream Sandwiches, 3.65 fl oz, 6 ct, (Frozen)\n"
     ]
    },
    {
     "data": {
      "text/plain": [
       "(None, None)"
      ]
     },
     "execution_count": 134,
     "metadata": {},
     "output_type": "execute_result"
    }
   ],
   "source": [
    "load_grocery(demo_string, demo_dict)"
   ]
  },
  {
   "cell_type": "code",
   "execution_count": 78,
   "metadata": {
    "collapsed": false
   },
   "outputs": [
    {
     "data": {
      "text/plain": [
       "{'ice cream sandwiches': {'carb': 38.43,\n",
       "  'fat': 8.87,\n",
       "  'kcal': 245.24,\n",
       "  'protein': 4.44}}"
      ]
     },
     "execution_count": 78,
     "metadata": {},
     "output_type": "execute_result"
    }
   ],
   "source": [
    "demo_dict"
   ]
  },
  {
   "cell_type": "code",
   "execution_count": 103,
   "metadata": {
    "collapsed": true
   },
   "outputs": [],
   "source": [
    "def load_grocery_list(path_name, groc_dict):\n",
    "    d = open(path_name)\n",
    "    d_list = d.readlines()\n",
    "    d.close()\n",
    "\n",
    "    for line in d_list:\n",
    "        load_grocery(line[:-1], groc_dict)"
   ]
  },
  {
   "cell_type": "code",
   "execution_count": 135,
   "metadata": {
    "collapsed": false
   },
   "outputs": [
    {
     "data": {
      "text/html": [
       "<img src=\"https://d2xdmhkmkbyw75.cloudfront.net/1704_thumb.jpg\"/>"
      ],
      "text/plain": [
       "<IPython.core.display.Image object>"
      ]
     },
     "metadata": {},
     "output_type": "display_data"
    },
    {
     "name": "stdout",
     "output_type": "stream",
     "text": [
      "365 Everyday Value, Organic Ice Cream Sandwiches, 3.65 fl oz, 6 ct, (Frozen)\n"
     ]
    },
    {
     "data": {
      "text/html": [
       "<img src=\"https://d2xdmhkmkbyw75.cloudfront.net/7953_thumb.jpg\"/>"
      ],
      "text/plain": [
       "<IPython.core.display.Image object>"
      ]
     },
     "metadata": {},
     "output_type": "display_data"
    },
    {
     "name": "stdout",
     "output_type": "stream",
     "text": [
      "Ben & Jerrys Non-Dairy, P.B. & Cookies, 16 oz\n"
     ]
    },
    {
     "data": {
      "text/html": [
       "<img src=\"https://d2xdmhkmkbyw75.cloudfront.net/1212_thumb.jpg\"/>"
      ],
      "text/plain": [
       "<IPython.core.display.Image object>"
      ]
     },
     "metadata": {},
     "output_type": "display_data"
    },
    {
     "name": "stdout",
     "output_type": "stream",
     "text": [
      "Johnsonville, Classic Italian Meatballs, 24 oz (Frozen)\n"
     ]
    },
    {
     "data": {
      "text/html": [
       "<img src=\"https://d2eawub7utcl6.cloudfront.net/images/nix-apple-grey.png\"/>"
      ],
      "text/plain": [
       "<IPython.core.display.Image object>"
      ]
     },
     "metadata": {},
     "output_type": "display_data"
    },
    {
     "name": "stdout",
     "output_type": "stream",
     "text": [
      "So Delicious Dairy Free Coconutmilk Creamer, French Vanilla, 16 fl oz\n"
     ]
    },
    {
     "data": {
      "text/html": [
       "<img src=\"https://d2xdmhkmkbyw75.cloudfront.net/285_thumb.jpg\"/>"
      ],
      "text/plain": [
       "<IPython.core.display.Image object>"
      ]
     },
     "metadata": {},
     "output_type": "display_data"
    },
    {
     "name": "stdout",
     "output_type": "stream",
     "text": [
      "Annies Bunny Grahams, Chocolate, Graham Snacks, 7.5 oz Box\n"
     ]
    },
    {
     "data": {
      "text/html": [
       "<img src=\"https://d2xdmhkmkbyw75.cloudfront.net/644_thumb.jpg\"/>"
      ],
      "text/plain": [
       "<IPython.core.display.Image object>"
      ]
     },
     "metadata": {},
     "output_type": "display_data"
    },
    {
     "name": "stdout",
     "output_type": "stream",
     "text": [
      "Organic Kale, 1 Bunch\n"
     ]
    },
    {
     "data": {
      "text/html": [
       "<img src=\"https://d2xdmhkmkbyw75.cloudfront.net/767_thumb.jpg\"/>"
      ],
      "text/plain": [
       "<IPython.core.display.Image object>"
      ]
     },
     "metadata": {},
     "output_type": "display_data"
    },
    {
     "name": "stdout",
     "output_type": "stream",
     "text": [
      "Red Raspberries, 6 oz\n"
     ]
    },
    {
     "data": {
      "text/html": [
       "<img src=\"https://d2xdmhkmkbyw75.cloudfront.net/124_thumb.jpg\"/>"
      ],
      "text/plain": [
       "<IPython.core.display.Image object>"
      ]
     },
     "metadata": {},
     "output_type": "display_data"
    },
    {
     "name": "stdout",
     "output_type": "stream",
     "text": [
      "365 Everyday Value, Roasted & Salted Deluxe Mixed Nuts, 16 oz\n"
     ]
    },
    {
     "data": {
      "text/html": [
       "<img src=\"https://d2xdmhkmkbyw75.cloudfront.net/577_thumb.jpg\"/>"
      ],
      "text/plain": [
       "<IPython.core.display.Image object>"
      ]
     },
     "metadata": {},
     "output_type": "display_data"
    },
    {
     "name": "stdout",
     "output_type": "stream",
     "text": [
      "365 Everyday Value, Organic Garbanzo Beans, 15.5 oz\n"
     ]
    },
    {
     "data": {
      "text/html": [
       "<img src=\"https://d2xdmhkmkbyw75.cloudfront.net/191_thumb.jpg\"/>"
      ],
      "text/plain": [
       "<IPython.core.display.Image object>"
      ]
     },
     "metadata": {},
     "output_type": "display_data"
    },
    {
     "name": "stdout",
     "output_type": "stream",
     "text": [
      "365 Everyday Value, Organic Tomato Basil Pasta Sauce, 25 oz\n"
     ]
    },
    {
     "data": {
      "text/html": [
       "<img src=\"https://d2xdmhkmkbyw75.cloudfront.net/288_thumb.jpg\"/>"
      ],
      "text/plain": [
       "<IPython.core.display.Image object>"
      ]
     },
     "metadata": {},
     "output_type": "display_data"
    },
    {
     "name": "stdout",
     "output_type": "stream",
     "text": [
      "365 Everyday Value, Organic Coconut Milk, 13.5 oz\n"
     ]
    },
    {
     "data": {
      "text/html": [
       "<img src=\"https://d2xdmhkmkbyw75.cloudfront.net/8972_thumb.jpg\"/>"
      ],
      "text/plain": [
       "<IPython.core.display.Image object>"
      ]
     },
     "metadata": {},
     "output_type": "display_data"
    },
    {
     "name": "stdout",
     "output_type": "stream",
     "text": [
      "Fresh Tilapia Fillets, Farm-Raised, 12 oz\n"
     ]
    },
    {
     "data": {
      "text/html": [
       "<img src=\"https://d2xdmhkmkbyw75.cloudfront.net/2323_thumb.jpg\"/>"
      ],
      "text/plain": [
       "<IPython.core.display.Image object>"
      ]
     },
     "metadata": {},
     "output_type": "display_data"
    },
    {
     "name": "stdout",
     "output_type": "stream",
     "text": [
      "Annies, Organic Whole Milk Yogurt Tubes, Real Organic Berries & Bananas, 8 Count\n"
     ]
    },
    {
     "data": {
      "text/html": [
       "<img src=\"https://d2xdmhkmkbyw75.cloudfront.net/1164_thumb.jpg\"/>"
      ],
      "text/plain": [
       "<IPython.core.display.Image object>"
      ]
     },
     "metadata": {},
     "output_type": "display_data"
    },
    {
     "name": "stdout",
     "output_type": "stream",
     "text": [
      "Applegate, Natural Chicken Nuggets Family Size, 16oz (Frozen)\n"
     ]
    },
    {
     "data": {
      "text/html": [
       "<img src=\"https://d2xdmhkmkbyw75.cloudfront.net/330_thumb.jpg\"/>"
      ],
      "text/plain": [
       "<IPython.core.display.Image object>"
      ]
     },
     "metadata": {},
     "output_type": "display_data"
    },
    {
     "name": "stdout",
     "output_type": "stream",
     "text": [
      "Medium Garlic, One Bulb\n"
     ]
    },
    {
     "data": {
      "text/html": [
       "<img src=\"https://d2xdmhkmkbyw75.cloudfront.net/1105_thumb.jpg\"/>"
      ],
      "text/plain": [
       "<IPython.core.display.Image object>"
      ]
     },
     "metadata": {},
     "output_type": "display_data"
    },
    {
     "name": "stdout",
     "output_type": "stream",
     "text": [
      "365 Everyday Value, Penne Rigate, 16 oz\n"
     ]
    },
    {
     "data": {
      "text/html": [
       "<img src=\"https://d2xdmhkmkbyw75.cloudfront.net/779_thumb.jpg\"/>"
      ],
      "text/plain": [
       "<IPython.core.display.Image object>"
      ]
     },
     "metadata": {},
     "output_type": "display_data"
    },
    {
     "name": "stdout",
     "output_type": "stream",
     "text": [
      "365 Everyday Value, Organic Baby Spinach, 5 oz\n"
     ]
    },
    {
     "data": {
      "text/html": [
       "<img src=\"https://d2eawub7utcl6.cloudfront.net/images/nix-apple-grey.png\"/>"
      ],
      "text/plain": [
       "<IPython.core.display.Image object>"
      ]
     },
     "metadata": {},
     "output_type": "display_data"
    },
    {
     "name": "stdout",
     "output_type": "stream",
     "text": [
      "Gardein Classic Meatless Meatballs, Protein Packed Goodness, Ready in 8 Minutes, 12.7 Ounce (Frozen)\n"
     ]
    },
    {
     "data": {
      "text/html": [
       "<img src=\"https://d2xdmhkmkbyw75.cloudfront.net/260_thumb.jpg\"/>"
      ],
      "text/plain": [
       "<IPython.core.display.Image object>"
      ]
     },
     "metadata": {},
     "output_type": "display_data"
    },
    {
     "name": "stdout",
     "output_type": "stream",
     "text": [
      "Asparagus, 1 Bunch\n"
     ]
    },
    {
     "data": {
      "text/html": [
       "<img src=\"https://d2xdmhkmkbyw75.cloudfront.net/3135_thumb.jpg\"/>"
      ],
      "text/plain": [
       "<IPython.core.display.Image object>"
      ]
     },
     "metadata": {},
     "output_type": "display_data"
    },
    {
     "name": "stdout",
     "output_type": "stream",
     "text": [
      "Pepperidge Farm Goldfish Crackers, Cheddar, 30 oz carton\n"
     ]
    },
    {
     "data": {
      "text/html": [
       "<img src=\"https://d2xdmhkmkbyw75.cloudfront.net/35_thumb.jpg\"/>"
      ],
      "text/plain": [
       "<IPython.core.display.Image object>"
      ]
     },
     "metadata": {},
     "output_type": "display_data"
    },
    {
     "name": "stdout",
     "output_type": "stream",
     "text": [
      "Annies Macaroni and Cheese, Pasta & Classic Cheddar Mac and Cheese, 6 oz Box\n"
     ]
    },
    {
     "data": {
      "text/html": [
       "<img src=\"https://d2xdmhkmkbyw75.cloudfront.net/198_thumb.jpg\"/>"
      ],
      "text/plain": [
       "<IPython.core.display.Image object>"
      ]
     },
     "metadata": {},
     "output_type": "display_data"
    },
    {
     "name": "stdout",
     "output_type": "stream",
     "text": [
      "Rosarita Traditional Refried Beans, 16 oz\n"
     ]
    },
    {
     "data": {
      "text/html": [
       "<img src=\"https://d2xdmhkmkbyw75.cloudfront.net/1748_thumb.jpg\"/>"
      ],
      "text/plain": [
       "<IPython.core.display.Image object>"
      ]
     },
     "metadata": {},
     "output_type": "display_data"
    },
    {
     "name": "stdout",
     "output_type": "stream",
     "text": [
      "Organic Baby Carrots, 1 lb\n"
     ]
    },
    {
     "data": {
      "text/html": [
       "<img src=\"https://d2xdmhkmkbyw75.cloudfront.net/884_thumb.jpg\"/>"
      ],
      "text/plain": [
       "<IPython.core.display.Image object>"
      ]
     },
     "metadata": {},
     "output_type": "display_data"
    },
    {
     "name": "stdout",
     "output_type": "stream",
     "text": [
      "Zucchini Squash, 1.5 lb\n"
     ]
    },
    {
     "data": {
      "text/html": [
       "<img src=\"https://d2xdmhkmkbyw75.cloudfront.net/458_thumb.jpg\"/>"
      ],
      "text/plain": [
       "<IPython.core.display.Image object>"
      ]
     },
     "metadata": {},
     "output_type": "display_data"
    },
    {
     "name": "stdout",
     "output_type": "stream",
     "text": [
      "Tillamook, Medium Cheddar Cheese,  8 oz\n"
     ]
    },
    {
     "data": {
      "text/html": [
       "<img src=\"https://d2xdmhkmkbyw75.cloudfront.net/451_thumb.jpg\"/>"
      ],
      "text/plain": [
       "<IPython.core.display.Image object>"
      ]
     },
     "metadata": {},
     "output_type": "display_data"
    },
    {
     "name": "stdout",
     "output_type": "stream",
     "text": [
      "Cantaloupe, One Medium\n"
     ]
    },
    {
     "data": {
      "text/html": [
       "<img src=\"https://d2xdmhkmkbyw75.cloudfront.net/9_thumb.jpg\"/>"
      ],
      "text/plain": [
       "<IPython.core.display.Image object>"
      ]
     },
     "metadata": {},
     "output_type": "display_data"
    },
    {
     "name": "stdout",
     "output_type": "stream",
     "text": [
      "Just BARE Chicken, Hand-Trimmed Boneless, Skinless Chicken Breast Fillets, Family Pack, 2 lb\n"
     ]
    },
    {
     "data": {
      "text/html": [
       "<img src=\"https://d1r9wva3zcpswd.cloudfront.net/58fef631e777387619bf9a9c.jpeg\"/>"
      ],
      "text/plain": [
       "<IPython.core.display.Image object>"
      ]
     },
     "metadata": {},
     "output_type": "display_data"
    },
    {
     "name": "stdout",
     "output_type": "stream",
     "text": [
      "Kashi GOLEAN, Breakfast Cereal, Crunch, Non-GMO Project Verified, 21.3 oz\n"
     ]
    },
    {
     "data": {
      "text/html": [
       "<img src=\"https://d2xdmhkmkbyw75.cloudfront.net/1200_thumb.jpg\"/>"
      ],
      "text/plain": [
       "<IPython.core.display.Image object>"
      ]
     },
     "metadata": {},
     "output_type": "display_data"
    },
    {
     "name": "stdout",
     "output_type": "stream",
     "text": [
      "Mission, 10 Inch Burrito Flour Tortillas, 8 ct, 20 oz\n"
     ]
    },
    {
     "data": {
      "text/html": [
       "<img src=\"https://d2xdmhkmkbyw75.cloudfront.net/1862_thumb.jpg\"/>"
      ],
      "text/plain": [
       "<IPython.core.display.Image object>"
      ]
     },
     "metadata": {},
     "output_type": "display_data"
    },
    {
     "name": "stdout",
     "output_type": "stream",
     "text": [
      "Oroweat 100% Whole Wheat Bread, 1lb and 8oz\n"
     ]
    },
    {
     "data": {
      "text/html": [
       "<img src=\"https://d2xdmhkmkbyw75.cloudfront.net/135_thumb.jpg\"/>"
      ],
      "text/plain": [
       "<IPython.core.display.Image object>"
      ]
     },
     "metadata": {},
     "output_type": "display_data"
    },
    {
     "name": "stdout",
     "output_type": "stream",
     "text": [
      "Garden of Eatin, Red Hot Blues Spicy All Natural Tortilla Chips, 16 oz\n"
     ]
    },
    {
     "data": {
      "text/html": [
       "<img src=\"https://d2xdmhkmkbyw75.cloudfront.net/7938_thumb.jpg\"/>"
      ],
      "text/plain": [
       "<IPython.core.display.Image object>"
      ]
     },
     "metadata": {},
     "output_type": "display_data"
    },
    {
     "name": "stdout",
     "output_type": "stream",
     "text": [
      "Red Seedless Grapes, 2 lb\n"
     ]
    },
    {
     "data": {
      "text/html": [
       "<img src=\"https://d2xdmhkmkbyw75.cloudfront.net/129_thumb.jpg\"/>"
      ],
      "text/plain": [
       "<IPython.core.display.Image object>"
      ]
     },
     "metadata": {},
     "output_type": "display_data"
    },
    {
     "name": "stdout",
     "output_type": "stream",
     "text": [
      "365 Everyday Value Trail Mix, Treasure Hunt, 16 oz\n"
     ]
    },
    {
     "data": {
      "text/html": [
       "<img src=\"https://d2xdmhkmkbyw75.cloudfront.net/140_thumb.jpg\"/>"
      ],
      "text/plain": [
       "<IPython.core.display.Image object>"
      ]
     },
     "metadata": {},
     "output_type": "display_data"
    },
    {
     "name": "stdout",
     "output_type": "stream",
     "text": [
      "Almond Breeze Dairy Free Almondmilk, Unsweetened Vanilla 64 oz\n"
     ]
    },
    {
     "data": {
      "text/html": [
       "<img src=\"https://d2xdmhkmkbyw75.cloudfront.net/1740_thumb.jpg\"/>"
      ],
      "text/plain": [
       "<IPython.core.display.Image object>"
      ]
     },
     "metadata": {},
     "output_type": "display_data"
    },
    {
     "name": "stdout",
     "output_type": "stream",
     "text": [
      "Green Bell Pepper, One\n"
     ]
    },
    {
     "data": {
      "text/html": [
       "<img src=\"https://d2xdmhkmkbyw75.cloudfront.net/717_thumb.jpg\"/>"
      ],
      "text/plain": [
       "<IPython.core.display.Image object>"
      ]
     },
     "metadata": {},
     "output_type": "display_data"
    },
    {
     "name": "stdout",
     "output_type": "stream",
     "text": [
      "Organic Yellow Onion, Large\n"
     ]
    },
    {
     "data": {
      "text/html": [
       "<img src=\"https://d2xdmhkmkbyw75.cloudfront.net/831_thumb.jpg\"/>"
      ],
      "text/plain": [
       "<IPython.core.display.Image object>"
      ]
     },
     "metadata": {},
     "output_type": "display_data"
    },
    {
     "name": "stdout",
     "output_type": "stream",
     "text": [
      "Strawberries, 1 lb\n"
     ]
    },
    {
     "data": {
      "text/html": [
       "<img src=\"https://d1r9wva3zcpswd.cloudfront.net/58fef631e777387619bf9a9c.jpeg\"/>"
      ],
      "text/plain": [
       "<IPython.core.display.Image object>"
      ]
     },
     "metadata": {},
     "output_type": "display_data"
    },
    {
     "name": "stdout",
     "output_type": "stream",
     "text": [
      "Kashi GOLEAN, Breakfast Cereal, Chocolate Crunch, Vegan, Non-GMO Project Verified, 12.2oz\n"
     ]
    },
    {
     "data": {
      "text/html": [
       "<img src=\"https://d2xdmhkmkbyw75.cloudfront.net/644_thumb.jpg\"/>"
      ],
      "text/plain": [
       "<IPython.core.display.Image object>"
      ]
     },
     "metadata": {},
     "output_type": "display_data"
    },
    {
     "name": "stdout",
     "output_type": "stream",
     "text": [
      "Taylor Farms Organic Baby Kale, 5 oz Clamshell\n"
     ]
    },
    {
     "data": {
      "text/html": [
       "<img src=\"https://d2xdmhkmkbyw75.cloudfront.net/8506_thumb.jpg\"/>"
      ],
      "text/plain": [
       "<IPython.core.display.Image object>"
      ]
     },
     "metadata": {},
     "output_type": "display_data"
    },
    {
     "name": "stdout",
     "output_type": "stream",
     "text": [
      "Bagged Hass Avocados, 4ct Small\n"
     ]
    },
    {
     "data": {
      "text/html": [
       "<img src=\"https://d2xdmhkmkbyw75.cloudfront.net/7796_thumb.jpg\"/>"
      ],
      "text/plain": [
       "<IPython.core.display.Image object>"
      ]
     },
     "metadata": {},
     "output_type": "display_data"
    },
    {
     "name": "stdout",
     "output_type": "stream",
     "text": [
      "365 Everyday Value, Smoked Turkey Breast, 7 oz\n"
     ]
    },
    {
     "data": {
      "text/html": [
       "<img src=\"https://d2xdmhkmkbyw75.cloudfront.net/4275_thumb.jpg\"/>"
      ],
      "text/plain": [
       "<IPython.core.display.Image object>"
      ]
     },
     "metadata": {},
     "output_type": "display_data"
    },
    {
     "name": "stdout",
     "output_type": "stream",
     "text": [
      "Sunset Greenhouse One Sweet Cherry Tomatoes, 1 Pint\n"
     ]
    },
    {
     "data": {
      "text/html": [
       "<img src=\"https://d2xdmhkmkbyw75.cloudfront.net/399_thumb.jpg\"/>"
      ],
      "text/plain": [
       "<IPython.core.display.Image object>"
      ]
     },
     "metadata": {},
     "output_type": "display_data"
    },
    {
     "name": "stdout",
     "output_type": "stream",
     "text": [
      "Bananas, 1 bunch (min. 5 ct.)\n"
     ]
    }
   ],
   "source": [
    "load_grocery_list('./demo_list.txt', demo_dict)"
   ]
  },
  {
   "cell_type": "code",
   "execution_count": 94,
   "metadata": {
    "collapsed": false
   },
   "outputs": [],
   "source": [
    "demo_df = pd.DataFrame.from_dict(demo_dict)"
   ]
  },
  {
   "cell_type": "code",
   "execution_count": 95,
   "metadata": {
    "collapsed": false
   },
   "outputs": [
    {
     "data": {
      "text/html": [
       "<div>\n",
       "<table border=\"1\" class=\"dataframe\">\n",
       "  <thead>\n",
       "    <tr style=\"text-align: right;\">\n",
       "      <th></th>\n",
       "      <th>almond</th>\n",
       "      <th>asparagus</th>\n",
       "      <th>baby kale</th>\n",
       "      <th>baby spinach</th>\n",
       "      <th>bananas</th>\n",
       "      <th>ben and jerrys</th>\n",
       "      <th>burrito</th>\n",
       "      <th>cantaloupe</th>\n",
       "      <th>cheddar cheese</th>\n",
       "      <th>cherry tomatoes</th>\n",
       "      <th>...</th>\n",
       "      <th>smoked turkey breast</th>\n",
       "      <th>strawberries</th>\n",
       "      <th>tilapia fillets</th>\n",
       "      <th>tomato</th>\n",
       "      <th>tortilla chips</th>\n",
       "      <th>trail mix</th>\n",
       "      <th>whole milk yogurt</th>\n",
       "      <th>whole wheat bread</th>\n",
       "      <th>yellow onion</th>\n",
       "      <th>zucchini squash</th>\n",
       "    </tr>\n",
       "  </thead>\n",
       "  <tbody>\n",
       "    <tr>\n",
       "      <th>carb</th>\n",
       "      <td>0.27</td>\n",
       "      <td>0.62</td>\n",
       "      <td>7.98</td>\n",
       "      <td>5.15</td>\n",
       "      <td>26.95</td>\n",
       "      <td>47.70</td>\n",
       "      <td>56.32</td>\n",
       "      <td>25.34</td>\n",
       "      <td>7.01</td>\n",
       "      <td>0.66</td>\n",
       "      <td>...</td>\n",
       "      <td>15.28</td>\n",
       "      <td>34.84</td>\n",
       "      <td>0.00</td>\n",
       "      <td>4.78</td>\n",
       "      <td>307.45</td>\n",
       "      <td>202.41</td>\n",
       "      <td>7.92</td>\n",
       "      <td>96.87</td>\n",
       "      <td>12.99</td>\n",
       "      <td>18.30</td>\n",
       "    </tr>\n",
       "    <tr>\n",
       "      <th>fat</th>\n",
       "      <td>0.68</td>\n",
       "      <td>0.03</td>\n",
       "      <td>0.57</td>\n",
       "      <td>0.55</td>\n",
       "      <td>0.39</td>\n",
       "      <td>34.67</td>\n",
       "      <td>16.39</td>\n",
       "      <td>0.59</td>\n",
       "      <td>75.55</td>\n",
       "      <td>0.03</td>\n",
       "      <td>...</td>\n",
       "      <td>5.95</td>\n",
       "      <td>1.36</td>\n",
       "      <td>9.02</td>\n",
       "      <td>0.25</td>\n",
       "      <td>93.80</td>\n",
       "      <td>143.81</td>\n",
       "      <td>5.53</td>\n",
       "      <td>7.94</td>\n",
       "      <td>0.24</td>\n",
       "      <td>2.45</td>\n",
       "    </tr>\n",
       "    <tr>\n",
       "      <th>kcal</th>\n",
       "      <td>7.71</td>\n",
       "      <td>3.30</td>\n",
       "      <td>39.69</td>\n",
       "      <td>32.60</td>\n",
       "      <td>105.02</td>\n",
       "      <td>532.86</td>\n",
       "      <td>433.80</td>\n",
       "      <td>105.57</td>\n",
       "      <td>916.27</td>\n",
       "      <td>3.06</td>\n",
       "      <td>...</td>\n",
       "      <td>222.26</td>\n",
       "      <td>145.15</td>\n",
       "      <td>435.46</td>\n",
       "      <td>22.14</td>\n",
       "      <td>2140.99</td>\n",
       "      <td>2181.87</td>\n",
       "      <td>103.70</td>\n",
       "      <td>571.54</td>\n",
       "      <td>56.32</td>\n",
       "      <td>102.06</td>\n",
       "    </tr>\n",
       "    <tr>\n",
       "      <th>protein</th>\n",
       "      <td>0.27</td>\n",
       "      <td>0.36</td>\n",
       "      <td>2.69</td>\n",
       "      <td>4.05</td>\n",
       "      <td>1.29</td>\n",
       "      <td>7.49</td>\n",
       "      <td>16.94</td>\n",
       "      <td>2.61</td>\n",
       "      <td>51.87</td>\n",
       "      <td>0.15</td>\n",
       "      <td>...</td>\n",
       "      <td>26.79</td>\n",
       "      <td>3.04</td>\n",
       "      <td>88.96</td>\n",
       "      <td>1.08</td>\n",
       "      <td>32.21</td>\n",
       "      <td>64.01</td>\n",
       "      <td>5.90</td>\n",
       "      <td>28.24</td>\n",
       "      <td>1.74</td>\n",
       "      <td>7.76</td>\n",
       "    </tr>\n",
       "  </tbody>\n",
       "</table>\n",
       "<p>4 rows × 42 columns</p>\n",
       "</div>"
      ],
      "text/plain": [
       "         almond  asparagus  baby kale  baby spinach  bananas  ben and jerrys  \\\n",
       "carb       0.27       0.62       7.98          5.15    26.95           47.70   \n",
       "fat        0.68       0.03       0.57          0.55     0.39           34.67   \n",
       "kcal       7.71       3.30      39.69         32.60   105.02          532.86   \n",
       "protein    0.27       0.36       2.69          4.05     1.29            7.49   \n",
       "\n",
       "         burrito  cantaloupe  cheddar cheese  cherry tomatoes  \\\n",
       "carb       56.32       25.34            7.01             0.66   \n",
       "fat        16.39        0.59           75.55             0.03   \n",
       "kcal      433.80      105.57          916.27             3.06   \n",
       "protein    16.94        2.61           51.87             0.15   \n",
       "\n",
       "              ...         smoked turkey breast  strawberries  tilapia fillets  \\\n",
       "carb          ...                        15.28         34.84             0.00   \n",
       "fat           ...                         5.95          1.36             9.02   \n",
       "kcal          ...                       222.26        145.15           435.46   \n",
       "protein       ...                        26.79          3.04            88.96   \n",
       "\n",
       "         tomato  tortilla chips  trail mix  whole milk yogurt  \\\n",
       "carb       4.78          307.45     202.41               7.92   \n",
       "fat        0.25           93.80     143.81               5.53   \n",
       "kcal      22.14         2140.99    2181.87             103.70   \n",
       "protein    1.08           32.21      64.01               5.90   \n",
       "\n",
       "         whole wheat bread  yellow onion  zucchini squash  \n",
       "carb                 96.87         12.99            18.30  \n",
       "fat                   7.94          0.24             2.45  \n",
       "kcal                571.54         56.32           102.06  \n",
       "protein              28.24          1.74             7.76  \n",
       "\n",
       "[4 rows x 42 columns]"
      ]
     },
     "execution_count": 95,
     "metadata": {},
     "output_type": "execute_result"
    }
   ],
   "source": [
    "demo_df.head()"
   ]
  },
  {
   "cell_type": "code",
   "execution_count": 115,
   "metadata": {
    "collapsed": true
   },
   "outputs": [],
   "source": [
    "from PIL import Image\n",
    "import requests\n",
    "from io import BytesIO\n",
    "from matplotlib.pyplot import imshow\n",
    "import numpy as np\n",
    "% matplotlib inline"
   ]
  },
  {
   "cell_type": "code",
   "execution_count": 98,
   "metadata": {
    "collapsed": false
   },
   "outputs": [],
   "source": [
    "url_img = \"https://d2xdmhkmkbyw75.cloudfront.net/451_thumb.jpg\"\n",
    "response = requests.get(url)\n",
    "img = Image.open(BytesIO(response.content))"
   ]
  },
  {
   "cell_type": "code",
   "execution_count": 99,
   "metadata": {
    "collapsed": false
   },
   "outputs": [
    {
     "data": {
      "image/png": "[encoded data removed]",
      "text/plain": [
       "<PIL.JpegImagePlugin.JpegImageFile image mode=RGB size=150x150 at 0x1E3699C0400>"
      ]
     },
     "execution_count": 99,
     "metadata": {},
     "output_type": "execute_result"
    }
   ],
   "source": [
    "img"
   ]
  }
 ],
 "metadata": {
  "anaconda-cloud": {},
  "kernelspec": {
   "display_name": "Python [conda root]",
   "language": "python",
   "name": "conda-root-py"
  },
  "language_info": {
   "codemirror_mode": {
    "name": "ipython",
    "version": 3
   },
   "file_extension": ".py",
   "mimetype": "text/x-python",
   "name": "python",
   "nbconvert_exporter": "python",
   "pygments_lexer": "ipython3",
   "version": "3.5.2"
  }
 },
 "nbformat": 4,
 "nbformat_minor": 1
}
