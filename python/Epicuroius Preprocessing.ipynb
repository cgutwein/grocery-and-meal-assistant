{
 "cells": [
  {
   "cell_type": "code",
   "execution_count": 89,
   "metadata": {
    "collapsed": true
   },
   "outputs": [],
   "source": [
    "import pandas as pd\n",
    "import numpy as np"
   ]
  },
  {
   "cell_type": "markdown",
   "metadata": {},
   "source": [
    "### Read the initial Epicurious dataset with recipes"
   ]
  },
  {
   "cell_type": "code",
   "execution_count": 6,
   "metadata": {
    "collapsed": true
   },
   "outputs": [],
   "source": [
    "import json\n",
    "from pprint import pprint"
   ]
  },
  {
   "cell_type": "code",
   "execution_count": 7,
   "metadata": {
    "collapsed": true
   },
   "outputs": [],
   "source": [
    "with open('epicurious/full_format_recipes.json') as f:\n",
    "    recipes = json.load(f)"
   ]
  },
  {
   "cell_type": "code",
   "execution_count": 8,
   "metadata": {
    "collapsed": true
   },
   "outputs": [],
   "source": [
    "recipes=[x for x in recipes if len(x)>0]"
   ]
  },
  {
   "cell_type": "code",
   "execution_count": 9,
   "metadata": {},
   "outputs": [
    {
     "data": {
      "text/plain": [
       "20111"
      ]
     },
     "execution_count": 9,
     "metadata": {},
     "output_type": "execute_result"
    }
   ],
   "source": [
    "len(recipes)"
   ]
  },
  {
   "cell_type": "code",
   "execution_count": 182,
   "metadata": {},
   "outputs": [
    {
     "data": {
      "text/plain": [
       "{'calories': 426.0,\n",
       " 'categories': ['sandwich',\n",
       "  'bean',\n",
       "  'fruit',\n",
       "  'tomato',\n",
       "  'turkey',\n",
       "  'vegetable',\n",
       "  'kid-friendly',\n",
       "  'apple',\n",
       "  'lentil',\n",
       "  'lettuce',\n",
       "  'cookie'],\n",
       " 'date': '2006-09-01T04:00:00.000Z',\n",
       " 'desc': None,\n",
       " 'directions': ['1. Place the stock, lentils, celery, carrot, thyme, and salt in a medium saucepan and bring to a boil. Reduce heat to low and simmer until the lentils are tender, about 30 minutes, depending on the lentils. (If they begin to dry out, add water as needed.) Remove and discard the thyme. Drain and transfer the mixture to a bowl; let cool.',\n",
       "  '2. Fold in the tomato, apple, lemon juice, and olive oil. Season with the pepper.',\n",
       "  '3. To assemble a wrap, place 1 lavash sheet on a clean work surface. Spread some of the lentil mixture on the end nearest you, leaving a 1-inch border. Top with several slices of turkey, then some of the lettuce. Roll up the lavash, slice crosswise, and serve. If using tortillas, spread the lentils in the center, top with the turkey and lettuce, and fold up the bottom, left side, and right side before rolling away from you.'],\n",
       " 'fat': 7.0,\n",
       " 'ingredients': ['4 cups low-sodium vegetable or chicken stock',\n",
       "  '1 cup dried brown lentils',\n",
       "  '1/2 cup dried French green lentils',\n",
       "  '2 stalks celery, chopped',\n",
       "  '1 large carrot, peeled and chopped',\n",
       "  '1 sprig fresh thyme',\n",
       "  '1 teaspoon kosher salt',\n",
       "  '1 medium tomato, cored, seeded, and diced',\n",
       "  '1 small Fuji apple, cored and diced',\n",
       "  '1 tablespoon freshly squeezed lemon juice',\n",
       "  '2 teaspoons extra-virgin olive oil',\n",
       "  'Freshly ground black pepper to taste',\n",
       "  '3 sheets whole-wheat lavash, cut in half crosswise, or 6 (12-inch) flour tortillas',\n",
       "  '3/4 pound turkey breast, thinly sliced',\n",
       "  '1/2 head Bibb lettuce'],\n",
       " 'ingredients_short': ['chicken stock',\n",
       "  'brown lentils',\n",
       "  'green lentil',\n",
       "  'celery',\n",
       "  'carrot',\n",
       "  'fresh thyme',\n",
       "  'kosher salt',\n",
       "  'tomato',\n",
       "  'fuji apple',\n",
       "  'lemon juice',\n",
       "  'extra-virgin olive oil',\n",
       "  'ground black pepper',\n",
       "  'flour tortillas',\n",
       "  'turkey breast',\n",
       "  'bibb lettuce'],\n",
       " 'protein': 30.0,\n",
       " 'rating': 2.5,\n",
       " 'sodium': 559.0,\n",
       " 'title': 'Lentil, Apple, and Turkey Wrap '}"
      ]
     },
     "execution_count": 182,
     "metadata": {},
     "output_type": "execute_result"
    }
   ],
   "source": [
    "recipes[0]"
   ]
  },
  {
   "cell_type": "markdown",
   "metadata": {},
   "source": [
    "### Upload the ingredients from \"What's cooking dataset\" to extract ingredients from recipes\n"
   ]
  },
  {
   "cell_type": "code",
   "execution_count": 71,
   "metadata": {
    "collapsed": true
   },
   "outputs": [],
   "source": [
    "with open('cooking.json') as f:\n",
    "    cooking = json.load(f)"
   ]
  },
  {
   "cell_type": "code",
   "execution_count": 68,
   "metadata": {},
   "outputs": [
    {
     "name": "stdout",
     "output_type": "stream",
     "text": [
      "apple\n"
     ]
    }
   ],
   "source": [
    "#Stem ingredient names from \"what's cooking dataset\"\n",
    "\n",
    "from nltk.stem import WordNetLemmatizer\n",
    "\n",
    "lemmatizer = WordNetLemmatizer()\n",
    "\n",
    "print(lemmatizer.lemmatize(\"apples\"))"
   ]
  },
  {
   "cell_type": "code",
   "execution_count": 72,
   "metadata": {
    "collapsed": true
   },
   "outputs": [],
   "source": [
    "#@ Obtain the clean list of ingredients\n",
    "ing=[]\n",
    "\n",
    "for x in cooking:\n",
    "    ing.extend(x['ingredients'])\n",
    "    \n",
    "ing=set(ing)\n",
    "\n",
    "cooking=[]\n",
    "for x in ing:\n",
    "    cooking.append(lemmatizer.lemmatize(x))"
   ]
  },
  {
   "cell_type": "code",
   "execution_count": 73,
   "metadata": {
    "collapsed": true
   },
   "outputs": [],
   "source": [
    "cooking=[x.lower() for x in cooking]"
   ]
  },
  {
   "cell_type": "code",
   "execution_count": 74,
   "metadata": {
    "collapsed": true
   },
   "outputs": [],
   "source": [
    "cooking=list(set(cooking))"
   ]
  },
  {
   "cell_type": "code",
   "execution_count": 75,
   "metadata": {},
   "outputs": [
    {
     "data": {
      "text/plain": [
       "6703"
      ]
     },
     "execution_count": 75,
     "metadata": {},
     "output_type": "execute_result"
    }
   ],
   "source": [
    "len(cooking)"
   ]
  },
  {
   "cell_type": "markdown",
   "metadata": {},
   "source": [
    "### Extract ingredients from recipes and record them as \"ingredients_short\" in json file"
   ]
  },
  {
   "cell_type": "code",
   "execution_count": 76,
   "metadata": {
    "collapsed": true
   },
   "outputs": [],
   "source": [
    "no_ingredient=[]"
   ]
  },
  {
   "cell_type": "code",
   "execution_count": 77,
   "metadata": {
    "collapsed": true
   },
   "outputs": [],
   "source": [
    "def extract(x):\n",
    "    a=[]\n",
    "    for ing in cooking:\n",
    "        if ing in x.lower():\n",
    "            a.append(ing)\n",
    "    if len(a)>1:\n",
    "        a=max(a, key=len)    \n",
    "    elif len(a)==1:\n",
    "        a=a[0]\n",
    "    elif len(a)==0:\n",
    "        a='no ingredient'\n",
    "        no_ingredient.append(x)\n",
    "    return a"
   ]
  },
  {
   "cell_type": "code",
   "execution_count": 78,
   "metadata": {
    "collapsed": true
   },
   "outputs": [],
   "source": [
    "for i in range(len(recipes)):\n",
    "    try:\n",
    "        b=recipes[i]['ingredients']\n",
    "        n=[]\n",
    "        for bb in b:\n",
    "            n.append(extract(bb))\n",
    "        recipes[i]['ingredients_short']=n\n",
    "    except:\n",
    "        continue"
   ]
  },
  {
   "cell_type": "code",
   "execution_count": 79,
   "metadata": {
    "collapsed": true
   },
   "outputs": [],
   "source": [
    "cooking.extend(['mayonnaise', 'parmesan', 'feta', 'cashews','cheddar', 'berries','Grand Marnier','cranberries','grated parmesan', \n",
    "                'gruyère', 'strawberries', 'bourbon', 'blueberries', 'pecorino', 'crème fraîche', 'raspberries', \n",
    "                'fettuccine', 'marsala','macaroon', 'tabasco', 'cherries', 'mozzarella', 'romaine', 'crème de menthe', \n",
    "                'crème de cacao', 'créme fraîche', 'crème de cassis', 'curaçao'])"
   ]
  },
  {
   "cell_type": "code",
   "execution_count": 82,
   "metadata": {
    "collapsed": true
   },
   "outputs": [],
   "source": [
    "cooking=list(set(cooking))"
   ]
  },
  {
   "cell_type": "code",
   "execution_count": 83,
   "metadata": {},
   "outputs": [
    {
     "data": {
      "text/plain": [
       "6731"
      ]
     },
     "execution_count": 83,
     "metadata": {},
     "output_type": "execute_result"
    }
   ],
   "source": [
    "len(cooking)"
   ]
  },
  {
   "cell_type": "code",
   "execution_count": 84,
   "metadata": {
    "collapsed": true
   },
   "outputs": [],
   "source": [
    "for i  in range(len(recipes)):\n",
    "    recipes[i]['categories']=[x.lower() for x in recipes[i]['categories']]"
   ]
  },
  {
   "cell_type": "code",
   "execution_count": null,
   "metadata": {
    "collapsed": true
   },
   "outputs": [],
   "source": [
    "with open('recipes.json', 'w') as outfile:\n",
    "    json.dump(recipes, outfile)"
   ]
  },
  {
   "cell_type": "markdown",
   "metadata": {},
   "source": [
    "### Non-key ingredients (spices)"
   ]
  },
  {
   "cell_type": "code",
   "execution_count": 12,
   "metadata": {
    "collapsed": true
   },
   "outputs": [],
   "source": [
    "spices=pd.read_csv(\"spices.csv\")"
   ]
  },
  {
   "cell_type": "code",
   "execution_count": 14,
   "metadata": {
    "collapsed": true
   },
   "outputs": [],
   "source": [
    "spices=list(spices['spices'])"
   ]
  },
  {
   "cell_type": "code",
   "execution_count": 26,
   "metadata": {
    "collapsed": true
   },
   "outputs": [],
   "source": [
    "spices=[x.lower() for x in spices]"
   ]
  },
  {
   "cell_type": "code",
   "execution_count": 36,
   "metadata": {
    "collapsed": true
   },
   "outputs": [],
   "source": [
    "spices.remove('avocado')"
   ]
  },
  {
   "cell_type": "code",
   "execution_count": null,
   "metadata": {
    "collapsed": true
   },
   "outputs": [],
   "source": [
    "spices=list(set(spices))"
   ]
  },
  {
   "cell_type": "code",
   "execution_count": 125,
   "metadata": {},
   "outputs": [],
   "source": [
    "spices=[x for x in spices if x in data_short.columns]"
   ]
  },
  {
   "cell_type": "code",
   "execution_count": 185,
   "metadata": {},
   "outputs": [],
   "source": [
    "pd.DataFrame(spices, columns=['spices']).to_csv('spices.csv', encoding=\"UTF-8\")"
   ]
  },
  {
   "cell_type": "markdown",
   "metadata": {},
   "source": [
    "### Create the data new dataset with all ingredients and nutrition information (data.csv)"
   ]
  },
  {
   "cell_type": "code",
   "execution_count": 85,
   "metadata": {
    "collapsed": true
   },
   "outputs": [],
   "source": [
    "# Extract ingredients present in the Epicurious dataset\n",
    "new_ingredients=[]\n",
    "for x in recipes:\n",
    "    try:\n",
    "        new_ingredients.extend(x['ingredients_short'])\n",
    "    except:\n",
    "        continue"
   ]
  },
  {
   "cell_type": "code",
   "execution_count": 86,
   "metadata": {},
   "outputs": [
    {
     "data": {
      "text/plain": [
       "3678"
      ]
     },
     "execution_count": 86,
     "metadata": {},
     "output_type": "execute_result"
    }
   ],
   "source": [
    "new_ingredients=list(set(new_ingredients))\n",
    "\n",
    "len(new_ingredients)"
   ]
  },
  {
   "cell_type": "code",
   "execution_count": null,
   "metadata": {
    "collapsed": true
   },
   "outputs": [],
   "source": []
  },
  {
   "cell_type": "code",
   "execution_count": null,
   "metadata": {
    "collapsed": true
   },
   "outputs": [],
   "source": [
    "data[x]=pd.Series([1 if x in recipes[i][\"ingredients_short\"] else 0 for i in range(len(recipes))] )"
   ]
  },
  {
   "cell_type": "code",
   "execution_count": 740,
   "metadata": {
    "collapsed": true
   },
   "outputs": [],
   "source": [
    "data=pd.DataFrame([[1 if new_ingredients[j] in recipes[i][\"ingredients_short\"] else 0 for j in range(len(new_ingredients))] \n",
    "                   for i in range(len(recipes))])"
   ]
  },
  {
   "cell_type": "code",
   "execution_count": 741,
   "metadata": {
    "collapsed": true
   },
   "outputs": [],
   "source": [
    "data.columns=new_ingredients"
   ]
  },
  {
   "cell_type": "code",
   "execution_count": 742,
   "metadata": {
    "collapsed": true
   },
   "outputs": [],
   "source": [
    "data['title']=pd.Series([x['title'] for x in recipes])"
   ]
  },
  {
   "cell_type": "code",
   "execution_count": 743,
   "metadata": {
    "collapsed": true
   },
   "outputs": [],
   "source": [
    "t=['title']\n",
    "t.extend(data.columns[:-1])\n",
    "data=data[t]"
   ]
  },
  {
   "cell_type": "code",
   "execution_count": 744,
   "metadata": {},
   "outputs": [
    {
     "data": {
      "text/html": [
       "<div>\n",
       "<style>\n",
       "    .dataframe thead tr:only-child th {\n",
       "        text-align: right;\n",
       "    }\n",
       "\n",
       "    .dataframe thead th {\n",
       "        text-align: left;\n",
       "    }\n",
       "\n",
       "    .dataframe tbody tr th {\n",
       "        vertical-align: top;\n",
       "    }\n",
       "</style>\n",
       "<table border=\"1\" class=\"dataframe\">\n",
       "  <thead>\n",
       "    <tr style=\"text-align: right;\">\n",
       "      <th></th>\n",
       "      <th>title</th>\n",
       "      <th>cremini mushrooms</th>\n",
       "      <th>caramel</th>\n",
       "      <th>orecchiette</th>\n",
       "      <th>maldon sea salt</th>\n",
       "      <th>baby bok choy</th>\n",
       "      <th>sliced mushrooms</th>\n",
       "      <th>pimenton</th>\n",
       "      <th>radish</th>\n",
       "      <th>mortadella</th>\n",
       "      <th>...</th>\n",
       "      <th>strip loin</th>\n",
       "      <th>bouquet garni</th>\n",
       "      <th>green chard</th>\n",
       "      <th>guajillo</th>\n",
       "      <th>crumb topping</th>\n",
       "      <th>toast points</th>\n",
       "      <th>coffee</th>\n",
       "      <th>asian noodles</th>\n",
       "      <th>oatmeal</th>\n",
       "      <th>refried beans</th>\n",
       "    </tr>\n",
       "  </thead>\n",
       "  <tbody>\n",
       "    <tr>\n",
       "      <th>0</th>\n",
       "      <td>Lentil, Apple, and Turkey Wrap</td>\n",
       "      <td>0</td>\n",
       "      <td>0</td>\n",
       "      <td>0</td>\n",
       "      <td>0</td>\n",
       "      <td>0</td>\n",
       "      <td>0</td>\n",
       "      <td>0</td>\n",
       "      <td>0</td>\n",
       "      <td>0</td>\n",
       "      <td>...</td>\n",
       "      <td>0</td>\n",
       "      <td>0</td>\n",
       "      <td>0</td>\n",
       "      <td>0</td>\n",
       "      <td>0</td>\n",
       "      <td>0</td>\n",
       "      <td>0</td>\n",
       "      <td>0</td>\n",
       "      <td>0</td>\n",
       "      <td>0</td>\n",
       "    </tr>\n",
       "    <tr>\n",
       "      <th>1</th>\n",
       "      <td>Boudin Blanc Terrine with Red Onion Confit</td>\n",
       "      <td>0</td>\n",
       "      <td>0</td>\n",
       "      <td>0</td>\n",
       "      <td>0</td>\n",
       "      <td>0</td>\n",
       "      <td>0</td>\n",
       "      <td>0</td>\n",
       "      <td>0</td>\n",
       "      <td>0</td>\n",
       "      <td>...</td>\n",
       "      <td>0</td>\n",
       "      <td>0</td>\n",
       "      <td>0</td>\n",
       "      <td>0</td>\n",
       "      <td>0</td>\n",
       "      <td>0</td>\n",
       "      <td>0</td>\n",
       "      <td>0</td>\n",
       "      <td>0</td>\n",
       "      <td>0</td>\n",
       "    </tr>\n",
       "    <tr>\n",
       "      <th>2</th>\n",
       "      <td>Potato and Fennel Soup Hodge</td>\n",
       "      <td>0</td>\n",
       "      <td>0</td>\n",
       "      <td>0</td>\n",
       "      <td>0</td>\n",
       "      <td>0</td>\n",
       "      <td>0</td>\n",
       "      <td>0</td>\n",
       "      <td>0</td>\n",
       "      <td>0</td>\n",
       "      <td>...</td>\n",
       "      <td>0</td>\n",
       "      <td>0</td>\n",
       "      <td>0</td>\n",
       "      <td>0</td>\n",
       "      <td>0</td>\n",
       "      <td>0</td>\n",
       "      <td>0</td>\n",
       "      <td>0</td>\n",
       "      <td>0</td>\n",
       "      <td>0</td>\n",
       "    </tr>\n",
       "    <tr>\n",
       "      <th>3</th>\n",
       "      <td>Mahi-Mahi in Tomato Olive Sauce</td>\n",
       "      <td>0</td>\n",
       "      <td>0</td>\n",
       "      <td>0</td>\n",
       "      <td>0</td>\n",
       "      <td>0</td>\n",
       "      <td>0</td>\n",
       "      <td>0</td>\n",
       "      <td>0</td>\n",
       "      <td>0</td>\n",
       "      <td>...</td>\n",
       "      <td>0</td>\n",
       "      <td>0</td>\n",
       "      <td>0</td>\n",
       "      <td>0</td>\n",
       "      <td>0</td>\n",
       "      <td>0</td>\n",
       "      <td>0</td>\n",
       "      <td>0</td>\n",
       "      <td>0</td>\n",
       "      <td>0</td>\n",
       "    </tr>\n",
       "    <tr>\n",
       "      <th>4</th>\n",
       "      <td>Spinach Noodle Casserole</td>\n",
       "      <td>0</td>\n",
       "      <td>0</td>\n",
       "      <td>0</td>\n",
       "      <td>0</td>\n",
       "      <td>0</td>\n",
       "      <td>0</td>\n",
       "      <td>0</td>\n",
       "      <td>0</td>\n",
       "      <td>0</td>\n",
       "      <td>...</td>\n",
       "      <td>0</td>\n",
       "      <td>0</td>\n",
       "      <td>0</td>\n",
       "      <td>0</td>\n",
       "      <td>0</td>\n",
       "      <td>0</td>\n",
       "      <td>0</td>\n",
       "      <td>0</td>\n",
       "      <td>0</td>\n",
       "      <td>0</td>\n",
       "    </tr>\n",
       "  </tbody>\n",
       "</table>\n",
       "<p>5 rows × 3708 columns</p>\n",
       "</div>"
      ],
      "text/plain": [
       "                                         title  cremini mushrooms  caramel  \\\n",
       "0              Lentil, Apple, and Turkey Wrap                   0        0   \n",
       "1  Boudin Blanc Terrine with Red Onion Confit                   0        0   \n",
       "2                Potato and Fennel Soup Hodge                   0        0   \n",
       "3             Mahi-Mahi in Tomato Olive Sauce                   0        0   \n",
       "4                    Spinach Noodle Casserole                   0        0   \n",
       "\n",
       "   orecchiette  maldon sea salt  baby bok choy  sliced mushrooms  pimenton  \\\n",
       "0            0                0              0                 0         0   \n",
       "1            0                0              0                 0         0   \n",
       "2            0                0              0                 0         0   \n",
       "3            0                0              0                 0         0   \n",
       "4            0                0              0                 0         0   \n",
       "\n",
       "   radish  mortadella      ...        strip loin  bouquet garni  green chard  \\\n",
       "0       0           0      ...                 0              0            0   \n",
       "1       0           0      ...                 0              0            0   \n",
       "2       0           0      ...                 0              0            0   \n",
       "3       0           0      ...                 0              0            0   \n",
       "4       0           0      ...                 0              0            0   \n",
       "\n",
       "   guajillo  crumb topping  toast points  coffee  asian noodles  oatmeal  \\\n",
       "0         0              0             0       0              0        0   \n",
       "1         0              0             0       0              0        0   \n",
       "2         0              0             0       0              0        0   \n",
       "3         0              0             0       0              0        0   \n",
       "4         0              0             0       0              0        0   \n",
       "\n",
       "   refried beans  \n",
       "0              0  \n",
       "1              0  \n",
       "2              0  \n",
       "3              0  \n",
       "4              0  \n",
       "\n",
       "[5 rows x 3708 columns]"
      ]
     },
     "execution_count": 744,
     "metadata": {},
     "output_type": "execute_result"
    }
   ],
   "source": [
    "data.head()"
   ]
  },
  {
   "cell_type": "code",
   "execution_count": 745,
   "metadata": {
    "collapsed": true
   },
   "outputs": [],
   "source": [
    "# nutritional value\n",
    "data['calories']=pd.Series([x['calories'] for x in recipes])\n",
    "data['protein']=pd.Series([x['protein'] for x in recipes])\n",
    "data['fat']=pd.Series([x['fat'] for x in recipes])\n",
    "data['carbs']=(data['calories']-data['fat']*9-data['protein']*4)/4\n",
    "data['sodium']=pd.Series([x['sodium'] for x in recipes])"
   ]
  },
  {
   "cell_type": "code",
   "execution_count": 746,
   "metadata": {
    "collapsed": true
   },
   "outputs": [],
   "source": [
    "# of steps to create the dish (for complexity measure)\n",
    "data['steps']=pd.Series([len(x['directions']) for x in recipes])"
   ]
  },
  {
   "cell_type": "code",
   "execution_count": 747,
   "metadata": {
    "collapsed": true
   },
   "outputs": [],
   "source": [
    "# meal type\n",
    "data['breakfast']=pd.Series([int('breakfast' in x['categories']) for x in recipes])\n",
    "data['lunch']=pd.Series([int('lunch' in x['categories']) for x in recipes])\n",
    "data['dinner']=pd.Series([int('dinner' in x['categories']) for x in recipes])\n",
    "data['snack']=pd.Series([int('snack' in x['categories']) for x in recipes])\n",
    "data['drink']=pd.Series([int(('drink' in x['categories'])|('drinks' in x['categories'])) for x in recipes])\n"
   ]
  },
  {
   "cell_type": "code",
   "execution_count": 748,
   "metadata": {},
   "outputs": [
    {
     "data": {
      "text/html": [
       "<div>\n",
       "<style>\n",
       "    .dataframe thead tr:only-child th {\n",
       "        text-align: right;\n",
       "    }\n",
       "\n",
       "    .dataframe thead th {\n",
       "        text-align: left;\n",
       "    }\n",
       "\n",
       "    .dataframe tbody tr th {\n",
       "        vertical-align: top;\n",
       "    }\n",
       "</style>\n",
       "<table border=\"1\" class=\"dataframe\">\n",
       "  <thead>\n",
       "    <tr style=\"text-align: right;\">\n",
       "      <th></th>\n",
       "      <th>title</th>\n",
       "      <th>cremini mushrooms</th>\n",
       "      <th>caramel</th>\n",
       "      <th>orecchiette</th>\n",
       "      <th>maldon sea salt</th>\n",
       "      <th>baby bok choy</th>\n",
       "      <th>sliced mushrooms</th>\n",
       "      <th>pimenton</th>\n",
       "      <th>radish</th>\n",
       "      <th>mortadella</th>\n",
       "      <th>...</th>\n",
       "      <th>calories</th>\n",
       "      <th>protein</th>\n",
       "      <th>carbs</th>\n",
       "      <th>sodium</th>\n",
       "      <th>steps</th>\n",
       "      <th>breakfast</th>\n",
       "      <th>lunch</th>\n",
       "      <th>dinner</th>\n",
       "      <th>snack</th>\n",
       "      <th>drink</th>\n",
       "    </tr>\n",
       "  </thead>\n",
       "  <tbody>\n",
       "    <tr>\n",
       "      <th>0</th>\n",
       "      <td>Lentil, Apple, and Turkey Wrap</td>\n",
       "      <td>0</td>\n",
       "      <td>0</td>\n",
       "      <td>0</td>\n",
       "      <td>0</td>\n",
       "      <td>0</td>\n",
       "      <td>0</td>\n",
       "      <td>0</td>\n",
       "      <td>0</td>\n",
       "      <td>0</td>\n",
       "      <td>...</td>\n",
       "      <td>426.0</td>\n",
       "      <td>30.0</td>\n",
       "      <td>60.75</td>\n",
       "      <td>559.0</td>\n",
       "      <td>3</td>\n",
       "      <td>0</td>\n",
       "      <td>0</td>\n",
       "      <td>0</td>\n",
       "      <td>0</td>\n",
       "      <td>0</td>\n",
       "    </tr>\n",
       "    <tr>\n",
       "      <th>1</th>\n",
       "      <td>Boudin Blanc Terrine with Red Onion Confit</td>\n",
       "      <td>0</td>\n",
       "      <td>0</td>\n",
       "      <td>0</td>\n",
       "      <td>0</td>\n",
       "      <td>0</td>\n",
       "      <td>0</td>\n",
       "      <td>0</td>\n",
       "      <td>0</td>\n",
       "      <td>0</td>\n",
       "      <td>...</td>\n",
       "      <td>403.0</td>\n",
       "      <td>18.0</td>\n",
       "      <td>31.00</td>\n",
       "      <td>1439.0</td>\n",
       "      <td>5</td>\n",
       "      <td>0</td>\n",
       "      <td>0</td>\n",
       "      <td>0</td>\n",
       "      <td>0</td>\n",
       "      <td>0</td>\n",
       "    </tr>\n",
       "    <tr>\n",
       "      <th>2</th>\n",
       "      <td>Potato and Fennel Soup Hodge</td>\n",
       "      <td>0</td>\n",
       "      <td>0</td>\n",
       "      <td>0</td>\n",
       "      <td>0</td>\n",
       "      <td>0</td>\n",
       "      <td>0</td>\n",
       "      <td>0</td>\n",
       "      <td>0</td>\n",
       "      <td>0</td>\n",
       "      <td>...</td>\n",
       "      <td>165.0</td>\n",
       "      <td>6.0</td>\n",
       "      <td>19.50</td>\n",
       "      <td>165.0</td>\n",
       "      <td>2</td>\n",
       "      <td>0</td>\n",
       "      <td>0</td>\n",
       "      <td>0</td>\n",
       "      <td>0</td>\n",
       "      <td>0</td>\n",
       "    </tr>\n",
       "    <tr>\n",
       "      <th>3</th>\n",
       "      <td>Mahi-Mahi in Tomato Olive Sauce</td>\n",
       "      <td>0</td>\n",
       "      <td>0</td>\n",
       "      <td>0</td>\n",
       "      <td>0</td>\n",
       "      <td>0</td>\n",
       "      <td>0</td>\n",
       "      <td>0</td>\n",
       "      <td>0</td>\n",
       "      <td>0</td>\n",
       "      <td>...</td>\n",
       "      <td>NaN</td>\n",
       "      <td>NaN</td>\n",
       "      <td>NaN</td>\n",
       "      <td>NaN</td>\n",
       "      <td>2</td>\n",
       "      <td>0</td>\n",
       "      <td>0</td>\n",
       "      <td>1</td>\n",
       "      <td>0</td>\n",
       "      <td>0</td>\n",
       "    </tr>\n",
       "    <tr>\n",
       "      <th>4</th>\n",
       "      <td>Spinach Noodle Casserole</td>\n",
       "      <td>0</td>\n",
       "      <td>0</td>\n",
       "      <td>0</td>\n",
       "      <td>0</td>\n",
       "      <td>0</td>\n",
       "      <td>0</td>\n",
       "      <td>0</td>\n",
       "      <td>0</td>\n",
       "      <td>0</td>\n",
       "      <td>...</td>\n",
       "      <td>547.0</td>\n",
       "      <td>20.0</td>\n",
       "      <td>44.75</td>\n",
       "      <td>452.0</td>\n",
       "      <td>1</td>\n",
       "      <td>0</td>\n",
       "      <td>0</td>\n",
       "      <td>0</td>\n",
       "      <td>0</td>\n",
       "      <td>0</td>\n",
       "    </tr>\n",
       "  </tbody>\n",
       "</table>\n",
       "<p>5 rows × 3718 columns</p>\n",
       "</div>"
      ],
      "text/plain": [
       "                                         title  cremini mushrooms  caramel  \\\n",
       "0              Lentil, Apple, and Turkey Wrap                   0        0   \n",
       "1  Boudin Blanc Terrine with Red Onion Confit                   0        0   \n",
       "2                Potato and Fennel Soup Hodge                   0        0   \n",
       "3             Mahi-Mahi in Tomato Olive Sauce                   0        0   \n",
       "4                    Spinach Noodle Casserole                   0        0   \n",
       "\n",
       "   orecchiette  maldon sea salt  baby bok choy  sliced mushrooms  pimenton  \\\n",
       "0            0                0              0                 0         0   \n",
       "1            0                0              0                 0         0   \n",
       "2            0                0              0                 0         0   \n",
       "3            0                0              0                 0         0   \n",
       "4            0                0              0                 0         0   \n",
       "\n",
       "   radish  mortadella  ...    calories  protein  carbs  sodium  steps  \\\n",
       "0       0           0  ...       426.0     30.0  60.75   559.0      3   \n",
       "1       0           0  ...       403.0     18.0  31.00  1439.0      5   \n",
       "2       0           0  ...       165.0      6.0  19.50   165.0      2   \n",
       "3       0           0  ...         NaN      NaN    NaN     NaN      2   \n",
       "4       0           0  ...       547.0     20.0  44.75   452.0      1   \n",
       "\n",
       "   breakfast  lunch  dinner  snack  drink  \n",
       "0          0      0       0      0      0  \n",
       "1          0      0       0      0      0  \n",
       "2          0      0       0      0      0  \n",
       "3          0      0       1      0      0  \n",
       "4          0      0       0      0      0  \n",
       "\n",
       "[5 rows x 3718 columns]"
      ]
     },
     "execution_count": 748,
     "metadata": {},
     "output_type": "execute_result"
    }
   ],
   "source": [
    "data.head()"
   ]
  },
  {
   "cell_type": "code",
   "execution_count": 749,
   "metadata": {
    "collapsed": true
   },
   "outputs": [],
   "source": [
    "def get_meal(x):\n",
    "    if sum(x[['breakfast', 'lunch', 'dinner', 'snack', 'drink']])==0:\n",
    "        return 0\n",
    "    else:\n",
    "        return x[['breakfast', 'lunch', 'dinner', 'snack', 'drink']].argmax()\n",
    "\n",
    "data['meal']=pd.Series([get_meal(data.loc[i]) for i in data.index])"
   ]
  },
  {
   "cell_type": "markdown",
   "metadata": {},
   "source": [
    "### Training to define meal types of all recipes"
   ]
  },
  {
   "cell_type": "code",
   "execution_count": 750,
   "metadata": {
    "collapsed": true
   },
   "outputs": [],
   "source": [
    "train=data[data.meal!=0]"
   ]
  },
  {
   "cell_type": "code",
   "execution_count": 751,
   "metadata": {},
   "outputs": [
    {
     "name": "stderr",
     "output_type": "stream",
     "text": [
      "C:\\Users\\vnuretdi\\Anaconda3\\lib\\site-packages\\ipykernel_launcher.py:2: SettingWithCopyWarning: \n",
      "A value is trying to be set on a copy of a slice from a DataFrame\n",
      "\n",
      "See the caveats in the documentation: http://pandas.pydata.org/pandas-docs/stable/indexing.html#indexing-view-versus-copy\n",
      "  \n"
     ]
    }
   ],
   "source": [
    "train.drop(['breakfast', 'lunch', 'dinner', 'snack', 'drink', \n",
    "            'calories','protein','carbs','fat','sodium','steps'], axis=1, inplace=True)"
   ]
  },
  {
   "cell_type": "code",
   "execution_count": 752,
   "metadata": {},
   "outputs": [
    {
     "data": {
      "text/html": [
       "<div>\n",
       "<style>\n",
       "    .dataframe thead tr:only-child th {\n",
       "        text-align: right;\n",
       "    }\n",
       "\n",
       "    .dataframe thead th {\n",
       "        text-align: left;\n",
       "    }\n",
       "\n",
       "    .dataframe tbody tr th {\n",
       "        vertical-align: top;\n",
       "    }\n",
       "</style>\n",
       "<table border=\"1\" class=\"dataframe\">\n",
       "  <thead>\n",
       "    <tr style=\"text-align: right;\">\n",
       "      <th></th>\n",
       "      <th>title</th>\n",
       "      <th>cremini mushrooms</th>\n",
       "      <th>caramel</th>\n",
       "      <th>orecchiette</th>\n",
       "      <th>maldon sea salt</th>\n",
       "      <th>baby bok choy</th>\n",
       "      <th>sliced mushrooms</th>\n",
       "      <th>pimenton</th>\n",
       "      <th>radish</th>\n",
       "      <th>mortadella</th>\n",
       "      <th>...</th>\n",
       "      <th>strip loin</th>\n",
       "      <th>bouquet garni</th>\n",
       "      <th>green chard</th>\n",
       "      <th>guajillo</th>\n",
       "      <th>crumb topping</th>\n",
       "      <th>toast points</th>\n",
       "      <th>coffee</th>\n",
       "      <th>asian noodles</th>\n",
       "      <th>oatmeal</th>\n",
       "      <th>refried beans</th>\n",
       "    </tr>\n",
       "  </thead>\n",
       "  <tbody>\n",
       "    <tr>\n",
       "      <th>3</th>\n",
       "      <td>Mahi-Mahi in Tomato Olive Sauce</td>\n",
       "      <td>0</td>\n",
       "      <td>0</td>\n",
       "      <td>0</td>\n",
       "      <td>0</td>\n",
       "      <td>0</td>\n",
       "      <td>0</td>\n",
       "      <td>0</td>\n",
       "      <td>0</td>\n",
       "      <td>0</td>\n",
       "      <td>...</td>\n",
       "      <td>0</td>\n",
       "      <td>0</td>\n",
       "      <td>0</td>\n",
       "      <td>0</td>\n",
       "      <td>0</td>\n",
       "      <td>0</td>\n",
       "      <td>0</td>\n",
       "      <td>0</td>\n",
       "      <td>0</td>\n",
       "      <td>0</td>\n",
       "    </tr>\n",
       "    <tr>\n",
       "      <th>9</th>\n",
       "      <td>Ham Persillade with Mustard Potato Salad and M...</td>\n",
       "      <td>0</td>\n",
       "      <td>0</td>\n",
       "      <td>0</td>\n",
       "      <td>0</td>\n",
       "      <td>0</td>\n",
       "      <td>0</td>\n",
       "      <td>0</td>\n",
       "      <td>0</td>\n",
       "      <td>0</td>\n",
       "      <td>...</td>\n",
       "      <td>0</td>\n",
       "      <td>0</td>\n",
       "      <td>0</td>\n",
       "      <td>0</td>\n",
       "      <td>0</td>\n",
       "      <td>0</td>\n",
       "      <td>0</td>\n",
       "      <td>0</td>\n",
       "      <td>0</td>\n",
       "      <td>0</td>\n",
       "    </tr>\n",
       "    <tr>\n",
       "      <th>11</th>\n",
       "      <td>Spicy Noodle Soup</td>\n",
       "      <td>0</td>\n",
       "      <td>0</td>\n",
       "      <td>0</td>\n",
       "      <td>0</td>\n",
       "      <td>0</td>\n",
       "      <td>0</td>\n",
       "      <td>0</td>\n",
       "      <td>0</td>\n",
       "      <td>0</td>\n",
       "      <td>...</td>\n",
       "      <td>0</td>\n",
       "      <td>0</td>\n",
       "      <td>0</td>\n",
       "      <td>0</td>\n",
       "      <td>0</td>\n",
       "      <td>0</td>\n",
       "      <td>0</td>\n",
       "      <td>0</td>\n",
       "      <td>0</td>\n",
       "      <td>0</td>\n",
       "    </tr>\n",
       "    <tr>\n",
       "      <th>16</th>\n",
       "      <td>Sweet Buttermilk Spoon Breads</td>\n",
       "      <td>0</td>\n",
       "      <td>0</td>\n",
       "      <td>0</td>\n",
       "      <td>0</td>\n",
       "      <td>0</td>\n",
       "      <td>0</td>\n",
       "      <td>0</td>\n",
       "      <td>0</td>\n",
       "      <td>0</td>\n",
       "      <td>...</td>\n",
       "      <td>0</td>\n",
       "      <td>0</td>\n",
       "      <td>0</td>\n",
       "      <td>0</td>\n",
       "      <td>0</td>\n",
       "      <td>0</td>\n",
       "      <td>0</td>\n",
       "      <td>0</td>\n",
       "      <td>0</td>\n",
       "      <td>0</td>\n",
       "    </tr>\n",
       "    <tr>\n",
       "      <th>19</th>\n",
       "      <td>Tuna, Asparagus, and New Potato Salad with Chi...</td>\n",
       "      <td>0</td>\n",
       "      <td>0</td>\n",
       "      <td>0</td>\n",
       "      <td>0</td>\n",
       "      <td>0</td>\n",
       "      <td>0</td>\n",
       "      <td>0</td>\n",
       "      <td>1</td>\n",
       "      <td>0</td>\n",
       "      <td>...</td>\n",
       "      <td>0</td>\n",
       "      <td>0</td>\n",
       "      <td>0</td>\n",
       "      <td>0</td>\n",
       "      <td>0</td>\n",
       "      <td>0</td>\n",
       "      <td>0</td>\n",
       "      <td>0</td>\n",
       "      <td>0</td>\n",
       "      <td>0</td>\n",
       "    </tr>\n",
       "  </tbody>\n",
       "</table>\n",
       "<p>5 rows × 3707 columns</p>\n",
       "</div>"
      ],
      "text/plain": [
       "                                                title  cremini mushrooms  \\\n",
       "3                    Mahi-Mahi in Tomato Olive Sauce                   0   \n",
       "9   Ham Persillade with Mustard Potato Salad and M...                  0   \n",
       "11                                 Spicy Noodle Soup                   0   \n",
       "16                     Sweet Buttermilk Spoon Breads                   0   \n",
       "19  Tuna, Asparagus, and New Potato Salad with Chi...                  0   \n",
       "\n",
       "    caramel  orecchiette  maldon sea salt  baby bok choy  sliced mushrooms  \\\n",
       "3         0            0                0              0                 0   \n",
       "9         0            0                0              0                 0   \n",
       "11        0            0                0              0                 0   \n",
       "16        0            0                0              0                 0   \n",
       "19        0            0                0              0                 0   \n",
       "\n",
       "    pimenton  radish  mortadella      ...        strip loin  bouquet garni  \\\n",
       "3          0       0           0      ...                 0              0   \n",
       "9          0       0           0      ...                 0              0   \n",
       "11         0       0           0      ...                 0              0   \n",
       "16         0       0           0      ...                 0              0   \n",
       "19         0       1           0      ...                 0              0   \n",
       "\n",
       "    green chard  guajillo  crumb topping  toast points  coffee  asian noodles  \\\n",
       "3             0         0              0             0       0              0   \n",
       "9             0         0              0             0       0              0   \n",
       "11            0         0              0             0       0              0   \n",
       "16            0         0              0             0       0              0   \n",
       "19            0         0              0             0       0              0   \n",
       "\n",
       "    oatmeal  refried beans  \n",
       "3         0              0  \n",
       "9         0              0  \n",
       "11        0              0  \n",
       "16        0              0  \n",
       "19        0              0  \n",
       "\n",
       "[5 rows x 3707 columns]"
      ]
     },
     "execution_count": 752,
     "metadata": {},
     "output_type": "execute_result"
    }
   ],
   "source": [
    "train.head()"
   ]
  },
  {
   "cell_type": "markdown",
   "metadata": {},
   "source": [
    "### Embedding through PCA. First illustration with 2 PCA dimensions"
   ]
  },
  {
   "cell_type": "code",
   "execution_count": 753,
   "metadata": {
    "collapsed": true
   },
   "outputs": [],
   "source": [
    "from sklearn.decomposition import PCA"
   ]
  },
  {
   "cell_type": "code",
   "execution_count": 754,
   "metadata": {
    "collapsed": true
   },
   "outputs": [],
   "source": [
    "ndim=2\n",
    "\n",
    "pca = PCA(ndim)\n",
    "train_pca1 = pca.fit_transform(train.drop(['title', 'meal'], axis=1))            "
   ]
  },
  {
   "cell_type": "code",
   "execution_count": 755,
   "metadata": {
    "collapsed": true
   },
   "outputs": [],
   "source": [
    "train_pca1=pd.DataFrame(train_pca1, index=train.index)"
   ]
  },
  {
   "cell_type": "code",
   "execution_count": 194,
   "metadata": {
    "collapsed": true
   },
   "outputs": [],
   "source": [
    "train_pca1['meal']=train['meal']"
   ]
  },
  {
   "cell_type": "code",
   "execution_count": 195,
   "metadata": {},
   "outputs": [
    {
     "data": {
      "text/html": [
       "<div>\n",
       "<style>\n",
       "    .dataframe thead tr:only-child th {\n",
       "        text-align: right;\n",
       "    }\n",
       "\n",
       "    .dataframe thead th {\n",
       "        text-align: left;\n",
       "    }\n",
       "\n",
       "    .dataframe tbody tr th {\n",
       "        vertical-align: top;\n",
       "    }\n",
       "</style>\n",
       "<table border=\"1\" class=\"dataframe\">\n",
       "  <thead>\n",
       "    <tr style=\"text-align: right;\">\n",
       "      <th></th>\n",
       "      <th>0</th>\n",
       "      <th>1</th>\n",
       "      <th>meal</th>\n",
       "    </tr>\n",
       "  </thead>\n",
       "  <tbody>\n",
       "    <tr>\n",
       "      <th>3</th>\n",
       "      <td>-0.136992</td>\n",
       "      <td>-0.390212</td>\n",
       "      <td>dinner</td>\n",
       "    </tr>\n",
       "    <tr>\n",
       "      <th>9</th>\n",
       "      <td>-0.016210</td>\n",
       "      <td>-0.247051</td>\n",
       "      <td>lunch</td>\n",
       "    </tr>\n",
       "    <tr>\n",
       "      <th>11</th>\n",
       "      <td>-0.012962</td>\n",
       "      <td>0.243809</td>\n",
       "      <td>breakfast</td>\n",
       "    </tr>\n",
       "    <tr>\n",
       "      <th>16</th>\n",
       "      <td>-0.710431</td>\n",
       "      <td>0.320135</td>\n",
       "      <td>breakfast</td>\n",
       "    </tr>\n",
       "    <tr>\n",
       "      <th>19</th>\n",
       "      <td>0.460719</td>\n",
       "      <td>-0.288408</td>\n",
       "      <td>lunch</td>\n",
       "    </tr>\n",
       "  </tbody>\n",
       "</table>\n",
       "</div>"
      ],
      "text/plain": [
       "           0         1       meal\n",
       "3  -0.136992 -0.390212     dinner\n",
       "9  -0.016210 -0.247051      lunch\n",
       "11 -0.012962  0.243809  breakfast\n",
       "16 -0.710431  0.320135  breakfast\n",
       "19  0.460719 -0.288408      lunch"
      ]
     },
     "execution_count": 195,
     "metadata": {},
     "output_type": "execute_result"
    }
   ],
   "source": [
    "train_pca1.head()"
   ]
  },
  {
   "cell_type": "code",
   "execution_count": 205,
   "metadata": {
    "collapsed": true
   },
   "outputs": [],
   "source": [
    "color={\"dinner\":'green', 'breakfast': 'orange', 'lunch':'red','drink':'blue', 'snack':'violet'}"
   ]
  },
  {
   "cell_type": "code",
   "execution_count": 259,
   "metadata": {
    "collapsed": true
   },
   "outputs": [],
   "source": [
    "import matplotlib.pyplot as plt\n",
    "import matplotlib.patches as mpatches"
   ]
  },
  {
   "cell_type": "code",
   "execution_count": 261,
   "metadata": {},
   "outputs": [
    {
     "data": {
      "image/png": "[encoded data removed]",
      "text/plain": [
       "<matplotlib.figure.Figure at 0x2aa77db6a58>"
      ]
     },
     "metadata": {},
     "output_type": "display_data"
    }
   ],
   "source": [
    "from matplotlib.colors import ListedColormap\n",
    "\n",
    "plt.figure(figsize=(10,7))\n",
    "plt.scatter(train_pca1[0], train_pca1[1], c=[color[x] for x in train_pca1['meal']])\n",
    "plt.title(\"Meal types 2-dimensional representation\")\n",
    "    \n",
    "recs = []\n",
    "for key in color.keys():\n",
    "    recs.append(mpatches.Rectangle((1,1),0,0, fc=color[key]))\n",
    "plt.legend(recs, [z for z in color.keys()], bbox_to_anchor=(1, 1), fontsize=12)\n",
    "\n",
    "\n",
    "plt.show()\n",
    "\n"
   ]
  },
  {
   "cell_type": "code",
   "execution_count": null,
   "metadata": {
    "collapsed": true
   },
   "outputs": [],
   "source": [
    "# There's no clear difference between lunch and dinners\n",
    "data.replace(['lunch','dinner'], 'lunch/dinner', inplace=True)"
   ]
  },
  {
   "cell_type": "markdown",
   "metadata": {},
   "source": [
    "### PCA with 100 dimension for all data"
   ]
  },
  {
   "cell_type": "code",
   "execution_count": 756,
   "metadata": {
    "collapsed": true
   },
   "outputs": [],
   "source": [
    "train=data.copy()\n",
    "train.drop(['breakfast', 'lunch', 'dinner', 'snack', 'drink', \n",
    "            'calories','protein','carbs','fat','sodium','steps'], axis=1, inplace=True)"
   ]
  },
  {
   "cell_type": "code",
   "execution_count": 757,
   "metadata": {
    "collapsed": true
   },
   "outputs": [],
   "source": [
    "ndim=100\n",
    "\n",
    "pca = PCA(ndim)\n",
    "data_pca = pca.fit_transform(train.drop(['title', 'meal'], axis=1))            "
   ]
  },
  {
   "cell_type": "code",
   "execution_count": 758,
   "metadata": {
    "collapsed": true
   },
   "outputs": [],
   "source": [
    "data_pca=pd.DataFrame(data_pca, index=train.index)"
   ]
  },
  {
   "cell_type": "code",
   "execution_count": 759,
   "metadata": {
    "collapsed": true
   },
   "outputs": [],
   "source": [
    "data_pca['title']=train['title']\n",
    "data_pca['meal']=train['meal']"
   ]
  },
  {
   "cell_type": "code",
   "execution_count": 760,
   "metadata": {
    "collapsed": true
   },
   "outputs": [],
   "source": [
    "data_pca.replace(['lunch','dinner'], 'lunch/dinner', inplace=True)"
   ]
  },
  {
   "cell_type": "code",
   "execution_count": 761,
   "metadata": {
    "collapsed": true
   },
   "outputs": [],
   "source": [
    "# Split into test, dev and train\n",
    "\n",
    "train_pca=data_pca[data.meal!=0]\n",
    "test_pca=data_pca[data.meal==0]"
   ]
  },
  {
   "cell_type": "code",
   "execution_count": 762,
   "metadata": {},
   "outputs": [
    {
     "data": {
      "text/plain": [
       "(14910, 102)"
      ]
     },
     "execution_count": 762,
     "metadata": {},
     "output_type": "execute_result"
    }
   ],
   "source": [
    "test_pca.shape"
   ]
  },
  {
   "cell_type": "code",
   "execution_count": 763,
   "metadata": {},
   "outputs": [
    {
     "data": {
      "text/plain": [
       "(5201, 102)"
      ]
     },
     "execution_count": 763,
     "metadata": {},
     "output_type": "execute_result"
    }
   ],
   "source": [
    "train_pca.shape"
   ]
  },
  {
   "cell_type": "code",
   "execution_count": 764,
   "metadata": {
    "collapsed": true
   },
   "outputs": [],
   "source": [
    "from sklearn.model_selection import train_test_split\n",
    "\n",
    "train_pca, dev_pca = train_test_split(train_pca, test_size=0.2, stratify=train_pca['meal'])"
   ]
  },
  {
   "cell_type": "code",
   "execution_count": 765,
   "metadata": {},
   "outputs": [
    {
     "data": {
      "text/html": [
       "<div>\n",
       "<style>\n",
       "    .dataframe thead tr:only-child th {\n",
       "        text-align: right;\n",
       "    }\n",
       "\n",
       "    .dataframe thead th {\n",
       "        text-align: left;\n",
       "    }\n",
       "\n",
       "    .dataframe tbody tr th {\n",
       "        vertical-align: top;\n",
       "    }\n",
       "</style>\n",
       "<table border=\"1\" class=\"dataframe\">\n",
       "  <thead>\n",
       "    <tr style=\"text-align: right;\">\n",
       "      <th></th>\n",
       "      <th>0</th>\n",
       "      <th>1</th>\n",
       "      <th>2</th>\n",
       "      <th>3</th>\n",
       "      <th>4</th>\n",
       "      <th>5</th>\n",
       "      <th>6</th>\n",
       "      <th>7</th>\n",
       "      <th>8</th>\n",
       "      <th>9</th>\n",
       "      <th>...</th>\n",
       "      <th>92</th>\n",
       "      <th>93</th>\n",
       "      <th>94</th>\n",
       "      <th>95</th>\n",
       "      <th>96</th>\n",
       "      <th>97</th>\n",
       "      <th>98</th>\n",
       "      <th>99</th>\n",
       "      <th>title</th>\n",
       "      <th>meal</th>\n",
       "    </tr>\n",
       "  </thead>\n",
       "  <tbody>\n",
       "    <tr>\n",
       "      <th>636</th>\n",
       "      <td>-0.801960</td>\n",
       "      <td>0.224087</td>\n",
       "      <td>-0.741671</td>\n",
       "      <td>0.232380</td>\n",
       "      <td>-0.014969</td>\n",
       "      <td>0.473573</td>\n",
       "      <td>0.911328</td>\n",
       "      <td>-0.191951</td>\n",
       "      <td>-0.417388</td>\n",
       "      <td>0.705745</td>\n",
       "      <td>...</td>\n",
       "      <td>-0.304547</td>\n",
       "      <td>0.341657</td>\n",
       "      <td>0.177504</td>\n",
       "      <td>0.257952</td>\n",
       "      <td>-0.059317</td>\n",
       "      <td>-0.211383</td>\n",
       "      <td>0.280964</td>\n",
       "      <td>-0.088817</td>\n",
       "      <td>'Wichcraft's Roasted Turkey, Avocado, Bacon, O...</td>\n",
       "      <td>lunch/dinner</td>\n",
       "    </tr>\n",
       "    <tr>\n",
       "      <th>10801</th>\n",
       "      <td>0.374184</td>\n",
       "      <td>-0.612761</td>\n",
       "      <td>0.688507</td>\n",
       "      <td>0.523595</td>\n",
       "      <td>0.245824</td>\n",
       "      <td>0.169521</td>\n",
       "      <td>-0.191755</td>\n",
       "      <td>-0.276050</td>\n",
       "      <td>-0.028534</td>\n",
       "      <td>0.400795</td>\n",
       "      <td>...</td>\n",
       "      <td>-0.062619</td>\n",
       "      <td>-0.021151</td>\n",
       "      <td>-0.078339</td>\n",
       "      <td>0.003348</td>\n",
       "      <td>-0.037097</td>\n",
       "      <td>-0.029260</td>\n",
       "      <td>-0.068678</td>\n",
       "      <td>0.008982</td>\n",
       "      <td>Peach Raspberry Smoothie</td>\n",
       "      <td>drink</td>\n",
       "    </tr>\n",
       "    <tr>\n",
       "      <th>4351</th>\n",
       "      <td>-0.595800</td>\n",
       "      <td>0.003345</td>\n",
       "      <td>-0.362232</td>\n",
       "      <td>0.508364</td>\n",
       "      <td>-0.200195</td>\n",
       "      <td>-0.214290</td>\n",
       "      <td>0.064500</td>\n",
       "      <td>-0.274907</td>\n",
       "      <td>-0.197543</td>\n",
       "      <td>-0.078021</td>\n",
       "      <td>...</td>\n",
       "      <td>-0.037883</td>\n",
       "      <td>0.121999</td>\n",
       "      <td>0.048984</td>\n",
       "      <td>-0.093908</td>\n",
       "      <td>0.095222</td>\n",
       "      <td>0.052936</td>\n",
       "      <td>0.090539</td>\n",
       "      <td>-0.060841</td>\n",
       "      <td>Smoked Turkey, Blue Cheese, and Red Onion Sand...</td>\n",
       "      <td>lunch/dinner</td>\n",
       "    </tr>\n",
       "    <tr>\n",
       "      <th>12705</th>\n",
       "      <td>-0.798144</td>\n",
       "      <td>0.196458</td>\n",
       "      <td>-0.714702</td>\n",
       "      <td>0.273164</td>\n",
       "      <td>0.032104</td>\n",
       "      <td>0.420719</td>\n",
       "      <td>0.829192</td>\n",
       "      <td>-0.191511</td>\n",
       "      <td>-0.418330</td>\n",
       "      <td>0.677552</td>\n",
       "      <td>...</td>\n",
       "      <td>-0.140360</td>\n",
       "      <td>0.063403</td>\n",
       "      <td>0.021090</td>\n",
       "      <td>-0.106814</td>\n",
       "      <td>0.045655</td>\n",
       "      <td>-0.031652</td>\n",
       "      <td>-0.007623</td>\n",
       "      <td>-0.031430</td>\n",
       "      <td>Roasted Tomato and Arugula Salad</td>\n",
       "      <td>lunch/dinner</td>\n",
       "    </tr>\n",
       "    <tr>\n",
       "      <th>10966</th>\n",
       "      <td>-0.711552</td>\n",
       "      <td>0.249578</td>\n",
       "      <td>-0.588882</td>\n",
       "      <td>0.183648</td>\n",
       "      <td>0.240197</td>\n",
       "      <td>0.258520</td>\n",
       "      <td>0.680016</td>\n",
       "      <td>-0.139428</td>\n",
       "      <td>-0.022044</td>\n",
       "      <td>0.568356</td>\n",
       "      <td>...</td>\n",
       "      <td>-0.084001</td>\n",
       "      <td>-0.038072</td>\n",
       "      <td>-0.042537</td>\n",
       "      <td>0.008681</td>\n",
       "      <td>0.090554</td>\n",
       "      <td>0.012657</td>\n",
       "      <td>0.067027</td>\n",
       "      <td>0.011405</td>\n",
       "      <td>Michael Romano's Secret-Ingredient Soup</td>\n",
       "      <td>lunch/dinner</td>\n",
       "    </tr>\n",
       "  </tbody>\n",
       "</table>\n",
       "<p>5 rows × 102 columns</p>\n",
       "</div>"
      ],
      "text/plain": [
       "              0         1         2         3         4         5         6  \\\n",
       "636   -0.801960  0.224087 -0.741671  0.232380 -0.014969  0.473573  0.911328   \n",
       "10801  0.374184 -0.612761  0.688507  0.523595  0.245824  0.169521 -0.191755   \n",
       "4351  -0.595800  0.003345 -0.362232  0.508364 -0.200195 -0.214290  0.064500   \n",
       "12705 -0.798144  0.196458 -0.714702  0.273164  0.032104  0.420719  0.829192   \n",
       "10966 -0.711552  0.249578 -0.588882  0.183648  0.240197  0.258520  0.680016   \n",
       "\n",
       "              7         8         9      ...             92        93  \\\n",
       "636   -0.191951 -0.417388  0.705745      ...      -0.304547  0.341657   \n",
       "10801 -0.276050 -0.028534  0.400795      ...      -0.062619 -0.021151   \n",
       "4351  -0.274907 -0.197543 -0.078021      ...      -0.037883  0.121999   \n",
       "12705 -0.191511 -0.418330  0.677552      ...      -0.140360  0.063403   \n",
       "10966 -0.139428 -0.022044  0.568356      ...      -0.084001 -0.038072   \n",
       "\n",
       "             94        95        96        97        98        99  \\\n",
       "636    0.177504  0.257952 -0.059317 -0.211383  0.280964 -0.088817   \n",
       "10801 -0.078339  0.003348 -0.037097 -0.029260 -0.068678  0.008982   \n",
       "4351   0.048984 -0.093908  0.095222  0.052936  0.090539 -0.060841   \n",
       "12705  0.021090 -0.106814  0.045655 -0.031652 -0.007623 -0.031430   \n",
       "10966 -0.042537  0.008681  0.090554  0.012657  0.067027  0.011405   \n",
       "\n",
       "                                                   title          meal  \n",
       "636    'Wichcraft's Roasted Turkey, Avocado, Bacon, O...  lunch/dinner  \n",
       "10801                          Peach Raspberry Smoothie          drink  \n",
       "4351   Smoked Turkey, Blue Cheese, and Red Onion Sand...  lunch/dinner  \n",
       "12705                  Roasted Tomato and Arugula Salad   lunch/dinner  \n",
       "10966           Michael Romano's Secret-Ingredient Soup   lunch/dinner  \n",
       "\n",
       "[5 rows x 102 columns]"
      ]
     },
     "execution_count": 765,
     "metadata": {},
     "output_type": "execute_result"
    }
   ],
   "source": [
    "train_pca.head()"
   ]
  },
  {
   "cell_type": "code",
   "execution_count": 766,
   "metadata": {},
   "outputs": [
    {
     "data": {
      "text/plain": [
       "(4160, 102)"
      ]
     },
     "execution_count": 766,
     "metadata": {},
     "output_type": "execute_result"
    }
   ],
   "source": [
    "train_pca.shape"
   ]
  },
  {
   "cell_type": "code",
   "execution_count": 767,
   "metadata": {},
   "outputs": [
    {
     "data": {
      "text/plain": [
       "(1041, 102)"
      ]
     },
     "execution_count": 767,
     "metadata": {},
     "output_type": "execute_result"
    }
   ],
   "source": [
    "dev_pca.shape"
   ]
  },
  {
   "cell_type": "markdown",
   "metadata": {},
   "source": [
    "### 1-hidden layer neural net to identify the meal type"
   ]
  },
  {
   "cell_type": "code",
   "execution_count": 768,
   "metadata": {
    "collapsed": true
   },
   "outputs": [],
   "source": [
    "# create train vectors\n",
    "y_train, indices = np.unique(train_pca['meal'], return_inverse=True)\n",
    "x_train=np.asarray(train_pca.drop(['title','meal'],axis=1))\n",
    "indices=np.asarray(indices)"
   ]
  },
  {
   "cell_type": "code",
   "execution_count": 769,
   "metadata": {
    "collapsed": true
   },
   "outputs": [],
   "source": [
    "test_indices =[list(y_train).index(dev_pca.loc[i]['meal']) for i  in dev_pca.index]\n",
    "test_indices=np.asarray(test_indices)\n",
    "\n",
    "x_test=np.asarray(dev_pca.drop(['title','meal'],axis=1))"
   ]
  },
  {
   "cell_type": "code",
   "execution_count": 770,
   "metadata": {
    "collapsed": true
   },
   "outputs": [],
   "source": [
    "import tensorflow as tf"
   ]
  },
  {
   "cell_type": "code",
   "execution_count": 771,
   "metadata": {
    "collapsed": true
   },
   "outputs": [],
   "source": [
    "# Hyperparameters\n",
    "V = 4\n",
    "n_hidden = 25\n",
    "n_input=100\n",
    "\n",
    "# Inputs\n",
    "# Using \"None\" in place of batch size allows \n",
    "# it to be dynamically computed later.\n",
    "\n",
    "with tf.name_scope(\"Inputs\"):    \n",
    "    x_ = tf.placeholder(\"float\", [None, n_input])\n",
    "    y_ = tf.placeholder(tf.int32, [None])\n",
    "    \n",
    "with tf.name_scope(\"Hidden_Layer\"):\n",
    "    W1_=tf.Variable(tf.random_normal([n_input, n_hidden]))\n",
    "    b1_=tf.Variable(tf.random_normal([n_hidden,]))\n",
    "    h_ = tf.tanh(tf.matmul(x_, W1_) + b1_, name=\"h\")\n",
    "    \n",
    "with tf.name_scope(\"Output_Layer\"):\n",
    "    W2_ = tf.Variable(tf.random_normal([n_hidden,V]), name=\"W2\")\n",
    "    b2_ = tf.Variable(tf.zeros([V,], dtype=tf.float32), name=\"b2\")\n",
    "    logits_ = tf.add(tf.matmul(h_, W2_), b2_, name=\"logits\")"
   ]
  },
  {
   "cell_type": "code",
   "execution_count": 772,
   "metadata": {
    "collapsed": true
   },
   "outputs": [],
   "source": [
    "with tf.name_scope(\"Cost_Function\"):\n",
    "    # Sampled softmax loss, for training\n",
    "    per_example_train_loss_ = tf.nn.sparse_softmax_cross_entropy_with_logits(labels=y_, logits=logits_)    \n",
    "    \n",
    "    train_loss_ = tf.reduce_mean(per_example_train_loss_, name=\"sampled_softmax_loss\")\n",
    "    \n",
    "    # Full softmax loss, for scoring\n",
    "    per_example_loss_ = tf.nn.sparse_softmax_cross_entropy_with_logits(labels=y_, logits=logits_, name=\"per_example_loss\")\n",
    "    loss_ = tf.reduce_mean(per_example_loss_, name=\"loss\")\n",
    "\n",
    "with tf.name_scope(\"Training\"):\n",
    "    alpha_ = tf.placeholder(tf.float32, name=\"learning_rate\")\n",
    "    optimizer_ = tf.train.AdamOptimizer(alpha_)\n",
    "    # train_step_ = optimizer_.minimize(loss_)\n",
    "    train_step_ = optimizer_.minimize(train_loss_)\n",
    "    \n",
    "# Initializer step\n",
    "init_ = tf.global_variables_initializer()\n",
    "\n",
    "with tf.name_scope(\"Prediction\"):\n",
    "    pred_proba_ = tf.nn.softmax(logits_, name=\"pred_proba\")\n",
    "    pred_max_ = tf.argmax(logits_, 1, name=\"pred_max\")\n",
    "    pred_random_ = tf.multinomial(logits_, 1, name=\"pred_random\")\n",
    "\n",
    "with tf.name_scope(\"Training\"):\n",
    "    alpha_ = tf.placeholder(tf.float32, name=\"learning_rate\")\n",
    "    optimizer_ = tf.train.AdagradOptimizer(alpha_)\n",
    "    # train_step_ = optimizer_.minimize(loss_)\n",
    "    train_step_ = optimizer_.minimize(train_loss_)\n",
    "    \n",
    "# Initializer step\n",
    "init_ = tf.global_variables_initializer()\n",
    "\n",
    "with tf.name_scope(\"Prediction\"):\n",
    "    pred_proba_ = tf.nn.softmax(logits_, name=\"pred_proba\")\n",
    "    pred_max_ = tf.argmax(logits_, 1, name=\"pred_max\")\n",
    "    pred_random_ = tf.multinomial(logits_, 1, name=\"pred_random\")"
   ]
  },
  {
   "cell_type": "code",
   "execution_count": 773,
   "metadata": {
    "collapsed": true
   },
   "outputs": [],
   "source": [
    "def train_batch(session, batch_x, batch_y, alpha):\n",
    "            \n",
    "    feed_dict = {x_:batch_x,\n",
    "                 y_:batch_y,\n",
    "                 alpha_:alpha}\n",
    "    \n",
    "    c, _ = session.run([train_loss_, train_step_],\n",
    "                       feed_dict=feed_dict)\n",
    "    return c\n",
    "\n",
    "num_epochs = 60\n",
    "batch_size = 100\n",
    "alpha = 0.1  # learning rate\n",
    "print_every = 100"
   ]
  },
  {
   "cell_type": "code",
   "execution_count": 774,
   "metadata": {},
   "outputs": [
    {
     "name": "stdout",
     "output_type": "stream",
     "text": [
      "\n",
      "[epoch 1] Average cost: 2.003\n",
      "\n",
      "[epoch 2] Average cost: 0.837\n",
      "\n",
      "[epoch 3] Average cost: 0.624\n",
      "\n",
      "[epoch 4] Average cost: 0.527\n",
      "\n",
      "[epoch 5] Average cost: 0.469\n",
      "\n",
      "[epoch 6] Average cost: 0.429\n",
      "\n",
      "[epoch 7] Average cost: 0.400\n",
      "\n",
      "[epoch 8] Average cost: 0.378\n",
      "\n",
      "[epoch 9] Average cost: 0.360\n",
      "\n",
      "[epoch 10] Average cost: 0.347\n",
      "\n",
      "[epoch 11] Average cost: 0.335\n",
      "\n",
      "[epoch 12] Average cost: 0.325\n",
      "\n",
      "[epoch 13] Average cost: 0.317\n",
      "\n",
      "[epoch 14] Average cost: 0.310\n",
      "\n",
      "[epoch 15] Average cost: 0.303\n",
      "\n",
      "[epoch 16] Average cost: 0.298\n",
      "\n",
      "[epoch 17] Average cost: 0.292\n",
      "\n",
      "[epoch 18] Average cost: 0.288\n",
      "\n",
      "[epoch 19] Average cost: 0.283\n",
      "\n",
      "[epoch 20] Average cost: 0.280\n",
      "\n",
      "[epoch 21] Average cost: 0.276\n",
      "\n",
      "[epoch 22] Average cost: 0.272\n",
      "\n",
      "[epoch 23] Average cost: 0.269\n",
      "\n",
      "[epoch 24] Average cost: 0.266\n",
      "\n",
      "[epoch 25] Average cost: 0.263\n",
      "\n",
      "[epoch 26] Average cost: 0.261\n",
      "\n",
      "[epoch 27] Average cost: 0.258\n",
      "\n",
      "[epoch 28] Average cost: 0.256\n",
      "\n",
      "[epoch 29] Average cost: 0.254\n",
      "\n",
      "[epoch 30] Average cost: 0.251\n",
      "\n",
      "[epoch 31] Average cost: 0.249\n",
      "\n",
      "[epoch 32] Average cost: 0.247\n",
      "\n",
      "[epoch 33] Average cost: 0.245\n",
      "\n",
      "[epoch 34] Average cost: 0.243\n",
      "\n",
      "[epoch 35] Average cost: 0.242\n",
      "\n",
      "[epoch 36] Average cost: 0.240\n",
      "\n",
      "[epoch 37] Average cost: 0.238\n",
      "\n",
      "[epoch 38] Average cost: 0.237\n",
      "\n",
      "[epoch 39] Average cost: 0.235\n",
      "\n",
      "[epoch 40] Average cost: 0.233\n",
      "\n",
      "[epoch 41] Average cost: 0.232\n",
      "\n",
      "[epoch 42] Average cost: 0.230\n",
      "\n",
      "[epoch 43] Average cost: 0.229\n",
      "\n",
      "[epoch 44] Average cost: 0.228\n",
      "\n",
      "[epoch 45] Average cost: 0.226\n",
      "\n",
      "[epoch 46] Average cost: 0.225\n",
      "\n",
      "[epoch 47] Average cost: 0.224\n",
      "\n",
      "[epoch 48] Average cost: 0.222\n",
      "\n",
      "[epoch 49] Average cost: 0.221\n",
      "\n",
      "[epoch 50] Average cost: 0.220\n",
      "\n",
      "[epoch 51] Average cost: 0.219\n",
      "\n",
      "[epoch 52] Average cost: 0.217\n",
      "\n",
      "[epoch 53] Average cost: 0.216\n",
      "\n",
      "[epoch 54] Average cost: 0.215\n",
      "\n",
      "[epoch 55] Average cost: 0.214\n",
      "\n",
      "[epoch 56] Average cost: 0.213\n",
      "\n",
      "[epoch 57] Average cost: 0.212\n",
      "\n",
      "[epoch 58] Average cost: 0.211\n",
      "\n",
      "[epoch 59] Average cost: 0.210\n",
      "\n",
      "[epoch 60] Average cost: 0.209\n"
     ]
    }
   ],
   "source": [
    "total_batch = int(train_pca.shape[0] / batch_size)        \n",
    "x_batches = np.array_split(x_train, total_batch)\n",
    "y_batches = np.array_split(indices, total_batch)\n",
    "\n",
    "np.random.seed(42)\n",
    "\n",
    "session = tf.Session()\n",
    "session.run(init_)\n",
    "\n",
    "for epoch in range(1, num_epochs+1):\n",
    "    epoch_cost = 0.0\n",
    "    total_batches = 0\n",
    "    print (\"\")\n",
    "    for i in range(total_batch):\n",
    "        batch_x, batch_y = x_batches[i], y_batches[i]\n",
    "        #print(batch_x.shape, batch_y.shape)\n",
    "        \n",
    "        epoch_cost += train_batch(session, batch_x, batch_y, alpha)\n",
    "        total_batches = i + 1\n",
    "\n",
    "    avg_cost = epoch_cost / total_batches\n",
    "    print (\"[epoch %d] Average cost: %.03f\" % (epoch, avg_cost,))\n",
    "\n",
    "def predict(session, x):\n",
    "    feed_dict={x_:x}\n",
    "    meal, proba = session.run([pred_max_, pred_proba_], feed_dict=feed_dict)\n",
    "    return meal, proba\n",
    "\n"
   ]
  },
  {
   "cell_type": "code",
   "execution_count": 775,
   "metadata": {
    "collapsed": true
   },
   "outputs": [],
   "source": [
    "result=predict(session, x_test)"
   ]
  },
  {
   "cell_type": "code",
   "execution_count": 776,
   "metadata": {},
   "outputs": [
    {
     "data": {
      "text/html": [
       "<div>\n",
       "<style>\n",
       "    .dataframe thead tr:only-child th {\n",
       "        text-align: right;\n",
       "    }\n",
       "\n",
       "    .dataframe thead th {\n",
       "        text-align: left;\n",
       "    }\n",
       "\n",
       "    .dataframe tbody tr th {\n",
       "        vertical-align: top;\n",
       "    }\n",
       "</style>\n",
       "<table border=\"1\" class=\"dataframe\">\n",
       "  <thead>\n",
       "    <tr style=\"text-align: right;\">\n",
       "      <th></th>\n",
       "      <th>0</th>\n",
       "      <th>1</th>\n",
       "      <th>2</th>\n",
       "      <th>3</th>\n",
       "    </tr>\n",
       "  </thead>\n",
       "  <tbody>\n",
       "    <tr>\n",
       "      <th>0</th>\n",
       "      <td>81</td>\n",
       "      <td>20</td>\n",
       "      <td>41</td>\n",
       "      <td>1</td>\n",
       "    </tr>\n",
       "    <tr>\n",
       "      <th>1</th>\n",
       "      <td>8</td>\n",
       "      <td>197</td>\n",
       "      <td>6</td>\n",
       "      <td>0</td>\n",
       "    </tr>\n",
       "    <tr>\n",
       "      <th>2</th>\n",
       "      <td>23</td>\n",
       "      <td>11</td>\n",
       "      <td>649</td>\n",
       "      <td>0</td>\n",
       "    </tr>\n",
       "    <tr>\n",
       "      <th>3</th>\n",
       "      <td>2</td>\n",
       "      <td>0</td>\n",
       "      <td>2</td>\n",
       "      <td>0</td>\n",
       "    </tr>\n",
       "  </tbody>\n",
       "</table>\n",
       "</div>"
      ],
      "text/plain": [
       "    0    1    2  3\n",
       "0  81   20   41  1\n",
       "1   8  197    6  0\n",
       "2  23   11  649  0\n",
       "3   2    0    2  0"
      ]
     },
     "execution_count": 776,
     "metadata": {},
     "output_type": "execute_result"
    }
   ],
   "source": [
    "from sklearn.metrics import confusion_matrix\n",
    "pd.DataFrame(confusion_matrix(test_indices, result[0]))"
   ]
  },
  {
   "cell_type": "code",
   "execution_count": 777,
   "metadata": {},
   "outputs": [
    {
     "data": {
      "text/plain": [
       "0.89048991354466855"
      ]
     },
     "execution_count": 777,
     "metadata": {},
     "output_type": "execute_result"
    }
   ],
   "source": [
    "from sklearn.metrics import accuracy_score\n",
    "accuracy_score(test_indices, result[0])"
   ]
  },
  {
   "cell_type": "code",
   "execution_count": 778,
   "metadata": {},
   "outputs": [
    {
     "name": "stdout",
     "output_type": "stream",
     "text": [
      "              precision    recall  f1-score   support\n",
      "\n",
      "   breakfast       0.71      0.57      0.63       143\n",
      "       drink       0.86      0.93      0.90       211\n",
      "lunch/dinner       0.93      0.95      0.94       683\n",
      "       snack       0.00      0.00      0.00         4\n",
      "\n",
      " avg / total       0.88      0.89      0.89      1041\n",
      "\n"
     ]
    }
   ],
   "source": [
    "from sklearn.metrics import classification_report\n",
    "print(classification_report(test_indices, result[0], target_names=np.unique(y_train)))"
   ]
  },
  {
   "cell_type": "code",
   "execution_count": 779,
   "metadata": {},
   "outputs": [
    {
     "data": {
      "text/plain": [
       "636      'Wichcraft's Roasted Turkey, Avocado, Bacon, O...\n",
       "10801                            Peach Raspberry Smoothie \n",
       "4351     Smoked Turkey, Blue Cheese, and Red Onion Sand...\n",
       "12705                    Roasted Tomato and Arugula Salad \n",
       "10966             Michael Romano's Secret-Ingredient Soup \n",
       "6101     Orecchiette with Fresh Mozzarella, Grape Tomat...\n",
       "10438           Whitefish Salad and Roasted Beet Coleslaw \n",
       "14764     Sauteed Chicken with Tomatoes, Olives, and Feta \n",
       "7592            Butternut Squash Soup with Pumpkin Butter \n",
       "10843    Sauteéd Chicken Cutlets with Asparagus, Spring...\n",
       "Name: title, dtype: object"
      ]
     },
     "execution_count": 779,
     "metadata": {},
     "output_type": "execute_result"
    }
   ],
   "source": [
    "train_pca['title'][:10]"
   ]
  },
  {
   "cell_type": "code",
   "execution_count": 780,
   "metadata": {
    "collapsed": true
   },
   "outputs": [],
   "source": [
    "### Complete the test set"
   ]
  },
  {
   "cell_type": "code",
   "execution_count": 781,
   "metadata": {},
   "outputs": [
    {
     "data": {
      "text/plain": [
       "(14910, 102)"
      ]
     },
     "execution_count": 781,
     "metadata": {},
     "output_type": "execute_result"
    }
   ],
   "source": [
    "test_pca.shape"
   ]
  },
  {
   "cell_type": "code",
   "execution_count": 782,
   "metadata": {
    "collapsed": true
   },
   "outputs": [],
   "source": [
    "x_test=np.asarray(test_pca.drop(['title','meal'],axis=1))"
   ]
  },
  {
   "cell_type": "code",
   "execution_count": 783,
   "metadata": {
    "collapsed": true
   },
   "outputs": [],
   "source": [
    "result=predict(session, x_test)"
   ]
  },
  {
   "cell_type": "code",
   "execution_count": 784,
   "metadata": {
    "collapsed": true
   },
   "outputs": [],
   "source": [
    "test_result=[y_train[i] for i in result[0]]"
   ]
  },
  {
   "cell_type": "code",
   "execution_count": 785,
   "metadata": {
    "collapsed": true
   },
   "outputs": [],
   "source": [
    "data.loc[test_pca.index,'meal']=pd.Series(test_result)"
   ]
  },
  {
   "cell_type": "code",
   "execution_count": 786,
   "metadata": {},
   "outputs": [
    {
     "data": {
      "text/html": [
       "<div>\n",
       "<style>\n",
       "    .dataframe thead tr:only-child th {\n",
       "        text-align: right;\n",
       "    }\n",
       "\n",
       "    .dataframe thead th {\n",
       "        text-align: left;\n",
       "    }\n",
       "\n",
       "    .dataframe tbody tr th {\n",
       "        vertical-align: top;\n",
       "    }\n",
       "</style>\n",
       "<table border=\"1\" class=\"dataframe\">\n",
       "  <thead>\n",
       "    <tr style=\"text-align: right;\">\n",
       "      <th></th>\n",
       "      <th>title</th>\n",
       "      <th>cremini mushrooms</th>\n",
       "      <th>caramel</th>\n",
       "      <th>orecchiette</th>\n",
       "      <th>maldon sea salt</th>\n",
       "      <th>baby bok choy</th>\n",
       "      <th>sliced mushrooms</th>\n",
       "      <th>pimenton</th>\n",
       "      <th>radish</th>\n",
       "      <th>mortadella</th>\n",
       "      <th>...</th>\n",
       "      <th>calories</th>\n",
       "      <th>protein</th>\n",
       "      <th>carbs</th>\n",
       "      <th>sodium</th>\n",
       "      <th>steps</th>\n",
       "      <th>breakfast</th>\n",
       "      <th>lunch</th>\n",
       "      <th>dinner</th>\n",
       "      <th>snack</th>\n",
       "      <th>drink</th>\n",
       "    </tr>\n",
       "  </thead>\n",
       "  <tbody>\n",
       "    <tr>\n",
       "      <th>0</th>\n",
       "      <td>Lentil, Apple, and Turkey Wrap</td>\n",
       "      <td>0</td>\n",
       "      <td>0</td>\n",
       "      <td>0</td>\n",
       "      <td>0</td>\n",
       "      <td>0</td>\n",
       "      <td>0</td>\n",
       "      <td>0</td>\n",
       "      <td>0</td>\n",
       "      <td>0</td>\n",
       "      <td>...</td>\n",
       "      <td>426.0</td>\n",
       "      <td>30.0</td>\n",
       "      <td>60.75</td>\n",
       "      <td>559.0</td>\n",
       "      <td>3</td>\n",
       "      <td>0</td>\n",
       "      <td>0</td>\n",
       "      <td>0</td>\n",
       "      <td>0</td>\n",
       "      <td>0</td>\n",
       "    </tr>\n",
       "    <tr>\n",
       "      <th>1</th>\n",
       "      <td>Boudin Blanc Terrine with Red Onion Confit</td>\n",
       "      <td>0</td>\n",
       "      <td>0</td>\n",
       "      <td>0</td>\n",
       "      <td>0</td>\n",
       "      <td>0</td>\n",
       "      <td>0</td>\n",
       "      <td>0</td>\n",
       "      <td>0</td>\n",
       "      <td>0</td>\n",
       "      <td>...</td>\n",
       "      <td>403.0</td>\n",
       "      <td>18.0</td>\n",
       "      <td>31.00</td>\n",
       "      <td>1439.0</td>\n",
       "      <td>5</td>\n",
       "      <td>0</td>\n",
       "      <td>0</td>\n",
       "      <td>0</td>\n",
       "      <td>0</td>\n",
       "      <td>0</td>\n",
       "    </tr>\n",
       "    <tr>\n",
       "      <th>2</th>\n",
       "      <td>Potato and Fennel Soup Hodge</td>\n",
       "      <td>0</td>\n",
       "      <td>0</td>\n",
       "      <td>0</td>\n",
       "      <td>0</td>\n",
       "      <td>0</td>\n",
       "      <td>0</td>\n",
       "      <td>0</td>\n",
       "      <td>0</td>\n",
       "      <td>0</td>\n",
       "      <td>...</td>\n",
       "      <td>165.0</td>\n",
       "      <td>6.0</td>\n",
       "      <td>19.50</td>\n",
       "      <td>165.0</td>\n",
       "      <td>2</td>\n",
       "      <td>0</td>\n",
       "      <td>0</td>\n",
       "      <td>0</td>\n",
       "      <td>0</td>\n",
       "      <td>0</td>\n",
       "    </tr>\n",
       "    <tr>\n",
       "      <th>3</th>\n",
       "      <td>Mahi-Mahi in Tomato Olive Sauce</td>\n",
       "      <td>0</td>\n",
       "      <td>0</td>\n",
       "      <td>0</td>\n",
       "      <td>0</td>\n",
       "      <td>0</td>\n",
       "      <td>0</td>\n",
       "      <td>0</td>\n",
       "      <td>0</td>\n",
       "      <td>0</td>\n",
       "      <td>...</td>\n",
       "      <td>NaN</td>\n",
       "      <td>NaN</td>\n",
       "      <td>NaN</td>\n",
       "      <td>NaN</td>\n",
       "      <td>2</td>\n",
       "      <td>0</td>\n",
       "      <td>0</td>\n",
       "      <td>1</td>\n",
       "      <td>0</td>\n",
       "      <td>0</td>\n",
       "    </tr>\n",
       "    <tr>\n",
       "      <th>4</th>\n",
       "      <td>Spinach Noodle Casserole</td>\n",
       "      <td>0</td>\n",
       "      <td>0</td>\n",
       "      <td>0</td>\n",
       "      <td>0</td>\n",
       "      <td>0</td>\n",
       "      <td>0</td>\n",
       "      <td>0</td>\n",
       "      <td>0</td>\n",
       "      <td>0</td>\n",
       "      <td>...</td>\n",
       "      <td>547.0</td>\n",
       "      <td>20.0</td>\n",
       "      <td>44.75</td>\n",
       "      <td>452.0</td>\n",
       "      <td>1</td>\n",
       "      <td>0</td>\n",
       "      <td>0</td>\n",
       "      <td>0</td>\n",
       "      <td>0</td>\n",
       "      <td>0</td>\n",
       "    </tr>\n",
       "  </tbody>\n",
       "</table>\n",
       "<p>5 rows × 3718 columns</p>\n",
       "</div>"
      ],
      "text/plain": [
       "                                         title  cremini mushrooms  caramel  \\\n",
       "0              Lentil, Apple, and Turkey Wrap                   0        0   \n",
       "1  Boudin Blanc Terrine with Red Onion Confit                   0        0   \n",
       "2                Potato and Fennel Soup Hodge                   0        0   \n",
       "3             Mahi-Mahi in Tomato Olive Sauce                   0        0   \n",
       "4                    Spinach Noodle Casserole                   0        0   \n",
       "\n",
       "   orecchiette  maldon sea salt  baby bok choy  sliced mushrooms  pimenton  \\\n",
       "0            0                0              0                 0         0   \n",
       "1            0                0              0                 0         0   \n",
       "2            0                0              0                 0         0   \n",
       "3            0                0              0                 0         0   \n",
       "4            0                0              0                 0         0   \n",
       "\n",
       "   radish  mortadella  ...    calories  protein  carbs  sodium  steps  \\\n",
       "0       0           0  ...       426.0     30.0  60.75   559.0      3   \n",
       "1       0           0  ...       403.0     18.0  31.00  1439.0      5   \n",
       "2       0           0  ...       165.0      6.0  19.50   165.0      2   \n",
       "3       0           0  ...         NaN      NaN    NaN     NaN      2   \n",
       "4       0           0  ...       547.0     20.0  44.75   452.0      1   \n",
       "\n",
       "   breakfast  lunch  dinner  snack  drink  \n",
       "0          0      0       0      0      0  \n",
       "1          0      0       0      0      0  \n",
       "2          0      0       0      0      0  \n",
       "3          0      0       1      0      0  \n",
       "4          0      0       0      0      0  \n",
       "\n",
       "[5 rows x 3718 columns]"
      ]
     },
     "execution_count": 786,
     "metadata": {},
     "output_type": "execute_result"
    }
   ],
   "source": [
    "data.head()"
   ]
  },
  {
   "cell_type": "markdown",
   "metadata": {},
   "source": [
    "### Save the resulting data file (recipes vs ingredients)"
   ]
  },
  {
   "cell_type": "code",
   "execution_count": null,
   "metadata": {
    "collapsed": true
   },
   "outputs": [],
   "source": [
    "data.to_csv(\"epi_data.csv\", encoding=\"UTF-8\")"
   ]
  },
  {
   "cell_type": "markdown",
   "metadata": {},
   "source": [
    "### Examples of cosine similarity for recipes"
   ]
  },
  {
   "cell_type": "code",
   "execution_count": 120,
   "metadata": {
    "collapsed": true
   },
   "outputs": [],
   "source": [
    "train_pca=train_pca.set_index('title')"
   ]
  },
  {
   "cell_type": "code",
   "execution_count": 121,
   "metadata": {
    "collapsed": true
   },
   "outputs": [],
   "source": [
    "from sklearn.metrics.pairwise import cosine_similarity\n"
   ]
  },
  {
   "cell_type": "code",
   "execution_count": 139,
   "metadata": {
    "collapsed": true
   },
   "outputs": [],
   "source": [
    "def return_top10(x):\n",
    "    similarity=cosine_similarity(np.asarray(train_pca.drop(['meal'], axis=1).loc[x]).reshape(1, -1), \n",
    "                  np.asarray(train_pca.drop(['meal'], axis=1)))\n",
    "    order=list(np.argsort(-similarity)[0])\n",
    "    return [list(train_pca.index)[i] for i in order[1:11]]"
   ]
  },
  {
   "cell_type": "code",
   "execution_count": 125,
   "metadata": {},
   "outputs": [
    {
     "data": {
      "text/plain": [
       "['Zucchini Pizza Crust With Lemony Pea Pesto ',\n",
       " 'Gallette of Sweet Potato-Crusted Tobago Crab Cake ',\n",
       " \"Gramma Pandolfi's Pasta Sauce with Meatballs \",\n",
       " \"Marty's Gaelic Gourmet CAM Onion Bread Pudding \",\n",
       " 'Peruvian-Style Roast Chicken With Tangy Green Sauce ',\n",
       " 'Angel Hair with Lemon, Kale, and Pecans ',\n",
       " 'Sweet Potato Fritters ',\n",
       " 'Black Cod with Swiss Chard, Olives, and Lemon ',\n",
       " 'French Bread Pizzas With Ricotta, Roasted Tomatoes, and Pesto ',\n",
       " 'Fritto Misto ']"
      ]
     },
     "execution_count": 125,
     "metadata": {},
     "output_type": "execute_result"
    }
   ],
   "source": [
    "return_top10('Spinach Lasagna ')"
   ]
  },
  {
   "cell_type": "code",
   "execution_count": 126,
   "metadata": {},
   "outputs": [
    {
     "data": {
      "text/plain": [
       "['Miso Carbonara with Broccoli Rabe and Red-Pepper Flakes ',\n",
       " 'Strozzapreti Carbonara With Radishes ',\n",
       " 'Peppery Pasta Carbonara with Poached Egg ',\n",
       " 'Fresh Corn Carbonara ',\n",
       " 'Fettucine Carbonara with Fried Eggs ',\n",
       " 'Eggs Carbonara with Basil and Parmesan ']"
      ]
     },
     "execution_count": 126,
     "metadata": {},
     "output_type": "execute_result"
    }
   ],
   "source": [
    "[x for x in train_pca.index if \"carbonara\" in x.lower()]"
   ]
  },
  {
   "cell_type": "markdown",
   "metadata": {},
   "source": [
    "### Examples of cosine similarity for ingredients"
   ]
  },
  {
   "cell_type": "code",
   "execution_count": 157,
   "metadata": {
    "collapsed": true
   },
   "outputs": [],
   "source": [
    "train=data.copy()\n",
    "train.drop(['breakfast', 'lunch', 'dinner', 'snack', 'drink', \n",
    "            'calories','protein','carbs','fat','sodium','steps', 'title', 'meal'], axis=1, inplace=True)\n",
    "\n",
    "ndim=100\n",
    "\n",
    "pca = PCA(ndim)"
   ]
  },
  {
   "cell_type": "code",
   "execution_count": 158,
   "metadata": {
    "collapsed": true
   },
   "outputs": [],
   "source": [
    "train=train.transpose()"
   ]
  },
  {
   "cell_type": "code",
   "execution_count": 159,
   "metadata": {},
   "outputs": [
    {
     "data": {
      "text/plain": [
       "(3592, 20111)"
      ]
     },
     "execution_count": 159,
     "metadata": {},
     "output_type": "execute_result"
    }
   ],
   "source": [
    "train.shape"
   ]
  },
  {
   "cell_type": "code",
   "execution_count": 162,
   "metadata": {
    "collapsed": true
   },
   "outputs": [],
   "source": [
    "data_pca = pca.fit_transform(train)            \n",
    "\n",
    "data_pca=pd.DataFrame(data_pca, index=train.index)"
   ]
  },
  {
   "cell_type": "code",
   "execution_count": 163,
   "metadata": {
    "collapsed": true
   },
   "outputs": [],
   "source": [
    "from sklearn.metrics.pairwise import cosine_similarity"
   ]
  },
  {
   "cell_type": "code",
   "execution_count": 170,
   "metadata": {
    "collapsed": true
   },
   "outputs": [],
   "source": [
    "def return_top10(x):\n",
    "    similarity=cosine_similarity(np.asarray(data_pca.loc[x]).reshape(1, -1), \n",
    "                  np.asarray(data_pca))\n",
    "    order=list(np.argsort(-similarity)[0])\n",
    "    return [list(data_pca.index)[i] for i in order[1:11]]"
   ]
  },
  {
   "cell_type": "code",
   "execution_count": 171,
   "metadata": {},
   "outputs": [
    {
     "data": {
      "text/plain": [
       "['turkey',\n",
       " 'dried thyme',\n",
       " 'parsley sprigs',\n",
       " 'sage leaves',\n",
       " 'chicken wings',\n",
       " 'coarse salt',\n",
       " 'dried sage',\n",
       " 'chicken stock',\n",
       " 'ginger',\n",
       " 'whole chicken']"
      ]
     },
     "execution_count": 171,
     "metadata": {},
     "output_type": "execute_result"
    }
   ],
   "source": [
    "return_top10('chicken')"
   ]
  },
  {
   "cell_type": "code",
   "execution_count": 172,
   "metadata": {},
   "outputs": [
    {
     "data": {
      "text/plain": [
       "['thyme sprigs',\n",
       " 'cold water',\n",
       " 'celery ribs',\n",
       " 'fresh sage',\n",
       " 'whole cloves',\n",
       " 'black peppercorns',\n",
       " 'thyme',\n",
       " 'fresh thyme',\n",
       " 'leek',\n",
       " 'mushroom']"
      ]
     },
     "execution_count": 172,
     "metadata": {},
     "output_type": "execute_result"
    }
   ],
   "source": [
    "return_top10('cheese')"
   ]
  }
 ],
 "metadata": {
  "kernelspec": {
   "display_name": "Python 3",
   "language": "python",
   "name": "python3"
  },
  "language_info": {
   "codemirror_mode": {
    "name": "ipython",
    "version": 3
   },
   "file_extension": ".py",
   "mimetype": "text/x-python",
   "name": "python",
   "nbconvert_exporter": "python",
   "pygments_lexer": "ipython3",
   "version": "3.6.1"
  }
 },
 "nbformat": 4,
 "nbformat_minor": 2
}
