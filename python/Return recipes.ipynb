{
 "cells": [
  {
   "cell_type": "code",
   "execution_count": 652,
   "metadata": {
    "collapsed": true
   },
   "outputs": [],
   "source": [
    "import pandas as pd\n",
    "import numpy as np"
   ]
  },
  {
   "cell_type": "markdown",
   "metadata": {},
   "source": [
    "### # Upload the dataset (should be on server)"
   ]
  },
  {
   "cell_type": "code",
   "execution_count": 653,
   "metadata": {
    "collapsed": true
   },
   "outputs": [],
   "source": [
    "data=pd.read_csv('data/data.csv')\n",
    "data.drop('Unnamed: 0', axis=1, inplace=True)"
   ]
  },
  {
   "cell_type": "code",
   "execution_count": 654,
   "metadata": {
    "collapsed": true
   },
   "outputs": [],
   "source": [
    "ingredients=pd.read_csv('data/ingredients_short.csv')\n",
    "ingredients.drop('Unnamed: 0', axis=1, inplace=True)"
   ]
  },
  {
   "cell_type": "code",
   "execution_count": 658,
   "metadata": {},
   "outputs": [
    {
     "data": {
      "text/html": [
       "<div>\n",
       "<style>\n",
       "    .dataframe thead tr:only-child th {\n",
       "        text-align: right;\n",
       "    }\n",
       "\n",
       "    .dataframe thead th {\n",
       "        text-align: left;\n",
       "    }\n",
       "\n",
       "    .dataframe tbody tr th {\n",
       "        vertical-align: top;\n",
       "    }\n",
       "</style>\n",
       "<table border=\"1\" class=\"dataframe\">\n",
       "  <thead>\n",
       "    <tr style=\"text-align: right;\">\n",
       "      <th></th>\n",
       "      <th>stem</th>\n",
       "      <th>substitute 1</th>\n",
       "      <th>substitute 2</th>\n",
       "      <th>substitute 3</th>\n",
       "      <th>food type</th>\n",
       "    </tr>\n",
       "  </thead>\n",
       "  <tbody>\n",
       "    <tr>\n",
       "      <th>0</th>\n",
       "      <td>cream</td>\n",
       "      <td>half-and-half</td>\n",
       "      <td>NaN</td>\n",
       "      <td>NaN</td>\n",
       "      <td>NaN</td>\n",
       "    </tr>\n",
       "    <tr>\n",
       "      <th>1</th>\n",
       "      <td>flaxseed</td>\n",
       "      <td>NaN</td>\n",
       "      <td>NaN</td>\n",
       "      <td>NaN</td>\n",
       "      <td>NaN</td>\n",
       "    </tr>\n",
       "    <tr>\n",
       "      <th>2</th>\n",
       "      <td>farro</td>\n",
       "      <td>NaN</td>\n",
       "      <td>NaN</td>\n",
       "      <td>NaN</td>\n",
       "      <td>NaN</td>\n",
       "    </tr>\n",
       "    <tr>\n",
       "      <th>3</th>\n",
       "      <td>applesauce</td>\n",
       "      <td>NaN</td>\n",
       "      <td>NaN</td>\n",
       "      <td>NaN</td>\n",
       "      <td>NaN</td>\n",
       "    </tr>\n",
       "    <tr>\n",
       "      <th>4</th>\n",
       "      <td>cranberry</td>\n",
       "      <td>NaN</td>\n",
       "      <td>NaN</td>\n",
       "      <td>NaN</td>\n",
       "      <td>fruit</td>\n",
       "    </tr>\n",
       "  </tbody>\n",
       "</table>\n",
       "</div>"
      ],
      "text/plain": [
       "         stem   substitute 1 substitute 2 substitute 3 food type\n",
       "0       cream  half-and-half          NaN          NaN       NaN\n",
       "1    flaxseed            NaN          NaN          NaN       NaN\n",
       "2       farro            NaN          NaN          NaN       NaN\n",
       "3  applesauce            NaN          NaN          NaN       NaN\n",
       "4   cranberry            NaN          NaN          NaN     fruit"
      ]
     },
     "execution_count": 658,
     "metadata": {},
     "output_type": "execute_result"
    }
   ],
   "source": [
    "ingredients.head()"
   ]
  },
  {
   "cell_type": "code",
   "execution_count": 659,
   "metadata": {
    "collapsed": true
   },
   "outputs": [],
   "source": [
    "# Upload the list of non_key ingredients\n",
    "spices=list(pd.read_csv('data/spices.csv')['spices'])\n",
    "spices=[x for x in spices if x in data.columns]\n",
    "garnish=['parsley', 'dried parsley', 'cilantro', 'cilantro leaves', 'dill', \n",
    "         'celery leaves', 'chives', 'chocolate chips', 'sesame', 'black sesame seeds', 'sesame seeds']"
   ]
  },
  {
   "cell_type": "code",
   "execution_count": 660,
   "metadata": {
    "collapsed": true
   },
   "outputs": [],
   "source": [
    "# separate ingredients from non-ingredients \n",
    "non_ingredients=['meal','title','calories','protein','carbs','fats','sodium','cuisine', 'complexity']\n",
    "non_ingredients.extend(spices)"
   ]
  },
  {
   "cell_type": "code",
   "execution_count": 661,
   "metadata": {
    "collapsed": true
   },
   "outputs": [],
   "source": [
    "group_keys=['pasta', 'mold cheese', 'soft cheese', 'brined cheese', 'medium cheese', 'hard cheese', 'cottage cheese', 'dry wine', \n",
    "            'liquer', 'white wine', 'red wine']\n",
    "group=dict(zip(group_keys,\n",
    "            [list(ingredients[ingredients['substitute 1']==key]['stem']) for key in group_keys]))"
   ]
  },
  {
   "cell_type": "code",
   "execution_count": 662,
   "metadata": {
    "collapsed": true
   },
   "outputs": [],
   "source": [
    "group_values=[y for x in group.values() for y in x]"
   ]
  },
  {
   "cell_type": "markdown",
   "metadata": {},
   "source": [
    "### Inputs\n",
    " \n",
    "grocery: list <br>\n",
    "\n",
    "calories_max: int <br>\n",
    "calories_min: int <br>\n",
    "protein_min: int <br>\n",
    "meal_type: breakfast, lunch, dinner, dessert, drink <br>\n",
    "cuisine: 20 cuisines in the list <br>\n",
    "complexity: easy, medium, hard <br>\n",
    "n_additional_ingredients: int <br>\n"
   ]
  },
  {
   "cell_type": "code",
   "execution_count": 663,
   "metadata": {
    "collapsed": true
   },
   "outputs": [],
   "source": [
    "# Should be at home\n",
    "home=['pepper', 'butter', 'olive oil', 'sugar', 'salt', 'water', 'lemon juice', 'dijon mustard', 'black pepper', 'ketchup']\n",
    "grocery=['apple', 'milk', 'hazelnut', 'cucumber', 'bread', 'tomato', \n",
    "         'cod',  'rice', 'garlic', 'chicken', 'egg', 'feta', 'cream cheese', 'pasta']\n",
    "grocery.extend(home)"
   ]
  },
  {
   "cell_type": "code",
   "execution_count": 664,
   "metadata": {
    "collapsed": true
   },
   "outputs": [],
   "source": [
    "# extend grocery for all available substitutes\n",
    "ingredients_nongroup=[gr for gr in grocery if gr not in group_values]\n",
    "ingredients_group=list(set([ingredients[ingredients.stem==gr]['substitute 1'].values[0] for gr in grocery if gr in group_values]))\n"
   ]
  },
  {
   "cell_type": "code",
   "execution_count": 665,
   "metadata": {
    "collapsed": true
   },
   "outputs": [],
   "source": [
    "for x in ingredients_nongroup:\n",
    "    #extend to own substitutes\n",
    "    idx=ingredients[ingredients['stem']==x].index\n",
    "    a=[ing for ing in ingredients.loc[idx][['substitute 1', 'substitute 2', 'substitute 3']].values if type(ing)==str]\n",
    "    if len(a)>0:\n",
    "        grocery.extend(a)\n",
    "    #check whether the ingredient in other products substitutes\n",
    "    idx=ingredients[(ingredients['substitute 1']==x)|(ingredients['substitute 2']==x)|(ingredients['substitute 3']==x)].index\n",
    "    if len(idx)>0:\n",
    "        grocery.extend(list(ingredients.loc[idx]['stem']))\n",
    "        \n",
    "for x in ingredients_group:\n",
    "    grocery.extend(group[x])\n",
    "    "
   ]
  },
  {
   "cell_type": "markdown",
   "metadata": {},
   "source": [
    "### Function"
   ]
  },
  {
   "cell_type": "code",
   "execution_count": 704,
   "metadata": {
    "collapsed": true
   },
   "outputs": [],
   "source": [
    "# quick calculation of additional products\n",
    "def products_to_add(options, i):\n",
    "    s=options.loc[i][needed]\n",
    "    return ', '.join(list(s[s==1].index))\n",
    "\n",
    "def return_recipes(calories_max=800, \n",
    "                   calories_min=500,\n",
    "                   protein_min=25,\n",
    "                   meal_type='lunch',\n",
    "                   cuisine='non_specified',\n",
    "                   complexity='easy',\n",
    "                   n_additional_ingredients=4,\n",
    "                   grocery=grocery):\n",
    "    if meal_type in ['lunch', 'dinner']: meal_type='lunch/dinner'\n",
    "    \n",
    "    #filter basic parameters \n",
    "    options=data[(data.meal==meal_type)&\n",
    "                       (data.calories<calories_max)&\n",
    "                       (data.calories>calories_min)&\n",
    "                       (data.protein>protein_min)&\n",
    "                       (data.complexity==complexity)\n",
    "                      ]\n",
    "    if cuisine!='non_specified':\n",
    "        options=options[options.cuisine==cuisine]\n",
    "        \n",
    "    #filter based on grocery\n",
    "    \n",
    "    # drop columns with unused ingredients\n",
    "    ingredients=options.drop(non_ingredients, axis=1).columns\n",
    "    options.drop([x for x in ingredients if sum(options[x])==0], axis=1, inplace=True)\n",
    "    \n",
    "    #update ingredients\n",
    "    ingredients=options.drop(non_ingredients, axis=1).columns\n",
    "    \n",
    "    ## products outside the groccery list   \n",
    "        \n",
    "    needed=[x for x in ingredients if x not in grocery]\n",
    "\n",
    "    # Keep only the recipes if the number of additional key ingredients doesnt exceed 3\n",
    "    sums=options[needed].sum(axis=1)\n",
    "    ind=[x for x in sums.index if sums.loc[x]<=n_additional_ingredients]\n",
    "    options=options.loc[ind]\n",
    "    \n",
    "    recommendation=options.loc[ind][['title', 'calories', 'protein', 'carbs', 'fats']]\n",
    "\n",
    "    recommendation['products to add']=pd.Series([products_to_add(options, i) for i in ind], index=ind)\n",
    "\n",
    "    recommendation['# of products to add']=pd.Series([len([y for y in recommendation.loc[i]['products to add'].split(\",\")  \n",
    "                                                       if y not in non_ingredients]) for i in ind], index=ind)\n",
    "    \n",
    "    return recommendation\n",
    "    "
   ]
  },
  {
   "cell_type": "code",
   "execution_count": 715,
   "metadata": {},
   "outputs": [],
   "source": [
    "def score_nutrition(x, nutr_values):\n",
    "    # less protein - penalized, coefficient 2\n",
    "    # more carbs than recommended - penalized, coefficient 2\n",
    "    # more fat than recommended - penalized, coefficient 1\n",
    "    \n",
    "    penalty=-2*(min(0, nutr_values['protein']-x['protein']))+\\\n",
    "    2*(max(0, nutr_values['carbs']-x['carbs']))+max(0, nutr_values['fats']-x['fats'])\n",
    "    \n",
    "    return penalty"
   ]
  },
  {
   "cell_type": "code",
   "execution_count": 764,
   "metadata": {},
   "outputs": [],
   "source": [
    "from sklearn.metrics.pairwise import cosine_similarity\n",
    "\n",
    "def score_preference(i, user_score):\n",
    "    temp_data=data.drop(non_ingredients, axis=1)\n",
    "    weighted_score=np.mean([cosine_similarity(np.asarray(temp_data.loc[i].reshape(1, -1)), \n",
    "                                              np.asarray(temp_data.loc[key]).reshape(1, -1))*user_score[key] \n",
    "                            for key in user_score.keys()])\n",
    "    return weighted_score\n",
    "    "
   ]
  },
  {
   "cell_type": "markdown",
   "metadata": {},
   "source": [
    "### Example"
   ]
  },
  {
   "cell_type": "code",
   "execution_count": 709,
   "metadata": {},
   "outputs": [],
   "source": [
    "### Example of recommended nutrition values (in user's profile)\n",
    "nutr_values={'protein':30,\n",
    "'carbs':100,\n",
    "'fats':30}\n",
    "nutr_values['calories']=nutr_values['fats']*9+(nutr_values['protein']+nutr_values['carbs'])*4"
   ]
  },
  {
   "cell_type": "code",
   "execution_count": 757,
   "metadata": {
    "collapsed": true
   },
   "outputs": [],
   "source": [
    "### Example of certain recipes scored (in user's profile): 5-high, 1-low\n",
    "### {index: score}\n",
    "user_score={461:5, 1693:4, 400:5, 189:2, 2704:3, 4867:3, 5470:4, 159:3, 1588:4}"
   ]
  },
  {
   "cell_type": "code",
   "execution_count": 723,
   "metadata": {},
   "outputs": [],
   "source": [
    "# Calculate all suggested meals after filtering\n",
    "\n",
    "result=return_recipes(calories_max=calories*1.2, \n",
    "                   calories_min=calories*0.8,\n",
    "                   protein_min=protein*0.8,\n",
    "                   meal_type='lunch',\n",
    "                   cuisine='italian',\n",
    "                   complexity='medium',\n",
    "                   n_additional_ingredients=4,\n",
    "                   grocery=grocery)\n"
   ]
  },
  {
   "cell_type": "code",
   "execution_count": 671,
   "metadata": {},
   "outputs": [
    {
     "data": {
      "text/plain": [
       "3.0"
      ]
     },
     "execution_count": 671,
     "metadata": {},
     "output_type": "execute_result"
    }
   ],
   "source": [
    "np.sqrt()"
   ]
  },
  {
   "cell_type": "code",
   "execution_count": 724,
   "metadata": {},
   "outputs": [],
   "source": [
    "result['nutrition penalty']=pd.Series([score_nutrition(result.loc[i], nutr_values) for i in result.index], index=result.index)"
   ]
  },
  {
   "cell_type": "code",
   "execution_count": 727,
   "metadata": {},
   "outputs": [
    {
     "data": {
      "text/html": [
       "<div>\n",
       "<style>\n",
       "    .dataframe thead tr:only-child th {\n",
       "        text-align: right;\n",
       "    }\n",
       "\n",
       "    .dataframe thead th {\n",
       "        text-align: left;\n",
       "    }\n",
       "\n",
       "    .dataframe tbody tr th {\n",
       "        vertical-align: top;\n",
       "    }\n",
       "</style>\n",
       "<table border=\"1\" class=\"dataframe\">\n",
       "  <thead>\n",
       "    <tr style=\"text-align: right;\">\n",
       "      <th></th>\n",
       "      <th>title</th>\n",
       "      <th>calories</th>\n",
       "      <th>protein</th>\n",
       "      <th>carbs</th>\n",
       "      <th>fats</th>\n",
       "      <th>products to add</th>\n",
       "      <th># of products to add</th>\n",
       "      <th>nutrition penalty</th>\n",
       "    </tr>\n",
       "  </thead>\n",
       "  <tbody>\n",
       "    <tr>\n",
       "      <th>1155</th>\n",
       "      <td>Strozzapreti Carbonara With Radishes</td>\n",
       "      <td>666.0</td>\n",
       "      <td>25.0</td>\n",
       "      <td>141.5</td>\n",
       "      <td>32.0</td>\n",
       "      <td>shallot</td>\n",
       "      <td>1</td>\n",
       "      <td>0.0</td>\n",
       "    </tr>\n",
       "    <tr>\n",
       "      <th>19046</th>\n",
       "      <td>Lasagne Rolls with Roasted Tomato and Eggplant</td>\n",
       "      <td>698.0</td>\n",
       "      <td>27.0</td>\n",
       "      <td>147.5</td>\n",
       "      <td>41.0</td>\n",
       "      <td>eggplant, oil</td>\n",
       "      <td>2</td>\n",
       "      <td>0.0</td>\n",
       "    </tr>\n",
       "    <tr>\n",
       "      <th>1666</th>\n",
       "      <td>Spicy Spinach Linguine with Olive Oil and Garlic</td>\n",
       "      <td>708.0</td>\n",
       "      <td>27.0</td>\n",
       "      <td>150.0</td>\n",
       "      <td>35.0</td>\n",
       "      <td>spinach, ground red pepper, pecorino cheese, d...</td>\n",
       "      <td>4</td>\n",
       "      <td>0.0</td>\n",
       "    </tr>\n",
       "    <tr>\n",
       "      <th>1754</th>\n",
       "      <td>Baked Rigatoni alla Norma</td>\n",
       "      <td>930.0</td>\n",
       "      <td>30.0</td>\n",
       "      <td>202.5</td>\n",
       "      <td>56.0</td>\n",
       "      <td>onion, eggplant, marinara sauce, mozzarella</td>\n",
       "      <td>4</td>\n",
       "      <td>0.0</td>\n",
       "    </tr>\n",
       "    <tr>\n",
       "      <th>17034</th>\n",
       "      <td>Florentine White Bean Soup with Pasta</td>\n",
       "      <td>676.0</td>\n",
       "      <td>28.0</td>\n",
       "      <td>141.0</td>\n",
       "      <td>34.0</td>\n",
       "      <td>onion, bean</td>\n",
       "      <td>2</td>\n",
       "      <td>0.0</td>\n",
       "    </tr>\n",
       "  </tbody>\n",
       "</table>\n",
       "</div>"
      ],
      "text/plain": [
       "                                                   title  calories  protein  \\\n",
       "1155               Strozzapreti Carbonara With Radishes      666.0     25.0   \n",
       "19046    Lasagne Rolls with Roasted Tomato and Eggplant      698.0     27.0   \n",
       "1666   Spicy Spinach Linguine with Olive Oil and Garlic      708.0     27.0   \n",
       "1754                          Baked Rigatoni alla Norma      930.0     30.0   \n",
       "17034             Florentine White Bean Soup with Pasta      676.0     28.0   \n",
       "\n",
       "       carbs  fats                                    products to add  \\\n",
       "1155   141.5  32.0                                            shallot   \n",
       "19046  147.5  41.0                                      eggplant, oil   \n",
       "1666   150.0  35.0  spinach, ground red pepper, pecorino cheese, d...   \n",
       "1754   202.5  56.0        onion, eggplant, marinara sauce, mozzarella   \n",
       "17034  141.0  34.0                                        onion, bean   \n",
       "\n",
       "       # of products to add  nutrition penalty  \n",
       "1155                      1                0.0  \n",
       "19046                     2                0.0  \n",
       "1666                      4                0.0  \n",
       "1754                      4                0.0  \n",
       "17034                     2                0.0  "
      ]
     },
     "execution_count": 727,
     "metadata": {},
     "output_type": "execute_result"
    }
   ],
   "source": [
    "result.sort_values(\"nutrition penalty\").head(5)"
   ]
  },
  {
   "cell_type": "code",
   "execution_count": 759,
   "metadata": {},
   "outputs": [
    {
     "name": "stderr",
     "output_type": "stream",
     "text": [
      "C:\\Users\\vnuretdi\\Anaconda3\\lib\\site-packages\\ipykernel_launcher.py:7: FutureWarning: reshape is deprecated and will raise in a subsequent release. Please use .values.reshape(...) instead\n",
      "  import sys\n"
     ]
    }
   ],
   "source": [
    "result['user score']=pd.Series([score_preference(i, user_score) for i in result.index], index=result.index)"
   ]
  },
  {
   "cell_type": "code",
   "execution_count": 761,
   "metadata": {},
   "outputs": [
    {
     "data": {
      "text/html": [
       "<div>\n",
       "<style>\n",
       "    .dataframe thead tr:only-child th {\n",
       "        text-align: right;\n",
       "    }\n",
       "\n",
       "    .dataframe thead th {\n",
       "        text-align: left;\n",
       "    }\n",
       "\n",
       "    .dataframe tbody tr th {\n",
       "        vertical-align: top;\n",
       "    }\n",
       "</style>\n",
       "<table border=\"1\" class=\"dataframe\">\n",
       "  <thead>\n",
       "    <tr style=\"text-align: right;\">\n",
       "      <th></th>\n",
       "      <th>title</th>\n",
       "      <th>calories</th>\n",
       "      <th>protein</th>\n",
       "      <th>carbs</th>\n",
       "      <th>fats</th>\n",
       "      <th>products to add</th>\n",
       "      <th># of products to add</th>\n",
       "      <th>nutrition penalty</th>\n",
       "      <th>user score</th>\n",
       "    </tr>\n",
       "  </thead>\n",
       "  <tbody>\n",
       "    <tr>\n",
       "      <th>6778</th>\n",
       "      <td>Chicken Muffuletta Salad</td>\n",
       "      <td>668.0</td>\n",
       "      <td>42.0</td>\n",
       "      <td>125.00</td>\n",
       "      <td>50.0</td>\n",
       "      <td>ice, olives</td>\n",
       "      <td>2</td>\n",
       "      <td>24.0</td>\n",
       "      <td>1.046941</td>\n",
       "    </tr>\n",
       "    <tr>\n",
       "      <th>12205</th>\n",
       "      <td>Rosemary and Garlic Lamb Chops</td>\n",
       "      <td>889.0</td>\n",
       "      <td>31.0</td>\n",
       "      <td>191.25</td>\n",
       "      <td>83.0</td>\n",
       "      <td>meat</td>\n",
       "      <td>1</td>\n",
       "      <td>2.0</td>\n",
       "      <td>1.006106</td>\n",
       "    </tr>\n",
       "    <tr>\n",
       "      <th>18112</th>\n",
       "      <td>Pork Chops with Vinegar Peppers</td>\n",
       "      <td>675.0</td>\n",
       "      <td>36.0</td>\n",
       "      <td>132.75</td>\n",
       "      <td>57.0</td>\n",
       "      <td></td>\n",
       "      <td>1</td>\n",
       "      <td>12.0</td>\n",
       "      <td>0.975610</td>\n",
       "    </tr>\n",
       "    <tr>\n",
       "      <th>6101</th>\n",
       "      <td>Orecchiette with Fresh Mozzarella, Grape Tomat...</td>\n",
       "      <td>818.0</td>\n",
       "      <td>36.0</td>\n",
       "      <td>168.50</td>\n",
       "      <td>47.0</td>\n",
       "      <td>vinegar, peas, pasta</td>\n",
       "      <td>3</td>\n",
       "      <td>12.0</td>\n",
       "      <td>0.911436</td>\n",
       "    </tr>\n",
       "    <tr>\n",
       "      <th>7314</th>\n",
       "      <td>Roast Chicken with Rosemary-Garlic Paste</td>\n",
       "      <td>936.0</td>\n",
       "      <td>78.0</td>\n",
       "      <td>156.00</td>\n",
       "      <td>66.0</td>\n",
       "      <td>juniper berries, sea salt</td>\n",
       "      <td>2</td>\n",
       "      <td>96.0</td>\n",
       "      <td>0.911089</td>\n",
       "    </tr>\n",
       "  </tbody>\n",
       "</table>\n",
       "</div>"
      ],
      "text/plain": [
       "                                                   title  calories  protein  \\\n",
       "6778                           Chicken Muffuletta Salad      668.0     42.0   \n",
       "12205                    Rosemary and Garlic Lamb Chops      889.0     31.0   \n",
       "18112                   Pork Chops with Vinegar Peppers      675.0     36.0   \n",
       "6101   Orecchiette with Fresh Mozzarella, Grape Tomat...     818.0     36.0   \n",
       "7314           Roast Chicken with Rosemary-Garlic Paste      936.0     78.0   \n",
       "\n",
       "        carbs  fats            products to add  # of products to add  \\\n",
       "6778   125.00  50.0                ice, olives                     2   \n",
       "12205  191.25  83.0                       meat                     1   \n",
       "18112  132.75  57.0                                                1   \n",
       "6101   168.50  47.0       vinegar, peas, pasta                     3   \n",
       "7314   156.00  66.0  juniper berries, sea salt                     2   \n",
       "\n",
       "       nutrition penalty  user score  \n",
       "6778                24.0    1.046941  \n",
       "12205                2.0    1.006106  \n",
       "18112               12.0    0.975610  \n",
       "6101                12.0    0.911436  \n",
       "7314                96.0    0.911089  "
      ]
     },
     "execution_count": 761,
     "metadata": {},
     "output_type": "execute_result"
    }
   ],
   "source": [
    "result.sort_values(\"user score\", ascending=False).head(5)"
   ]
  },
  {
   "cell_type": "code",
   "execution_count": null,
   "metadata": {
    "collapsed": true
   },
   "outputs": [],
   "source": []
  },
  {
   "cell_type": "code",
   "execution_count": null,
   "metadata": {
    "collapsed": true
   },
   "outputs": [],
   "source": []
  },
  {
   "cell_type": "code",
   "execution_count": null,
   "metadata": {
    "collapsed": true
   },
   "outputs": [],
   "source": []
  },
  {
   "cell_type": "code",
   "execution_count": null,
   "metadata": {
    "collapsed": true
   },
   "outputs": [],
   "source": []
  },
  {
   "cell_type": "code",
   "execution_count": null,
   "metadata": {
    "collapsed": true
   },
   "outputs": [],
   "source": []
  },
  {
   "cell_type": "markdown",
   "metadata": {
    "collapsed": true
   },
   "source": [
    "## Find pictures for the most common types of foods"
   ]
  },
  {
   "cell_type": "code",
   "execution_count": 92,
   "metadata": {
    "collapsed": true
   },
   "outputs": [],
   "source": [
    "titles=list(data_short['title'])"
   ]
  },
  {
   "cell_type": "code",
   "execution_count": 93,
   "metadata": {
    "collapsed": true
   },
   "outputs": [],
   "source": [
    "titles=[x.replace(',','') for x in titles]"
   ]
  },
  {
   "cell_type": "code",
   "execution_count": 94,
   "metadata": {},
   "outputs": [
    {
     "data": {
      "text/plain": [
       "'Steamed Mussels with Sherry Tomatoes and Garlic '"
      ]
     },
     "execution_count": 94,
     "metadata": {},
     "output_type": "execute_result"
    }
   ],
   "source": [
    "titles[350]"
   ]
  },
  {
   "cell_type": "code",
   "execution_count": 95,
   "metadata": {
    "collapsed": true
   },
   "outputs": [],
   "source": [
    "titles=[x.lower().split() for x in titles]"
   ]
  },
  {
   "cell_type": "code",
   "execution_count": 96,
   "metadata": {
    "collapsed": true
   },
   "outputs": [],
   "source": [
    "titles=[[y for y in x if nltk.pos_tag([y])[0][1] in ['NN', 'NNS']] for x in titles]"
   ]
  },
  {
   "cell_type": "markdown",
   "metadata": {},
   "source": [
    "### Extract top unigrams"
   ]
  },
  {
   "cell_type": "code",
   "execution_count": null,
   "metadata": {
    "collapsed": true
   },
   "outputs": [],
   "source": [
    "from nltk import word_tokenize\n",
    "from nltk.collocations import BigramCollocationFinder"
   ]
  },
  {
   "cell_type": "code",
   "execution_count": null,
   "metadata": {
    "collapsed": true
   },
   "outputs": [],
   "source": [
    "from nltk import word_tokenize \n",
    "from nltk.util import ngrams"
   ]
  },
  {
   "cell_type": "code",
   "execution_count": 201,
   "metadata": {
    "collapsed": true
   },
   "outputs": [],
   "source": [
    "init_unigrams=[y for x in titles for y in x]"
   ]
  },
  {
   "cell_type": "code",
   "execution_count": 203,
   "metadata": {
    "collapsed": true
   },
   "outputs": [],
   "source": [
    "unigrams_count=[(x, init_unigrams.count(x)) for x in set(init_unigrams)]"
   ]
  },
  {
   "cell_type": "code",
   "execution_count": 204,
   "metadata": {
    "collapsed": true
   },
   "outputs": [],
   "source": [
    "unigrams_count.sort(key = lambda t: t[1])"
   ]
  },
  {
   "cell_type": "code",
   "execution_count": 386,
   "metadata": {
    "collapsed": true
   },
   "outputs": [],
   "source": [
    "unigrams_count_d=dict(zip([x[0] for x in unigrams_count], [x[1] for x in unigrams_count]))"
   ]
  },
  {
   "cell_type": "code",
   "execution_count": 388,
   "metadata": {},
   "outputs": [
    {
     "data": {
      "text/plain": [
       "[('sauce', 1680),\n",
       " ('salad', 1540),\n",
       " ('chicken', 1221),\n",
       " ('cream', 869),\n",
       " ('cheese', 817),\n",
       " ('soup', 617),\n",
       " ('tomato', 610),\n",
       " ('lemon', 557),\n",
       " ('chocolate', 528),\n",
       " ('pork', 512),\n",
       " ('potato', 461),\n",
       " ('cake', 459),\n",
       " ('garlic', 436),\n",
       " ('shrimp', 434),\n",
       " ('rice', 414),\n",
       " ('turkey', 414),\n",
       " ('pepper', 402),\n",
       " ('lamb', 396),\n",
       " ('butter', 394),\n",
       " ('potatoes', 384),\n",
       " ('corn', 383),\n",
       " ('orange', 378),\n",
       " ('beef', 376),\n",
       " ('roast', 370),\n",
       " ('pie', 354),\n",
       " ('apple', 349),\n",
       " ('ginger', 341),\n",
       " ('onion', 333),\n",
       " ('vinaigrette', 329),\n",
       " ('salsa', 320),\n",
       " ('bean', 313),\n",
       " ('salmon', 311),\n",
       " ('bacon', 310),\n",
       " ('tomatoes', 309),\n",
       " ('bread', 299),\n",
       " ('spicy', 299),\n",
       " ('sweet', 296),\n",
       " ('spinach', 289),\n",
       " ('vegetable', 288),\n",
       " ('fennel', 284),\n",
       " ('onions', 275),\n",
       " ('ice', 274),\n",
       " ('goat', 269),\n",
       " ('pasta', 259),\n",
       " ('mustard', 253),\n",
       " ('sausage', 249),\n",
       " ('tart', 249),\n",
       " ('mint', 245),\n",
       " ('mushroom', 244),\n",
       " ('squash', 241),\n",
       " ('beans', 233),\n",
       " ('coconut', 227),\n",
       " ('lime', 220),\n",
       " ('mushrooms', 212),\n",
       " ('arugula', 211),\n",
       " ('vegetables', 208),\n",
       " ('steak', 202),\n",
       " ('yogurt', 200),\n",
       " ('cranberry', 199),\n",
       " ('bell', 197),\n",
       " ('fruit', 193),\n",
       " ('chops', 192),\n",
       " ('rosemary', 190),\n",
       " ('syrup', 178),\n",
       " ('sandwiches', 178),\n",
       " ('parmesan', 176),\n",
       " ('basil', 176),\n",
       " ('cucumber', 174),\n",
       " ('crust', 173),\n",
       " ('fish', 173),\n",
       " ('asparagus', 172),\n",
       " ('olives', 172),\n",
       " ('eggplant', 171),\n",
       " ('stew', 169),\n",
       " ('compote', 168),\n",
       " ('stock', 167),\n",
       " ('pear', 165),\n",
       " ('almond', 165),\n",
       " ('greens', 164),\n",
       " ('avocado', 164),\n",
       " ('cherry', 162),\n",
       " ('herbed', 162),\n",
       " ('ham', 162),\n",
       " ('gravy', 161),\n",
       " ('zucchini', 161),\n",
       " ('cabbage', 158),\n",
       " ('chutney', 155),\n",
       " ('strawberry', 154),\n",
       " ('raspberry', 154),\n",
       " ('feta', 154),\n",
       " ('eggs', 153),\n",
       " ('blue', 149),\n",
       " ('glaze', 149),\n",
       " ('relish', 146),\n",
       " ('peppers', 145),\n",
       " ('walnut', 142),\n",
       " ('cookies', 142),\n",
       " ('sour', 141),\n",
       " ('carrot', 140),\n",
       " ('pesto', 137),\n",
       " ('wild', 136),\n",
       " ('butternut', 134),\n",
       " ('peas', 133),\n",
       " ('tenderloin', 133),\n",
       " ('creamy', 132),\n",
       " ('mango', 131),\n",
       " ('wine', 131),\n",
       " ('honey', 131),\n",
       " ('chili', 130),\n",
       " ('broccoli', 130),\n",
       " ('beet', 130),\n",
       " ('oil', 130),\n",
       " ('sauteed', 129),\n",
       " ('vanilla', 128),\n",
       " ('stuffed', 128),\n",
       " ('mayonnaise', 128),\n",
       " ('crab', 127),\n",
       " ('tuna', 127),\n",
       " ('cakes', 126),\n",
       " ('herb', 126),\n",
       " ('horseradish', 124),\n",
       " ('celery', 123),\n",
       " ('cheddar', 123),\n",
       " ('gratin', 123),\n",
       " ('pumpkin', 121),\n",
       " ('pizza', 119),\n",
       " ('curry', 119),\n",
       " ('pineapple', 118),\n",
       " ('root', 118),\n",
       " ('dill', 117),\n",
       " ('cilantro', 117),\n",
       " ('veal', 116),\n",
       " ('warm', 116),\n",
       " ('scallops', 116),\n",
       " ('pine', 116),\n",
       " ('ricotta', 115),\n",
       " ('peach', 115),\n",
       " ('slaw', 114),\n",
       " ('nut', 112),\n",
       " ('tarragon', 112),\n",
       " ('egg', 112),\n",
       " ('brown', 111),\n",
       " ('carrots', 111),\n",
       " ('caramel', 111),\n",
       " ('crã¨me', 110),\n",
       " ('chile', 110),\n",
       " ('steaks', 109),\n",
       " ('purã©e', 108),\n",
       " ('apricot', 108),\n",
       " ('pea', 106),\n",
       " ('sage', 105),\n",
       " ('citrus', 105),\n",
       " ('prosciutto', 105),\n",
       " ('kale', 104),\n",
       " ('herbs', 104),\n",
       " ('sesame', 103),\n",
       " ('parsley', 102),\n",
       " ('sugar', 102),\n",
       " ('baby', 101),\n",
       " ('dip', 101),\n",
       " ('buttermilk', 100),\n",
       " ('peanut', 99),\n",
       " ('balsamic', 99),\n",
       " ('banana', 98),\n",
       " ('dough', 98),\n",
       " ('cauliflower', 98),\n",
       " ('pastry', 97),\n",
       " ('nuts', 97),\n",
       " ('thyme', 96),\n",
       " ('watercress', 96),\n",
       " ('apples', 95),\n",
       " ('ribs', 95),\n",
       " ('crispy', 95),\n",
       " ('cheesecake', 94),\n",
       " ('rum', 94),\n",
       " ('maple', 93),\n",
       " ('de', 92),\n",
       " ('sea', 92),\n",
       " ('duck', 91),\n",
       " ('hazelnut', 91),\n",
       " ('chipotle', 91),\n",
       " ('rolls', 90),\n",
       " ('burgers', 89),\n",
       " ('tea', 89),\n",
       " ('summer', 89),\n",
       " ('polenta', 88),\n",
       " ('vinegar', 87),\n",
       " ('punch', 86),\n",
       " ('risotto', 86),\n",
       " ('spice', 85),\n",
       " ('mussels', 84),\n",
       " ('bass', 84),\n",
       " ('frozen', 84),\n",
       " ('barbecue', 82),\n",
       " ('spring', 82),\n",
       " ('blueberry', 80),\n",
       " ('noodles', 79),\n",
       " ('cocktail', 78),\n",
       " ('saffron', 78),\n",
       " ('coffee', 77)]"
      ]
     },
     "execution_count": 388,
     "metadata": {},
     "output_type": "execute_result"
    }
   ],
   "source": [
    "unigrams_count[::-1][:200]"
   ]
  },
  {
   "cell_type": "code",
   "execution_count": 387,
   "metadata": {},
   "outputs": [
    {
     "data": {
      "text/plain": [
       "259"
      ]
     },
     "execution_count": 387,
     "metadata": {},
     "output_type": "execute_result"
    }
   ],
   "source": [
    "unigrams_count_d['pasta']"
   ]
  },
  {
   "cell_type": "markdown",
   "metadata": {},
   "source": [
    "### Extract bigrams"
   ]
  },
  {
   "cell_type": "code",
   "execution_count": 73,
   "metadata": {
    "collapsed": true
   },
   "outputs": [],
   "source": [
    "from nltk import word_tokenize\n",
    "from nltk.collocations import BigramCollocationFinder"
   ]
  },
  {
   "cell_type": "code",
   "execution_count": 74,
   "metadata": {
    "collapsed": true
   },
   "outputs": [],
   "source": [
    "from nltk import word_tokenize \n",
    "from nltk.util import ngrams"
   ]
  },
  {
   "cell_type": "code",
   "execution_count": 97,
   "metadata": {
    "scrolled": true
   },
   "outputs": [
    {
     "name": "stderr",
     "output_type": "stream",
     "text": [
      "C:\\Users\\vnuretdi\\Anaconda3\\lib\\site-packages\\ipykernel_launcher.py:1: DeprecationWarning: generator 'ngrams' raised StopIteration\n",
      "  \"\"\"Entry point for launching an IPython kernel.\n"
     ]
    }
   ],
   "source": [
    "init_bigrams=[list(ngrams(x, 2)) for x in titles]"
   ]
  },
  {
   "cell_type": "code",
   "execution_count": 98,
   "metadata": {
    "collapsed": true
   },
   "outputs": [],
   "source": [
    "bigrams=[y for x in init_bigrams for y in x]"
   ]
  },
  {
   "cell_type": "code",
   "execution_count": 99,
   "metadata": {
    "collapsed": true
   },
   "outputs": [],
   "source": [
    "bigrams_count=[(x, bigrams.count(x)) for x in set(bigrams)]"
   ]
  },
  {
   "cell_type": "code",
   "execution_count": 100,
   "metadata": {
    "collapsed": true
   },
   "outputs": [],
   "source": [
    "bigrams_count.sort(key = lambda t: t[1])"
   ]
  },
  {
   "cell_type": "code",
   "execution_count": 101,
   "metadata": {
    "collapsed": true
   },
   "outputs": [],
   "source": [
    "bigrams_count=bigrams_count[::-1]"
   ]
  },
  {
   "cell_type": "code",
   "execution_count": 384,
   "metadata": {},
   "outputs": [
    {
     "data": {
      "text/plain": [
       "[((('giblet', 'gravy'), 9), 'giblet gravy'),\n",
       " ((('salt', 'pepper'), 9), 'salt pepper'),\n",
       " ((('snow', 'peas'), 9), 'snow peas'),\n",
       " ((('gold', 'potato'), 9), 'gold potato'),\n",
       " ((('monterey', 'jack'), 9), 'monterey jack'),\n",
       " ((('cider', 'vinaigrette'), 9), 'cider vinaigrette'),\n",
       " ((('pork', 'roast'), 9), 'pork roast'),\n",
       " ((('salad', 'blue'), 9), 'salad blue'),\n",
       " ((('macaroni', 'cheese'), 9), 'macaroni cheese'),\n",
       " ((('stuffed', 'eggs'), 9), 'stuffed eggs'),\n",
       " ((('beef', 'stock'), 9), 'beef stock'),\n",
       " ((('spinach', 'feta'), 9), 'spinach feta'),\n",
       " ((('potato', 'purã©e'), 9), 'potato purã©e'),\n",
       " ((('romesco', 'sauce'), 9), 'romesco sauce'),\n",
       " ((('carrot', 'soup'), 9), 'carrot soup'),\n",
       " ((('chocolate', 'torte'), 9), 'chocolate torte'),\n",
       " ((('game', 'hen'), 9), 'game hen'),\n",
       " ((('chicken', 'tomato'), 9), 'chicken tomato'),\n",
       " ((('cranberry', 'orange'), 9), 'cranberry orange'),\n",
       " ((('bundt', 'cake'), 9), 'bundt cake'),\n",
       " ((('salmon', 'horseradish'), 9), 'salmon horseradish'),\n",
       " ((('baby', 'greens'), 9), 'baby greens'),\n",
       " ((('coconut', 'rice'), 9), 'coconut rice'),\n",
       " ((('sausage', 'soup'), 9), 'sausage soup'),\n",
       " ((('pumpkin', 'seed'), 9), 'pumpkin seed'),\n",
       " ((('mustard', 'cream'), 9), 'mustard cream'),\n",
       " ((('turkey', 'cutlets'), 9), 'turkey cutlets'),\n",
       " ((('chicken', 'vegetables'), 9), 'chicken vegetables'),\n",
       " ((('ham', 'cheese'), 9), 'ham cheese'),\n",
       " ((('chicken', 'garlic'), 9), 'chicken garlic'),\n",
       " ((('thai', 'chicken'), 9), 'thai chicken'),\n",
       " ((('spoon', 'bread'), 9), 'spoon bread'),\n",
       " ((('strawberry', 'compote'), 9), 'strawberry compote'),\n",
       " ((('strawberry', 'ice'), 9), 'strawberry ice'),\n",
       " ((('oil', 'garlic'), 9), 'oil garlic'),\n",
       " ((('lime', 'pie'), 9), 'lime pie'),\n",
       " ((('vegetable', 'sautã©'), 9), 'vegetable sautã©'),\n",
       " ((('yellow', 'squash'), 9), 'yellow squash'),\n",
       " ((('tomato', 'ginger'), 9), 'tomato ginger'),\n",
       " ((('duck', 'legs'), 9), 'duck legs'),\n",
       " ((('pan', 'gravy'), 9), 'pan gravy'),\n",
       " ((('tomato', 'toast'), 9), 'tomato toast'),\n",
       " ((('salad', 'roquefort'), 9), 'salad roquefort'),\n",
       " ((('cake', 'strawberries'), 9), 'cake strawberries'),\n",
       " ((('bean', 'stew'), 9), 'bean stew'),\n",
       " ((('orange', 'cream'), 9), 'orange cream'),\n",
       " ((('salad', 'orange'), 9), 'salad orange'),\n",
       " ((('cake', 'lemon'), 9), 'cake lemon'),\n",
       " ((('apple', 'tart'), 9), 'apple tart'),\n",
       " ((('apple', 'celery'), 9), 'apple celery'),\n",
       " ((('warm', 'goat'), 9), 'warm goat'),\n",
       " ((('tortilla', 'soup'), 9), 'tortilla soup'),\n",
       " ((('potato', 'corn'), 9), 'potato corn'),\n",
       " ((('cake', 'orange'), 9), 'cake orange'),\n",
       " ((('cherry', 'compote'), 9), 'cherry compote'),\n",
       " ((('bacon', 'salad'), 9), 'bacon salad'),\n",
       " ((('olives', 'tomatoes'), 9), 'olives tomatoes'),\n",
       " ((('pastry', 'cream'), 9), 'pastry cream'),\n",
       " ((('chicken', 'potatoes'), 9), 'chicken potatoes'),\n",
       " ((('potatoes', 'onions'), 9), 'potatoes onions'),\n",
       " ((('corn', 'cob'), 9), 'corn cob'),\n",
       " ((('orange', 'fennel'), 9), 'orange fennel'),\n",
       " ((('chive', 'oil'), 9), 'chive oil'),\n",
       " ((('acorn', 'squash'), 9), 'acorn squash'),\n",
       " ((('chicken', 'corn'), 9), 'chicken corn'),\n",
       " ((('flaky', 'pie'), 8), 'flaky pie'),\n",
       " ((('greens', 'bacon'), 8), 'greens bacon'),\n",
       " ((('red-wine', 'sauce'), 8), 'red-wine sauce'),\n",
       " ((('bean', 'sauce'), 8), 'bean sauce'),\n",
       " ((('roast', 'lamb'), 8), 'roast lamb'),\n",
       " ((('mesclun', 'salad'), 8), 'mesclun salad'),\n",
       " ((('pot', 'pie'), 8), 'pot pie'),\n",
       " ((('walnut', 'cake'), 8), 'walnut cake'),\n",
       " ((('berry', 'compote'), 8), 'berry compote'),\n",
       " ((('rib', 'eye'), 8), 'rib eye'),\n",
       " ((('lace', 'cookies'), 8), 'lace cookies'),\n",
       " ((('beef', 'salad'), 8), 'beef salad'),\n",
       " ((('pasta', 'tomatoes'), 8), 'pasta tomatoes'),\n",
       " ((('cheese', 'grits'), 8), 'cheese grits'),\n",
       " ((('jack', 'cheese'), 8), 'jack cheese'),\n",
       " ((('winter', 'fruit'), 8), 'winter fruit'),\n",
       " ((('mustard', 'seed'), 8), 'mustard seed'),\n",
       " ((('risotto', 'cakes'), 8), 'risotto cakes'),\n",
       " ((('mushroom', 'ragoã»t'), 8), 'mushroom ragoã»t'),\n",
       " ((('filets', 'mignons'), 8), 'filets mignons'),\n",
       " ((('lamb', 'potatoes'), 8), 'lamb potatoes'),\n",
       " ((('sweet', 'spicy'), 8), 'sweet spicy'),\n",
       " ((('salad', 'radishes'), 8), 'salad radishes'),\n",
       " ((('crust', 'dough'), 8), 'crust dough'),\n",
       " ((('spicy', 'sausage'), 8), 'spicy sausage'),\n",
       " ((('tea', 'sandwiches'), 8), 'tea sandwiches'),\n",
       " ((('butter', 'pie'), 8), 'butter pie'),\n",
       " ((('cheese', 'pie'), 8), 'cheese pie'),\n",
       " ((('vegetable', 'gratin'), 8), 'vegetable gratin'),\n",
       " ((('mint', 'pesto'), 8), 'mint pesto'),\n",
       " ((('ginger', 'crã¨me'), 8), 'ginger crã¨me'),\n",
       " ((('roast', 'goose'), 8), 'roast goose'),\n",
       " ((('bacon', 'blue'), 8), 'bacon blue'),\n",
       " ((('tomato', 'feta'), 8), 'tomato feta'),\n",
       " ((('apples', 'onions'), 8), 'apples onions')]"
      ]
     },
     "execution_count": 384,
     "metadata": {},
     "output_type": "execute_result"
    }
   ],
   "source": [
    "[(x,' '.join(x[0])) for x in bigrams_count[400:500]]"
   ]
  },
  {
   "cell_type": "markdown",
   "metadata": {},
   "source": [
    "### Extract trigrams"
   ]
  },
  {
   "cell_type": "code",
   "execution_count": 209,
   "metadata": {},
   "outputs": [
    {
     "name": "stderr",
     "output_type": "stream",
     "text": [
      "C:\\Users\\vnuretdi\\Anaconda3\\lib\\site-packages\\ipykernel_launcher.py:1: DeprecationWarning: generator 'ngrams' raised StopIteration\n",
      "  \"\"\"Entry point for launching an IPython kernel.\n"
     ]
    }
   ],
   "source": [
    "init_trigrams=[list(ngrams(x, 3)) for x in titles]"
   ]
  },
  {
   "cell_type": "code",
   "execution_count": 210,
   "metadata": {
    "collapsed": true
   },
   "outputs": [],
   "source": [
    "trigrams=[y for x in init_trigrams for y in x]"
   ]
  },
  {
   "cell_type": "code",
   "execution_count": 212,
   "metadata": {
    "collapsed": true
   },
   "outputs": [],
   "source": [
    "trigrams_count=[(x, trigrams.count(x)) for x in set(trigrams)]\n",
    "trigrams_count.sort(key = lambda t: t[1])\n",
    "trigrams_count=trigrams_count[::-1]"
   ]
  },
  {
   "cell_type": "code",
   "execution_count": 213,
   "metadata": {},
   "outputs": [
    {
     "data": {
      "text/plain": [
       "[((('sugar', 'snap', 'peas'), 31), 'sugar snap peas'),\n",
       " ((('vanilla', 'ice', 'cream'), 28), 'vanilla ice cream'),\n",
       " ((('turkey', 'giblet', 'stock'), 20), 'turkey giblet stock'),\n",
       " ((('cake', 'cream', 'cheese'), 17), 'cake cream cheese'),\n",
       " ((('goat', 'cheese', 'salad'), 16), 'goat cheese salad'),\n",
       " ((('spicy', 'tomato', 'sauce'), 15), 'spicy tomato sauce'),\n",
       " ((('ice', 'cream', 'cake'), 13), 'ice cream cake'),\n",
       " ((('sugar', 'snap', 'pea'), 12), 'sugar snap pea'),\n",
       " ((('baby', 'bok', 'choy'), 12), 'baby bok choy'),\n",
       " ((('butternut', 'squash', 'soup'), 12), 'butternut squash soup'),\n",
       " ((('roast', 'leg', 'lamb'), 11), 'roast leg lamb'),\n",
       " ((('lemon', 'ice', 'cream'), 11), 'lemon ice cream'),\n",
       " ((('pico', 'de', 'gallo'), 11), 'pico de gallo'),\n",
       " ((('roast', 'pork', 'tenderloin'), 10), 'roast pork tenderloin'),\n",
       " ((('bittersweet', 'chocolate', 'sauce'), 10), 'bittersweet chocolate sauce'),\n",
       " ((('bell', 'pepper', 'sauce'), 10), 'bell pepper sauce'),\n",
       " ((('roast', 'pork', 'loin'), 10), 'roast pork loin'),\n",
       " ((('lemon', 'cream', 'cheese'), 10), 'lemon cream cheese'),\n",
       " ((('blue', 'cheese', 'salad'), 10), 'blue cheese salad'),\n",
       " ((('warm', 'goat', 'cheese'), 9), 'warm goat cheese'),\n",
       " ((('salad', 'blue', 'cheese'), 9), 'salad blue cheese'),\n",
       " ((('bell', 'pepper', 'salad'), 9), 'bell pepper salad'),\n",
       " ((('salad', 'goat', 'cheese'), 9), 'salad goat cheese'),\n",
       " ((('yukon', 'gold', 'potato'), 9), 'yukon gold potato'),\n",
       " ((('herbed', 'goat', 'cheese'), 8), 'herbed goat cheese'),\n",
       " ((('ice', 'cream', 'sandwiches'), 8), 'ice cream sandwiches'),\n",
       " ((('strawberry', 'ice', 'cream'), 8), 'strawberry ice cream'),\n",
       " ((('peanut', 'butter', 'chocolate'), 8), 'peanut butter chocolate'),\n",
       " ((('bell', 'pepper', 'onion'), 8), 'bell pepper onion'),\n",
       " ((('bacon', 'blue', 'cheese'), 8), 'bacon blue cheese'),\n",
       " ((('cornish', 'game', 'hens'), 8), 'cornish game hens'),\n",
       " ((('beef', 'tenderloin', 'steaks'), 8), 'beef tenderloin steaks'),\n",
       " ((('coconut', 'curry', 'sauce'), 8), 'coconut curry sauce'),\n",
       " ((('salad', 'mustard', 'vinaigrette'), 8), 'salad mustard vinaigrette'),\n",
       " ((('flaky', 'pie', 'crust'), 8), 'flaky pie crust'),\n",
       " ((('crown', 'roast', 'pork'), 8), 'crown roast pork'),\n",
       " ((('greens', 'goat', 'cheese'), 7), 'greens goat cheese'),\n",
       " ((('chocolate', 'layer', 'cake'), 7), 'chocolate layer cake'),\n",
       " ((('bell', 'pepper', 'soup'), 7), 'bell pepper soup'),\n",
       " ((('tomato', 'goat', 'cheese'), 7), 'tomato goat cheese'),\n",
       " ((('mustard', 'cream', 'sauce'), 7), 'mustard cream sauce'),\n",
       " ((('cherry', 'tomato', 'salad'), 7), 'cherry tomato salad'),\n",
       " ((('key', 'lime', 'pie'), 7), 'key lime pie'),\n",
       " ((('ginger', 'crã¨me', 'anglaise'), 7), 'ginger crã¨me anglaise'),\n",
       " ((('buttermilk', 'corn', 'bread'), 7), 'buttermilk corn bread'),\n",
       " ((('raisins', 'pine', 'nuts'), 7), 'raisins pine nuts'),\n",
       " ((('chicken', 'bell', 'pepper'), 7), 'chicken bell pepper'),\n",
       " ((('sweet', 'pastry', 'dough'), 7), 'sweet pastry dough'),\n",
       " ((('goat', 'cheese', 'tart'), 7), 'goat cheese tart'),\n",
       " ((('ice', 'cream', 'pie'), 7), 'ice cream pie'),\n",
       " ((('snap', 'pea', 'salad'), 7), 'snap pea salad'),\n",
       " ((('onion', 'bell', 'pepper'), 7), 'onion bell pepper'),\n",
       " ((('sweet', 'potato', 'purã©e'), 6), 'sweet potato purã©e'),\n",
       " ((('layer', 'cake', 'cream'), 6), 'layer cake cream'),\n",
       " ((('molasses', 'barbecue', 'sauce'), 6), 'molasses barbecue sauce'),\n",
       " ((('beef', 'noodle', 'soup'), 6), 'beef noodle soup'),\n",
       " ((('oatmeal', 'raisin', 'cookies'), 6), 'oatmeal raisin cookies'),\n",
       " ((('roast', 'turkey', 'breast'), 6), 'roast turkey breast'),\n",
       " ((('honey-ginger', 'barbecue', 'sauce'), 6), 'honey-ginger barbecue sauce'),\n",
       " ((('zucchini', 'bell', 'pepper'), 6), 'zucchini bell pepper'),\n",
       " ((('sausage', 'broccoli', 'rabe'), 6), 'sausage broccoli rabe'),\n",
       " ((('tomatoes', 'feta', 'cheese'), 6), 'tomatoes feta cheese'),\n",
       " ((('chocolate', 'mousse', 'cake'), 6), 'chocolate mousse cake'),\n",
       " ((('roast', 'rack', 'lamb'), 6), 'roast rack lamb'),\n",
       " ((('goat', 'cheese', 'crostini'), 6), 'goat cheese crostini'),\n",
       " ((('buttermilk', 'ice', 'cream'), 6), 'buttermilk ice cream'),\n",
       " ((('sausage', 'bell', 'pepper'), 6), 'sausage bell pepper'),\n",
       " ((('blueberry', 'ice', 'cream'), 6), 'blueberry ice cream'),\n",
       " ((('spicy', 'peanut', 'sauce'), 6), 'spicy peanut sauce'),\n",
       " ((('ice', 'cream', 'terrine'), 6), 'ice cream terrine'),\n",
       " ((('bean', 'onion', 'salad'), 6), 'bean onion salad'),\n",
       " ((('banana', 'cream', 'pie'), 6), 'banana cream pie'),\n",
       " ((('pie', 'crust', 'dough'), 6), 'pie crust dough'),\n",
       " ((('goat', 'cheese', 'sandwiches'), 6), 'goat cheese sandwiches'),\n",
       " ((('currants', 'pine', 'nuts'), 6), 'currants pine nuts'),\n",
       " ((('buttermilk', 'panna', 'cotta'), 6), 'buttermilk panna cotta'),\n",
       " ((('mustard', 'dill', 'sauce'), 6), 'mustard dill sauce'),\n",
       " ((('horseradish', 'crã¨me', 'fraã®che'), 6), 'horseradish crã¨me fraã®che'),\n",
       " ((('angel', 'food', 'cake'), 6), 'angel food cake'),\n",
       " ((('winter', 'tomato', 'sauce'), 6), 'winter tomato sauce'),\n",
       " ((('peanut', 'butter', 'banana'), 6), 'peanut butter banana'),\n",
       " ((('root', 'vegetable', 'gratin'), 6), 'root vegetable gratin'),\n",
       " ((('bell', 'pepper', 'tomato'), 6), 'bell pepper tomato'),\n",
       " ((('butternut', 'squash', 'apple'), 5), 'butternut squash apple'),\n",
       " ((('pine', 'nut', 'salad'), 5), 'pine nut salad'),\n",
       " ((('leg', 'lamb', 'potatoes'), 5), 'leg lamb potatoes'),\n",
       " ((('banana', 'layer', 'cake'), 5), 'banana layer cake'),\n",
       " ((('cucumber', 'sour', 'cream'), 5), 'cucumber sour cream'),\n",
       " ((('arugula', 'goat', 'cheese'), 5), 'arugula goat cheese'),\n",
       " ((('monterey', 'jack', 'cheese'), 5), 'monterey jack cheese'),\n",
       " ((('vanilla', 'custard', 'sauce'), 5), 'vanilla custard sauce'),\n",
       " ((('tomato', 'bell', 'pepper'), 5), 'tomato bell pepper'),\n",
       " ((('butternut', 'squash', 'sage'), 5), 'butternut squash sage'),\n",
       " ((('spicy', 'cilantro', 'sauce'), 5), 'spicy cilantro sauce'),\n",
       " ((('heirloom', 'tomato', 'salad'), 5), 'heirloom tomato salad'),\n",
       " ((('salad', 'pine', 'nuts'), 5), 'salad pine nuts'),\n",
       " ((('prime', 'rib', 'roast'), 5), 'prime rib roast'),\n",
       " ((('chicken', 'liver', 'pã¢tã©'), 5), 'chicken liver pã¢tã©'),\n",
       " ((('sweet', 'mustard', 'sauce'), 5), 'sweet mustard sauce'),\n",
       " ((('wild', 'mushroom', 'pizza'), 5), 'wild mushroom pizza'),\n",
       " ((('homemade', 'ricotta', 'cheese'), 5), 'homemade ricotta cheese'),\n",
       " ((('goat', 'cheese', 'potatoes'), 5), 'goat cheese potatoes'),\n",
       " ((('chicken', 'noodle', 'soup'), 5), 'chicken noodle soup'),\n",
       " ((('turkey', 'meat', 'loaf'), 5), 'turkey meat loaf'),\n",
       " ((('sweet', 'potato', 'soup'), 5), 'sweet potato soup'),\n",
       " ((('cake', 'lemon', 'glaze'), 5), 'cake lemon glaze'),\n",
       " ((('goat', 'cheese', 'pizza'), 5), 'goat cheese pizza'),\n",
       " ((('pasta', 'butternut', 'squash'), 5), 'pasta butternut squash'),\n",
       " ((('roast', 'chicken', 'lemon'), 5), 'roast chicken lemon'),\n",
       " ((('pepper', 'cream', 'sauce'), 5), 'pepper cream sauce'),\n",
       " ((('leg', 'lamb', 'rosemary'), 5), 'leg lamb rosemary'),\n",
       " ((('lima', 'bean', 'soup'), 5), 'lima bean soup'),\n",
       " ((('chive', 'sour', 'cream'), 5), 'chive sour cream'),\n",
       " ((('apple', 'celery', 'salad'), 5), 'apple celery salad'),\n",
       " ((('roast', 'beef', 'sandwiches'), 5), 'roast beef sandwiches'),\n",
       " ((('sour', 'cream', 'sauce'), 5), 'sour cream sauce'),\n",
       " ((('pepper', 'tomato', 'sauce'), 5), 'pepper tomato sauce'),\n",
       " ((('bell', 'pepper', 'cream'), 5), 'bell pepper cream'),\n",
       " ((('ancho', 'chile', 'sauce'), 5), 'ancho chile sauce'),\n",
       " ((('tomato', 'arugula', 'salad'), 5), 'tomato arugula salad'),\n",
       " ((('carrot', 'cake', 'cream'), 5), 'carrot cake cream'),\n",
       " ((('tomato', 'onion', 'chutney'), 5), 'tomato onion chutney'),\n",
       " ((('pork', 'chops', 'sweet'), 5), 'pork chops sweet'),\n",
       " ((('sour', 'cherry', 'sauce'), 5), 'sour cherry sauce'),\n",
       " ((('chicken', 'breasts', 'stuffed'), 5), 'chicken breasts stuffed'),\n",
       " ((('tomatoes', 'goat', 'cheese'), 5), 'tomatoes goat cheese'),\n",
       " ((('cheese', 'ice', 'cream'), 4), 'cheese ice cream'),\n",
       " ((('potato', 'celery', 'root'), 4), 'potato celery root'),\n",
       " ((('potato', 'corn', 'bread'), 4), 'potato corn bread'),\n",
       " ((('manhattan', 'clam', 'chowder'), 4), 'manhattan clam chowder'),\n",
       " ((('goat', 'cheese', 'toasts'), 4), 'goat cheese toasts'),\n",
       " ((('beet', 'goat', 'cheese'), 4), 'beet goat cheese'),\n",
       " ((('toast', 'skin', 'hazelnuts'), 4), 'toast skin hazelnuts'),\n",
       " ((('ice', 'cream', 'chocolate'), 4), 'ice cream chocolate'),\n",
       " ((('goat', 'cheese', 'beet'), 4), 'goat cheese beet'),\n",
       " ((('root', 'vegetable', 'ragoã»t'), 4), 'root vegetable ragoã»t'),\n",
       " ((('gratin', 'goat', 'cheese'), 4), 'gratin goat cheese'),\n",
       " ((('stuffed', 'goat', 'cheese'), 4), 'stuffed goat cheese'),\n",
       " ((('corn', 'tomato', 'salad'), 4), 'corn tomato salad'),\n",
       " ((('chicken', 'bell', 'peppers'), 4), 'chicken bell peppers'),\n",
       " ((('peppers', 'goat', 'cheese'), 4), 'peppers goat cheese'),\n",
       " ((('fish', 'house', 'punch'), 4), 'fish house punch'),\n",
       " ((('cherry', 'tomato', 'relish'), 4), 'cherry tomato relish'),\n",
       " ((('poblano', 'chile', 'sauce'), 4), 'poblano chile sauce'),\n",
       " ((('cream', 'ice', 'cream'), 4), 'cream ice cream'),\n",
       " ((('lemon', 'curd', 'mousse'), 4), 'lemon curd mousse'),\n",
       " ((('ice', 'cream', 'torte'), 4), 'ice cream torte'),\n",
       " ((('prosciutto', 'goat', 'cheese'), 4), 'prosciutto goat cheese'),\n",
       " ((('frozen-butter', 'pastry', 'dough'), 4), 'frozen-butter pastry dough'),\n",
       " ((('cream', 'apple', 'pie'), 4), 'cream apple pie'),\n",
       " ((('pork', 'hominy', 'stew'), 4), 'pork hominy stew'),\n",
       " ((('sauteed', 'broccoli', 'rabe'), 4), 'sauteed broccoli rabe'),\n",
       " ((('goat', 'cheese', 'spread'), 4), 'goat cheese spread'),\n",
       " ((('spicy', 'caramel', 'apple'), 4), 'spicy caramel apple'),\n",
       " ((('wild', 'mushroom-shallot', 'gravy'), 4), 'wild mushroom-shallot gravy'),\n",
       " ((('bã»che', 'de', 'noã«l'), 4), 'bã»che de noã«l'),\n",
       " ((('sour', 'cream', 'ice'), 4), 'sour cream ice'),\n",
       " ((('sea', 'bass', 'tomato'), 4), 'sea bass tomato'),\n",
       " ((('fennel', 'cucumber', 'relish'), 4), 'fennel cucumber relish'),\n",
       " ((('roast', 'turkey', 'herb'), 4), 'roast turkey herb'),\n",
       " ((('crown', 'roast', 'lamb'), 4), 'crown roast lamb'),\n",
       " ((('chanterelle', 'mushroom', 'gravy'), 4), 'chanterelle mushroom gravy'),\n",
       " ((('roast', 'turkey', 'herbed'), 4), 'roast turkey herbed'),\n",
       " ((('peach', 'ice', 'cream'), 4), 'peach ice cream'),\n",
       " ((('quick', 'turkey', 'stock'), 4), 'quick turkey stock'),\n",
       " ((('tequila', 'ice', 'cream'), 4), 'tequila ice cream'),\n",
       " ((('sour', 'cream', 'caviar'), 4), 'sour cream caviar'),\n",
       " ((('onion', 'goat', 'cheese'), 4), 'onion goat cheese'),\n",
       " ((('potato', 'bean', 'salad'), 4), 'potato bean salad'),\n",
       " ((('garlic', 'bread', 'crumbs'), 4), 'garlic bread crumbs'),\n",
       " ((('plum', 'chili', 'salsa'), 4), 'plum chili salsa'),\n",
       " ((('soup', 'chive', 'oil'), 4), 'soup chive oil'),\n",
       " ((('crã¨me', 'fraã®che', 'potatoes'), 4), 'crã¨me fraã®che potatoes'),\n",
       " ((('chicken', 'tomato', 'cream'), 4), 'chicken tomato cream'),\n",
       " ((('eggplant', 'bell', 'pepper'), 4), 'eggplant bell pepper'),\n",
       " ((('passion-fruit', 'ice', 'cream'), 4), 'passion-fruit ice cream'),\n",
       " ((('chicken', 'wild', 'rice'), 4), 'chicken wild rice'),\n",
       " ((('orange', 'cream', 'cheese'), 4), 'orange cream cheese'),\n",
       " ((('cake', 'raspberries', 'orange'), 4), 'cake raspberries orange'),\n",
       " ((('goat', 'cheese', 'tomato'), 4), 'goat cheese tomato'),\n",
       " ((('honey', 'mustard', 'sauce'), 4), 'honey mustard sauce'),\n",
       " ((('ice', 'cream', 'sundaes'), 4), 'ice cream sundaes'),\n",
       " ((('bean', 'tomato', 'salad'), 4), 'bean tomato salad'),\n",
       " ((('bell', 'pepper', 'strata'), 4), 'bell pepper strata'),\n",
       " ((('fennel', 'orange', 'salad'), 4), 'fennel orange salad'),\n",
       " ((('sweet', 'potato', 'wedges'), 4), 'sweet potato wedges'),\n",
       " ((('sweet', 'potato', 'coconut'), 4), 'sweet potato coconut'),\n",
       " ((('wild', 'mushroom', 'lasagne'), 4), 'wild mushroom lasagne'),\n",
       " ((('cherry', 'peach', 'compote'), 4), 'cherry peach compote'),\n",
       " ((('sweet', 'potato', 'pie'), 4), 'sweet potato pie'),\n",
       " ((('squash', 'apple', 'soup'), 4), 'squash apple soup'),\n",
       " ((('prune', 'tequila', 'ice'), 4), 'prune tequila ice'),\n",
       " ((('blue', 'cheese', 'walnut'), 4), 'blue cheese walnut'),\n",
       " ((('pepper', 'onion', 'salad'), 4), 'pepper onion salad'),\n",
       " ((('pork', 'rib', 'roast'), 4), 'pork rib roast'),\n",
       " ((('vegetable', 'goat', 'cheese'), 4), 'vegetable goat cheese'),\n",
       " ((('mushroom', 'goat', 'cheese'), 4), 'mushroom goat cheese'),\n",
       " ((('cucumber', 'radish', 'salad'), 4), 'cucumber radish salad'),\n",
       " ((('jerusalem', 'artichoke', 'soup'), 4), 'jerusalem artichoke soup'),\n",
       " ((('onion', 'caper', 'tarragon'), 4), 'onion caper tarragon')]"
      ]
     },
     "execution_count": 213,
     "metadata": {},
     "output_type": "execute_result"
    }
   ],
   "source": [
    "[(x,' '.join(x[0])) for x in trigrams_count[:200]]"
   ]
  }
 ],
 "metadata": {
  "kernelspec": {
   "display_name": "Python 3",
   "language": "python",
   "name": "python3"
  },
  "language_info": {
   "codemirror_mode": {
    "name": "ipython",
    "version": 3
   },
   "file_extension": ".py",
   "mimetype": "text/x-python",
   "name": "python",
   "nbconvert_exporter": "python",
   "pygments_lexer": "ipython3",
   "version": "3.6.1"
  }
 },
 "nbformat": 4,
 "nbformat_minor": 2
}
