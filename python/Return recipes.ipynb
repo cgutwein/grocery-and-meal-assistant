{
 "cells": [
  {
   "cell_type": "code",
   "execution_count": 2,
   "metadata": {},
   "outputs": [],
   "source": [
    "import pandas as pd\n",
    "import numpy as np"
   ]
  },
  {
   "cell_type": "markdown",
   "metadata": {},
   "source": [
    "### Create breakfast from grocery list and nutrition value"
   ]
  },
  {
   "cell_type": "markdown",
   "metadata": {},
   "source": [
    "#### Calories: 400-500, protein >20"
   ]
  },
  {
   "cell_type": "code",
   "execution_count": 3,
   "metadata": {
    "collapsed": true
   },
   "outputs": [],
   "source": [
    "# Upload recipes datasets\n",
    "\n",
    "data_short=pd.read_csv('data_short.csv')"
   ]
  },
  {
   "cell_type": "code",
   "execution_count": 4,
   "metadata": {
    "collapsed": true
   },
   "outputs": [],
   "source": [
    "data_short.drop('Unnamed: 0', inplace=True, axis=1)"
   ]
  },
  {
   "cell_type": "code",
   "execution_count": 15,
   "metadata": {},
   "outputs": [
    {
     "data": {
      "text/plain": [
       "['mustard', 'sumac', 'saffron', 'celery', 'oregano']"
      ]
     },
     "execution_count": 15,
     "metadata": {},
     "output_type": "execute_result"
    }
   ],
   "source": [
    "# Upload the list of non_key ingredients\n",
    "spices=list(pd.read_csv('spices.csv')['spices'])\n",
    "spices[:5]"
   ]
  },
  {
   "cell_type": "code",
   "execution_count": 5,
   "metadata": {
    "collapsed": true
   },
   "outputs": [],
   "source": [
    "# Should be at home\n",
    "home=['pepper', 'butter', 'onion', 'butter', 'olive oil', 'sugar', 'salt', 'water']"
   ]
  },
  {
   "cell_type": "code",
   "execution_count": 7,
   "metadata": {
    "collapsed": true
   },
   "outputs": [],
   "source": [
    "# Samples groccery list (to be uploaded by the user)\n",
    "\n",
    "grocery=['apple', 'milk', 'hazelnut', 'cucumber', 'bread', 'tomato', \n",
    "         'cod fillets',  'rice', 'garlic', 'chicken', 'cheese', 'egg']\n",
    "grocery.extend(home)"
   ]
  },
  {
   "cell_type": "code",
   "execution_count": 8,
   "metadata": {
    "collapsed": true
   },
   "outputs": [],
   "source": [
    "options=data_short[(data_short.meal=='breakfast')&(data_short.calories<550)&(data_short.calories>400)&(data_short.protein>20)]"
   ]
  },
  {
   "cell_type": "code",
   "execution_count": 9,
   "metadata": {
    "collapsed": true
   },
   "outputs": [],
   "source": [
    "non_ingredients=['meal','title','calories','protein','carbs','fat','sodium','steps']"
   ]
  },
  {
   "cell_type": "code",
   "execution_count": 16,
   "metadata": {
    "collapsed": true
   },
   "outputs": [],
   "source": [
    "non_ingredients.extend(spices)"
   ]
  },
  {
   "cell_type": "code",
   "execution_count": 17,
   "metadata": {
    "collapsed": true
   },
   "outputs": [],
   "source": [
    "ingredients=options.drop(non_ingredients, axis=1).columns"
   ]
  },
  {
   "cell_type": "markdown",
   "metadata": {},
   "source": [
    "#### Filter the recipes based on the meal type and nutrition"
   ]
  },
  {
   "cell_type": "code",
   "execution_count": 22,
   "metadata": {
    "collapsed": true
   },
   "outputs": [],
   "source": [
    "options=data_short[(data_short.meal=='breakfast')&(data_short.calories<550)&(data_short.calories>400)&(data_short.protein>20)]"
   ]
  },
  {
   "cell_type": "code",
   "execution_count": 23,
   "metadata": {
    "collapsed": true
   },
   "outputs": [],
   "source": [
    "# products outside the groccery list\n",
    "needed=[x for x in ingredients if x not in grocery]"
   ]
  },
  {
   "cell_type": "code",
   "execution_count": 24,
   "metadata": {},
   "outputs": [],
   "source": [
    "# Keep only the recipes if the number of additional key ingredients doesnt exceed 3\n",
    "sums=options[needed].sum(axis=1)\n",
    "ind=[x for x in sums.index if sums.loc[x]<=3]\n",
    "options=options.loc[ind]"
   ]
  },
  {
   "cell_type": "code",
   "execution_count": 25,
   "metadata": {
    "collapsed": true
   },
   "outputs": [],
   "source": [
    "# drop columns with unused ingredients\n",
    "options.drop([x for x in ingredients if sum(options[x])==0], axis=1, inplace=True)"
   ]
  },
  {
   "cell_type": "code",
   "execution_count": 26,
   "metadata": {},
   "outputs": [
    {
     "data": {
      "text/plain": [
       "(18, 124)"
      ]
     },
     "execution_count": 26,
     "metadata": {},
     "output_type": "execute_result"
    }
   ],
   "source": [
    "options.shape"
   ]
  },
  {
   "cell_type": "code",
   "execution_count": 38,
   "metadata": {
    "collapsed": true
   },
   "outputs": [],
   "source": [
    "recommendation=options.loc[ind][['title', 'calories', 'protein', 'carbs', 'fat']]\n",
    "\n",
    "recommendation['products to add']=pd.Series([[x for x in options.drop(non_ingredients, axis=1).columns if \n",
    "                                              (x not in grocery)&(options.loc[i][x]==1)] for i in ind] , index=ind)\n",
    "recommendation['non-key elements']=pd.Series([[x for x in spices if \n",
    "                                              (x not in grocery)&(options.loc[i][x]==1)] for i in ind] , index=ind)\n",
    "\n",
    "recommendation['# of products to add']=pd.Series([len([y for y in recommendation.loc[i]['products to add'] \n",
    "                                                       if y not in non_ingredients]) for i in ind], index=ind)"
   ]
  },
  {
   "cell_type": "code",
   "execution_count": 39,
   "metadata": {},
   "outputs": [
    {
     "data": {
      "text/html": [
       "<div>\n",
       "<style>\n",
       "    .dataframe thead tr:only-child th {\n",
       "        text-align: right;\n",
       "    }\n",
       "\n",
       "    .dataframe thead th {\n",
       "        text-align: left;\n",
       "    }\n",
       "\n",
       "    .dataframe tbody tr th {\n",
       "        vertical-align: top;\n",
       "    }\n",
       "</style>\n",
       "<table border=\"1\" class=\"dataframe\">\n",
       "  <thead>\n",
       "    <tr style=\"text-align: right;\">\n",
       "      <th></th>\n",
       "      <th>title</th>\n",
       "      <th>calories</th>\n",
       "      <th>protein</th>\n",
       "      <th>carbs</th>\n",
       "      <th>fat</th>\n",
       "      <th>products to add</th>\n",
       "      <th>non-key elements</th>\n",
       "      <th># of products to add</th>\n",
       "    </tr>\n",
       "  </thead>\n",
       "  <tbody>\n",
       "    <tr>\n",
       "      <th>751</th>\n",
       "      <td>Herbed Lamb Burgers</td>\n",
       "      <td>538.0</td>\n",
       "      <td>28.0</td>\n",
       "      <td>39.00</td>\n",
       "      <td>30.0</td>\n",
       "      <td>[pita bread rounds, lamb, plain yogurt]</td>\n",
       "      <td>[parsley, cumin, cinnamon, mint]</td>\n",
       "      <td>3</td>\n",
       "    </tr>\n",
       "    <tr>\n",
       "      <th>2361</th>\n",
       "      <td>Pork Chops with Golden Onions and Wilted Tomat...</td>\n",
       "      <td>466.0</td>\n",
       "      <td>43.0</td>\n",
       "      <td>10.50</td>\n",
       "      <td>28.0</td>\n",
       "      <td>[vinegar, pork loin chops, cherry tomatoes]</td>\n",
       "      <td>[]</td>\n",
       "      <td>3</td>\n",
       "    </tr>\n",
       "    <tr>\n",
       "      <th>2817</th>\n",
       "      <td>Turkey Hash</td>\n",
       "      <td>461.0</td>\n",
       "      <td>21.0</td>\n",
       "      <td>33.50</td>\n",
       "      <td>27.0</td>\n",
       "      <td>[gold potatoes, cooked turkey]</td>\n",
       "      <td>[]</td>\n",
       "      <td>2</td>\n",
       "    </tr>\n",
       "    <tr>\n",
       "      <th>2870</th>\n",
       "      <td>Spinach and Cheese Strata</td>\n",
       "      <td>509.0</td>\n",
       "      <td>30.0</td>\n",
       "      <td>29.75</td>\n",
       "      <td>30.0</td>\n",
       "      <td>[parmigiano, spinach, dijon mustard]</td>\n",
       "      <td>[nutmeg]</td>\n",
       "      <td>3</td>\n",
       "    </tr>\n",
       "    <tr>\n",
       "      <th>3074</th>\n",
       "      <td>White Bean and Watercress Gratin</td>\n",
       "      <td>490.0</td>\n",
       "      <td>27.0</td>\n",
       "      <td>64.00</td>\n",
       "      <td>14.0</td>\n",
       "      <td>[bread crumbs, bean, wine vinegar]</td>\n",
       "      <td>[watercress]</td>\n",
       "      <td>3</td>\n",
       "    </tr>\n",
       "    <tr>\n",
       "      <th>3215</th>\n",
       "      <td>Braised Chicken in Sun-Dried Tomato Cream</td>\n",
       "      <td>418.0</td>\n",
       "      <td>55.0</td>\n",
       "      <td>15.75</td>\n",
       "      <td>15.0</td>\n",
       "      <td>[whipping cream, dry wine]</td>\n",
       "      <td>[basil]</td>\n",
       "      <td>2</td>\n",
       "    </tr>\n",
       "    <tr>\n",
       "      <th>4189</th>\n",
       "      <td>GruyÃ¨re Potato Gratin</td>\n",
       "      <td>445.0</td>\n",
       "      <td>24.0</td>\n",
       "      <td>42.25</td>\n",
       "      <td>20.0</td>\n",
       "      <td>[potato]</td>\n",
       "      <td>[]</td>\n",
       "      <td>1</td>\n",
       "    </tr>\n",
       "    <tr>\n",
       "      <th>5866</th>\n",
       "      <td>Chicken Wings with Curry-Yogurt Glaze</td>\n",
       "      <td>521.0</td>\n",
       "      <td>44.0</td>\n",
       "      <td>12.00</td>\n",
       "      <td>33.0</td>\n",
       "      <td>[plain yogurt, curry powder]</td>\n",
       "      <td>[cumin, cilantro, ginger]</td>\n",
       "      <td>2</td>\n",
       "    </tr>\n",
       "    <tr>\n",
       "      <th>6801</th>\n",
       "      <td>Chicken Paprikas</td>\n",
       "      <td>463.0</td>\n",
       "      <td>59.0</td>\n",
       "      <td>11.75</td>\n",
       "      <td>20.0</td>\n",
       "      <td>[chicken broth, sour cream]</td>\n",
       "      <td>[paprika]</td>\n",
       "      <td>2</td>\n",
       "    </tr>\n",
       "    <tr>\n",
       "      <th>7201</th>\n",
       "      <td>Grilled Salmon with Lime Butter Sauce</td>\n",
       "      <td>456.0</td>\n",
       "      <td>35.0</td>\n",
       "      <td>2.50</td>\n",
       "      <td>34.0</td>\n",
       "      <td>[lime, salmon]</td>\n",
       "      <td>[]</td>\n",
       "      <td>2</td>\n",
       "    </tr>\n",
       "    <tr>\n",
       "      <th>10140</th>\n",
       "      <td>Smoked Salmon and Dill Matzoh Brei</td>\n",
       "      <td>434.0</td>\n",
       "      <td>22.0</td>\n",
       "      <td>25.75</td>\n",
       "      <td>27.0</td>\n",
       "      <td>[smoked salmon, matzo]</td>\n",
       "      <td>[dill]</td>\n",
       "      <td>2</td>\n",
       "    </tr>\n",
       "    <tr>\n",
       "      <th>11700</th>\n",
       "      <td>Pesce Per Due</td>\n",
       "      <td>484.0</td>\n",
       "      <td>91.0</td>\n",
       "      <td>7.50</td>\n",
       "      <td>10.0</td>\n",
       "      <td>[sea salt, branzino, lemon]</td>\n",
       "      <td>[parsley, rosemary]</td>\n",
       "      <td>3</td>\n",
       "    </tr>\n",
       "    <tr>\n",
       "      <th>12929</th>\n",
       "      <td>Grilled Spiced Garlic Skirt Steak</td>\n",
       "      <td>473.0</td>\n",
       "      <td>46.0</td>\n",
       "      <td>2.50</td>\n",
       "      <td>31.0</td>\n",
       "      <td>[accompaniment, skirt steak, lime juice]</td>\n",
       "      <td>[coriander, cumin, cinnamon]</td>\n",
       "      <td>3</td>\n",
       "    </tr>\n",
       "    <tr>\n",
       "      <th>13637</th>\n",
       "      <td>Poached Salt Cod</td>\n",
       "      <td>444.0</td>\n",
       "      <td>95.0</td>\n",
       "      <td>7.00</td>\n",
       "      <td>4.0</td>\n",
       "      <td>[bay leaves, black peppercorns]</td>\n",
       "      <td>[thyme]</td>\n",
       "      <td>2</td>\n",
       "    </tr>\n",
       "    <tr>\n",
       "      <th>14212</th>\n",
       "      <td>Ham and Swiss Cheese Frittata</td>\n",
       "      <td>402.0</td>\n",
       "      <td>25.0</td>\n",
       "      <td>8.00</td>\n",
       "      <td>30.0</td>\n",
       "      <td>[swiss cheese, cooked ham, chopped green bell ...</td>\n",
       "      <td>[]</td>\n",
       "      <td>3</td>\n",
       "    </tr>\n",
       "    <tr>\n",
       "      <th>17023</th>\n",
       "      <td>Asparagus and Goat Cheese Frittata</td>\n",
       "      <td>482.0</td>\n",
       "      <td>24.0</td>\n",
       "      <td>4.25</td>\n",
       "      <td>41.0</td>\n",
       "      <td>[cream, goat cheese, asparagus]</td>\n",
       "      <td>[tabasco]</td>\n",
       "      <td>3</td>\n",
       "    </tr>\n",
       "    <tr>\n",
       "      <th>17654</th>\n",
       "      <td>Ham and Sweet Potato Hash with Fried Eggs</td>\n",
       "      <td>530.0</td>\n",
       "      <td>27.0</td>\n",
       "      <td>35.75</td>\n",
       "      <td>31.0</td>\n",
       "      <td>[potato, ham, dijon mustard]</td>\n",
       "      <td>[watercress]</td>\n",
       "      <td>3</td>\n",
       "    </tr>\n",
       "    <tr>\n",
       "      <th>17720</th>\n",
       "      <td>Cowboy Christmas Breakfast</td>\n",
       "      <td>410.0</td>\n",
       "      <td>24.0</td>\n",
       "      <td>17.75</td>\n",
       "      <td>27.0</td>\n",
       "      <td>[sausage, scallion, cheddar]</td>\n",
       "      <td>[]</td>\n",
       "      <td>3</td>\n",
       "    </tr>\n",
       "  </tbody>\n",
       "</table>\n",
       "</div>"
      ],
      "text/plain": [
       "                                                   title  calories  protein  \\\n",
       "751                                 Herbed Lamb Burgers      538.0     28.0   \n",
       "2361   Pork Chops with Golden Onions and Wilted Tomat...     466.0     43.0   \n",
       "2817                                        Turkey Hash      461.0     21.0   \n",
       "2870                          Spinach and Cheese Strata      509.0     30.0   \n",
       "3074                   White Bean and Watercress Gratin      490.0     27.0   \n",
       "3215          Braised Chicken in Sun-Dried Tomato Cream      418.0     55.0   \n",
       "4189                             GruyÃ¨re Potato Gratin      445.0     24.0   \n",
       "5866              Chicken Wings with Curry-Yogurt Glaze      521.0     44.0   \n",
       "6801                                   Chicken Paprikas      463.0     59.0   \n",
       "7201              Grilled Salmon with Lime Butter Sauce      456.0     35.0   \n",
       "10140                Smoked Salmon and Dill Matzoh Brei      434.0     22.0   \n",
       "11700                                     Pesce Per Due      484.0     91.0   \n",
       "12929                 Grilled Spiced Garlic Skirt Steak      473.0     46.0   \n",
       "13637                                  Poached Salt Cod      444.0     95.0   \n",
       "14212                     Ham and Swiss Cheese Frittata      402.0     25.0   \n",
       "17023                Asparagus and Goat Cheese Frittata      482.0     24.0   \n",
       "17654         Ham and Sweet Potato Hash with Fried Eggs      530.0     27.0   \n",
       "17720                        Cowboy Christmas Breakfast      410.0     24.0   \n",
       "\n",
       "       carbs   fat                                    products to add  \\\n",
       "751    39.00  30.0            [pita bread rounds, lamb, plain yogurt]   \n",
       "2361   10.50  28.0        [vinegar, pork loin chops, cherry tomatoes]   \n",
       "2817   33.50  27.0                     [gold potatoes, cooked turkey]   \n",
       "2870   29.75  30.0               [parmigiano, spinach, dijon mustard]   \n",
       "3074   64.00  14.0                 [bread crumbs, bean, wine vinegar]   \n",
       "3215   15.75  15.0                         [whipping cream, dry wine]   \n",
       "4189   42.25  20.0                                           [potato]   \n",
       "5866   12.00  33.0                       [plain yogurt, curry powder]   \n",
       "6801   11.75  20.0                        [chicken broth, sour cream]   \n",
       "7201    2.50  34.0                                     [lime, salmon]   \n",
       "10140  25.75  27.0                             [smoked salmon, matzo]   \n",
       "11700   7.50  10.0                        [sea salt, branzino, lemon]   \n",
       "12929   2.50  31.0           [accompaniment, skirt steak, lime juice]   \n",
       "13637   7.00   4.0                    [bay leaves, black peppercorns]   \n",
       "14212   8.00  30.0  [swiss cheese, cooked ham, chopped green bell ...   \n",
       "17023   4.25  41.0                    [cream, goat cheese, asparagus]   \n",
       "17654  35.75  31.0                       [potato, ham, dijon mustard]   \n",
       "17720  17.75  27.0                       [sausage, scallion, cheddar]   \n",
       "\n",
       "                       non-key elements  # of products to add  \n",
       "751    [parsley, cumin, cinnamon, mint]                     3  \n",
       "2361                                 []                     3  \n",
       "2817                                 []                     2  \n",
       "2870                           [nutmeg]                     3  \n",
       "3074                       [watercress]                     3  \n",
       "3215                            [basil]                     2  \n",
       "4189                                 []                     1  \n",
       "5866          [cumin, cilantro, ginger]                     2  \n",
       "6801                          [paprika]                     2  \n",
       "7201                                 []                     2  \n",
       "10140                            [dill]                     2  \n",
       "11700               [parsley, rosemary]                     3  \n",
       "12929      [coriander, cumin, cinnamon]                     3  \n",
       "13637                           [thyme]                     2  \n",
       "14212                                []                     3  \n",
       "17023                         [tabasco]                     3  \n",
       "17654                      [watercress]                     3  \n",
       "17720                                []                     3  "
      ]
     },
     "execution_count": 39,
     "metadata": {},
     "output_type": "execute_result"
    }
   ],
   "source": [
    "recommendation"
   ]
  },
  {
   "cell_type": "code",
   "execution_count": null,
   "metadata": {
    "collapsed": true
   },
   "outputs": [],
   "source": []
  }
 ],
 "metadata": {
  "kernelspec": {
   "display_name": "Python 3",
   "language": "python",
   "name": "python3"
  },
  "language_info": {
   "codemirror_mode": {
    "name": "ipython",
    "version": 3
   },
   "file_extension": ".py",
   "mimetype": "text/x-python",
   "name": "python",
   "nbconvert_exporter": "python",
   "pygments_lexer": "ipython3",
   "version": "3.6.1"
  }
 },
 "nbformat": 4,
 "nbformat_minor": 2
}
