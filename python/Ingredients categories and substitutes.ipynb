{
 "cells": [
  {
   "cell_type": "code",
   "execution_count": 2,
   "metadata": {
    "collapsed": true
   },
   "outputs": [],
   "source": [
    "import pandas as pd\n",
    "import nltk"
   ]
  },
  {
   "cell_type": "code",
   "execution_count": 133,
   "metadata": {
    "collapsed": true
   },
   "outputs": [],
   "source": [
    "import numpy as np"
   ]
  },
  {
   "cell_type": "markdown",
   "metadata": {},
   "source": [
    "### Read the list of ingredients and leave only the short version"
   ]
  },
  {
   "cell_type": "code",
   "execution_count": 197,
   "metadata": {},
   "outputs": [],
   "source": [
    "ingredients=pd.read_csv('data/ingredients.csv')\n",
    "ingredients.drop('Column1', axis=1, inplace=True)"
   ]
  },
  {
   "cell_type": "code",
   "execution_count": 205,
   "metadata": {},
   "outputs": [
    {
     "data": {
      "text/html": [
       "<div>\n",
       "<style>\n",
       "    .dataframe thead tr:only-child th {\n",
       "        text-align: right;\n",
       "    }\n",
       "\n",
       "    .dataframe thead th {\n",
       "        text-align: left;\n",
       "    }\n",
       "\n",
       "    .dataframe tbody tr th {\n",
       "        vertical-align: top;\n",
       "    }\n",
       "</style>\n",
       "<table border=\"1\" class=\"dataframe\">\n",
       "  <thead>\n",
       "    <tr style=\"text-align: right;\">\n",
       "      <th></th>\n",
       "      <th>full name</th>\n",
       "      <th>stem</th>\n",
       "      <th>substitute 1</th>\n",
       "      <th>substitute 2</th>\n",
       "      <th>substitute 3</th>\n",
       "      <th>food type</th>\n",
       "    </tr>\n",
       "  </thead>\n",
       "  <tbody>\n",
       "    <tr>\n",
       "      <th>0</th>\n",
       "      <td>double cream</td>\n",
       "      <td>cream</td>\n",
       "      <td>NaN</td>\n",
       "      <td>NaN</td>\n",
       "      <td>NaN</td>\n",
       "      <td>NaN</td>\n",
       "    </tr>\n",
       "    <tr>\n",
       "      <th>1</th>\n",
       "      <td>flax seeds</td>\n",
       "      <td>flaxseed</td>\n",
       "      <td>NaN</td>\n",
       "      <td>NaN</td>\n",
       "      <td>NaN</td>\n",
       "      <td>NaN</td>\n",
       "    </tr>\n",
       "    <tr>\n",
       "      <th>2</th>\n",
       "      <td>farro</td>\n",
       "      <td>farro</td>\n",
       "      <td>NaN</td>\n",
       "      <td>NaN</td>\n",
       "      <td>NaN</td>\n",
       "      <td>NaN</td>\n",
       "    </tr>\n",
       "    <tr>\n",
       "      <th>3</th>\n",
       "      <td>applesauce</td>\n",
       "      <td>applesauce</td>\n",
       "      <td>NaN</td>\n",
       "      <td>NaN</td>\n",
       "      <td>NaN</td>\n",
       "      <td>NaN</td>\n",
       "    </tr>\n",
       "    <tr>\n",
       "      <th>4</th>\n",
       "      <td>fresh cranberries</td>\n",
       "      <td>cranberry</td>\n",
       "      <td>NaN</td>\n",
       "      <td>NaN</td>\n",
       "      <td>NaN</td>\n",
       "      <td>NaN</td>\n",
       "    </tr>\n",
       "  </tbody>\n",
       "</table>\n",
       "</div>"
      ],
      "text/plain": [
       "           full name        stem substitute 1 substitute 2  substitute 3  \\\n",
       "0       double cream       cream          NaN          NaN           NaN   \n",
       "1         flax seeds    flaxseed          NaN          NaN           NaN   \n",
       "2              farro       farro          NaN          NaN           NaN   \n",
       "3         applesauce  applesauce          NaN          NaN           NaN   \n",
       "4  fresh cranberries   cranberry          NaN          NaN           NaN   \n",
       "\n",
       "  food type  \n",
       "0       NaN  \n",
       "1       NaN  \n",
       "2       NaN  \n",
       "3       NaN  \n",
       "4       NaN  "
      ]
     },
     "execution_count": 205,
     "metadata": {},
     "output_type": "execute_result"
    }
   ],
   "source": [
    "ingredients.head()"
   ]
  },
  {
   "cell_type": "code",
   "execution_count": 244,
   "metadata": {},
   "outputs": [],
   "source": [
    "ingredients_short=ingredients[['stem', 'substitute 1', 'substitute 2', 'substitute 3', 'food type']]"
   ]
  },
  {
   "cell_type": "code",
   "execution_count": 245,
   "metadata": {},
   "outputs": [],
   "source": [
    "ingredients_short=ingredients_short.drop_duplicates('stem')"
   ]
  },
  {
   "cell_type": "code",
   "execution_count": 246,
   "metadata": {},
   "outputs": [
    {
     "data": {
      "text/plain": [
       "(1929, 5)"
      ]
     },
     "execution_count": 246,
     "metadata": {},
     "output_type": "execute_result"
    }
   ],
   "source": [
    "ingredients_short.shape"
   ]
  },
  {
   "cell_type": "code",
   "execution_count": 247,
   "metadata": {
    "collapsed": true
   },
   "outputs": [],
   "source": [
    "ingredients_short=ingredients_short.reset_index()\n",
    "ingredients_short.drop('index', axis=1, inplace=True)"
   ]
  },
  {
   "cell_type": "code",
   "execution_count": 204,
   "metadata": {},
   "outputs": [],
   "source": [
    "#ingredients_short=ingredients_short.replace(np.nan, 0)"
   ]
  },
  {
   "cell_type": "code",
   "execution_count": 248,
   "metadata": {},
   "outputs": [
    {
     "data": {
      "text/html": [
       "<div>\n",
       "<style>\n",
       "    .dataframe thead tr:only-child th {\n",
       "        text-align: right;\n",
       "    }\n",
       "\n",
       "    .dataframe thead th {\n",
       "        text-align: left;\n",
       "    }\n",
       "\n",
       "    .dataframe tbody tr th {\n",
       "        vertical-align: top;\n",
       "    }\n",
       "</style>\n",
       "<table border=\"1\" class=\"dataframe\">\n",
       "  <thead>\n",
       "    <tr style=\"text-align: right;\">\n",
       "      <th></th>\n",
       "      <th>stem</th>\n",
       "      <th>substitute 1</th>\n",
       "      <th>substitute 2</th>\n",
       "      <th>substitute 3</th>\n",
       "      <th>food type</th>\n",
       "    </tr>\n",
       "  </thead>\n",
       "  <tbody>\n",
       "    <tr>\n",
       "      <th>0</th>\n",
       "      <td>cream</td>\n",
       "      <td>NaN</td>\n",
       "      <td>NaN</td>\n",
       "      <td>NaN</td>\n",
       "      <td>NaN</td>\n",
       "    </tr>\n",
       "    <tr>\n",
       "      <th>1</th>\n",
       "      <td>flaxseed</td>\n",
       "      <td>NaN</td>\n",
       "      <td>NaN</td>\n",
       "      <td>NaN</td>\n",
       "      <td>NaN</td>\n",
       "    </tr>\n",
       "    <tr>\n",
       "      <th>2</th>\n",
       "      <td>farro</td>\n",
       "      <td>NaN</td>\n",
       "      <td>NaN</td>\n",
       "      <td>NaN</td>\n",
       "      <td>NaN</td>\n",
       "    </tr>\n",
       "    <tr>\n",
       "      <th>3</th>\n",
       "      <td>applesauce</td>\n",
       "      <td>NaN</td>\n",
       "      <td>NaN</td>\n",
       "      <td>NaN</td>\n",
       "      <td>NaN</td>\n",
       "    </tr>\n",
       "    <tr>\n",
       "      <th>4</th>\n",
       "      <td>cranberry</td>\n",
       "      <td>NaN</td>\n",
       "      <td>NaN</td>\n",
       "      <td>NaN</td>\n",
       "      <td>NaN</td>\n",
       "    </tr>\n",
       "  </tbody>\n",
       "</table>\n",
       "</div>"
      ],
      "text/plain": [
       "         stem substitute 1 substitute 2  substitute 3 food type\n",
       "0       cream          NaN          NaN           NaN       NaN\n",
       "1    flaxseed          NaN          NaN           NaN       NaN\n",
       "2       farro          NaN          NaN           NaN       NaN\n",
       "3  applesauce          NaN          NaN           NaN       NaN\n",
       "4   cranberry          NaN          NaN           NaN       NaN"
      ]
     },
     "execution_count": 248,
     "metadata": {},
     "output_type": "execute_result"
    }
   ],
   "source": [
    "ingredients_short.head()"
   ]
  },
  {
   "cell_type": "markdown",
   "metadata": {},
   "source": [
    "### Add substitutes"
   ]
  },
  {
   "cell_type": "code",
   "execution_count": 149,
   "metadata": {},
   "outputs": [],
   "source": [
    "f=open(\"data/substitutes.txt\", \"r\")\n",
    "substitutes=f.read()\n",
    "substitutes=eval(substitutes)\n",
    "substitutes=[list(x) for x in substitutes]"
   ]
  },
  {
   "cell_type": "code",
   "execution_count": 150,
   "metadata": {},
   "outputs": [
    {
     "data": {
      "text/plain": [
       "[['olive oil', 'canola oil'], ['olive oil', 'peanut oil']]"
      ]
     },
     "execution_count": 150,
     "metadata": {},
     "output_type": "execute_result"
    }
   ],
   "source": [
    "substitutes[:2]"
   ]
  },
  {
   "cell_type": "code",
   "execution_count": 151,
   "metadata": {},
   "outputs": [],
   "source": [
    "check=list(set([y for x in substitutes for y in x]))"
   ]
  },
  {
   "cell_type": "code",
   "execution_count": 152,
   "metadata": {},
   "outputs": [
    {
     "data": {
      "text/plain": [
       "['chicken broth',\n",
       " 'agave',\n",
       " 'vegetable broth',\n",
       " 'scallion',\n",
       " 'beef broth',\n",
       " 'minced garlic',\n",
       " 'savory',\n",
       " 'leeks',\n",
       " 'tamari sauce',\n",
       " 'half and half',\n",
       " 'chive',\n",
       " 'poblano pepper']"
      ]
     },
     "execution_count": 152,
     "metadata": {},
     "output_type": "execute_result"
    }
   ],
   "source": [
    "[x for x in check if x not in list(ingredients.stem)]"
   ]
  },
  {
   "cell_type": "code",
   "execution_count": 153,
   "metadata": {},
   "outputs": [],
   "source": [
    "replace={'chicken broth':'chicken stock', 'agave':'agave nectar', 'tamari sauce':'tamari soy sauce', \n",
    " 'scallion':'chives', 'vegetable broth':'vegetable stock', 'savory': 'summer savory', 'poblano pepper':'poblano chiles',\n",
    " 'chive':'chives', 'cornmeal': 'corn meal', 'leeks':'leek', 'half and half':'half-and-half', 'beef broth': 'beef stock', 'minced garlic': 'garlic'\n",
    "}"
   ]
  },
  {
   "cell_type": "code",
   "execution_count": 154,
   "metadata": {},
   "outputs": [],
   "source": [
    "for i in range(len(substitutes)):\n",
    "    y=set(replace.keys()).intersection(substitutes[i])\n",
    "    if len(y)>0:\n",
    "        y=list(y)\n",
    "        for yy in y:\n",
    "            substitutes[i]=[replace[yy] if xx==yy else xx for xx in substitutes[i]]"
   ]
  },
  {
   "cell_type": "code",
   "execution_count": 155,
   "metadata": {},
   "outputs": [
    {
     "data": {
      "text/plain": [
       "[]"
      ]
     },
     "execution_count": 155,
     "metadata": {},
     "output_type": "execute_result"
    }
   ],
   "source": [
    "check=list(set([y for x in substitutes for y in x]))\n",
    "[x for x in check if x not in list(ingredients.stem)]"
   ]
  },
  {
   "cell_type": "markdown",
   "metadata": {},
   "source": [
    "### Incorporate additional items into the dataset"
   ]
  },
  {
   "cell_type": "code",
   "execution_count": 294,
   "metadata": {},
   "outputs": [],
   "source": [
    "#ingredients_short['food type']=ingredients['food type']"
   ]
  },
  {
   "cell_type": "code",
   "execution_count": 296,
   "metadata": {},
   "outputs": [
    {
     "data": {
      "text/html": [
       "<div>\n",
       "<style>\n",
       "    .dataframe thead tr:only-child th {\n",
       "        text-align: right;\n",
       "    }\n",
       "\n",
       "    .dataframe thead th {\n",
       "        text-align: left;\n",
       "    }\n",
       "\n",
       "    .dataframe tbody tr th {\n",
       "        vertical-align: top;\n",
       "    }\n",
       "</style>\n",
       "<table border=\"1\" class=\"dataframe\">\n",
       "  <thead>\n",
       "    <tr style=\"text-align: right;\">\n",
       "      <th></th>\n",
       "      <th>stem</th>\n",
       "      <th>substitute 1</th>\n",
       "      <th>substitute 2</th>\n",
       "      <th>substitute 3</th>\n",
       "      <th>food type</th>\n",
       "    </tr>\n",
       "  </thead>\n",
       "  <tbody>\n",
       "    <tr>\n",
       "      <th>0</th>\n",
       "      <td>cream</td>\n",
       "      <td>half-and-half</td>\n",
       "      <td>NaN</td>\n",
       "      <td>NaN</td>\n",
       "      <td>NaN</td>\n",
       "    </tr>\n",
       "    <tr>\n",
       "      <th>1</th>\n",
       "      <td>flaxseed</td>\n",
       "      <td>NaN</td>\n",
       "      <td>NaN</td>\n",
       "      <td>NaN</td>\n",
       "      <td>NaN</td>\n",
       "    </tr>\n",
       "    <tr>\n",
       "      <th>2</th>\n",
       "      <td>farro</td>\n",
       "      <td>NaN</td>\n",
       "      <td>NaN</td>\n",
       "      <td>NaN</td>\n",
       "      <td>NaN</td>\n",
       "    </tr>\n",
       "    <tr>\n",
       "      <th>3</th>\n",
       "      <td>applesauce</td>\n",
       "      <td>NaN</td>\n",
       "      <td>NaN</td>\n",
       "      <td>NaN</td>\n",
       "      <td>NaN</td>\n",
       "    </tr>\n",
       "    <tr>\n",
       "      <th>4</th>\n",
       "      <td>cranberry</td>\n",
       "      <td>NaN</td>\n",
       "      <td>NaN</td>\n",
       "      <td>NaN</td>\n",
       "      <td>NaN</td>\n",
       "    </tr>\n",
       "    <tr>\n",
       "      <th>5</th>\n",
       "      <td>schmaltz</td>\n",
       "      <td>pork fat</td>\n",
       "      <td>NaN</td>\n",
       "      <td>NaN</td>\n",
       "      <td>NaN</td>\n",
       "    </tr>\n",
       "    <tr>\n",
       "      <th>6</th>\n",
       "      <td>black tea</td>\n",
       "      <td>NaN</td>\n",
       "      <td>NaN</td>\n",
       "      <td>NaN</td>\n",
       "      <td>NaN</td>\n",
       "    </tr>\n",
       "    <tr>\n",
       "      <th>7</th>\n",
       "      <td>green beans</td>\n",
       "      <td>bean</td>\n",
       "      <td>NaN</td>\n",
       "      <td>NaN</td>\n",
       "      <td>NaN</td>\n",
       "    </tr>\n",
       "    <tr>\n",
       "      <th>8</th>\n",
       "      <td>dried orange peel</td>\n",
       "      <td>NaN</td>\n",
       "      <td>NaN</td>\n",
       "      <td>NaN</td>\n",
       "      <td>NaN</td>\n",
       "    </tr>\n",
       "    <tr>\n",
       "      <th>9</th>\n",
       "      <td>garlic salt</td>\n",
       "      <td>salt</td>\n",
       "      <td>NaN</td>\n",
       "      <td>NaN</td>\n",
       "      <td>NaN</td>\n",
       "    </tr>\n",
       "  </tbody>\n",
       "</table>\n",
       "</div>"
      ],
      "text/plain": [
       "                stem   substitute 1 substitute 2 substitute 3 food type\n",
       "0              cream  half-and-half          NaN          NaN       NaN\n",
       "1           flaxseed            NaN          NaN          NaN       NaN\n",
       "2              farro            NaN          NaN          NaN       NaN\n",
       "3         applesauce            NaN          NaN          NaN       NaN\n",
       "4          cranberry            NaN          NaN          NaN       NaN\n",
       "5           schmaltz       pork fat          NaN          NaN       NaN\n",
       "6          black tea            NaN          NaN          NaN       NaN\n",
       "7        green beans           bean          NaN          NaN       NaN\n",
       "8  dried orange peel            NaN          NaN          NaN       NaN\n",
       "9        garlic salt           salt          NaN          NaN       NaN"
      ]
     },
     "execution_count": 296,
     "metadata": {},
     "output_type": "execute_result"
    }
   ],
   "source": [
    "ingredients_short.head(10)"
   ]
  },
  {
   "cell_type": "code",
   "execution_count": null,
   "metadata": {
    "collapsed": true
   },
   "outputs": [],
   "source": [
    "for x in substitutes:\n",
    "    idx=ingredients_short[ingredients_short['stem']==x[0]].index\n",
    "    if x[1] not in ingredients_short.loc[idx][['substitute 1', 'substitute 2', 'substitute 3']]:\n",
    "        if type(list(ingredients_short.loc[idx, 'substitute 1'])[0])!=str:\n",
    "            ingredients_short.set_value(idx, 'substitute 1', x[1])\n",
    "        elif type(list(ingredients_short.loc[idx, 'substitute 2'])[0])!=str:\n",
    "            ingredients_short.set_value(idx, 'substitute 2', x[1])        \n",
    "        elif type(list(ingredients_short.loc[idx, 'substitute 3'])[0])!=str:\n",
    "            ingredients_short.set_value(idx, 'substitute 3', x[1])\n",
    "        \n",
    "        else:\n",
    "                                        print('add column')\n",
    "                                        break\n",
    "                                        "
   ]
  },
  {
   "cell_type": "markdown",
   "metadata": {},
   "source": [
    "### Assign food type"
   ]
  },
  {
   "cell_type": "code",
   "execution_count": 277,
   "metadata": {
    "collapsed": true
   },
   "outputs": [],
   "source": [
    "meat=['lamb', 'beef', 'meat', 'mutton', 'veal', 'venison', 'pork',\n",
    "      'turkey', 'bacon', 'ham', 'hot dogs', 'jamon', 'prosciutto', 'salami', 'sausage', 'rabbit']\n",
    "\n",
    "poultry=['chicken', 'turkey', 'duck', 'grouse', 'pheasant']\n",
    "\n",
    "fish=['fish', 'salmon', 'cod', 'tilapia', 'catfish', 'halibut', 'mahi', 'tuna', 'mackerel',  \n",
    "      'swordfish', 'sole', 'bass', 'anchovy', 'herring', 'haddock', 'monkfish', 'mullet', 'sardines', 'swordfish', \n",
    "     'trout', 'caviar', 'turbot', 'snapper', 'sturgeon', 'flounder', 'barramundi']\n",
    "\n",
    "seafood=['crabs', 'shells', 'shrimp', 'clam', 'lobster', 'octopus', 'scallops', 'squid', 'eel', 'snail']\n",
    "\n",
    "dairy=['cheese', 'milk', 'mascarpone', 'butter' 'buttermilk', 'ice cream', \n",
    "       'sour cream', 'yogurt', 'yoghurt', 'kefir', 'custard', 'cream']\n",
    "\n",
    "milk_exclude=['coconut', 'soymilk', 'soy', 'cashew', 'almond', 'rice']\n",
    "\n",
    "egg=['egg', 'eggs', 'yolk', 'whites']\n",
    "\n",
    "#vegetables\n",
    "vegetables=list(pd.read_csv('data/vegetables.csv')['Vegetables'])\n",
    "vegetables=[x.lower() for x in vegetables]\n",
    "vegetables=[x.split('/') for x in vegetables]\n",
    "vegetables=[y for x in vegetables for y in x]\n",
    "\n",
    "# fruit\n",
    "fruits=list(pd.read_csv('data/fruits.csv')['Fruits'])\n",
    "fruits=[x.lower() for x in fruits]\n",
    "fruits=[x.split('/') for x in fruits]\n",
    "fruits=[y for x in fruits for y in x]\n",
    "\n",
    "\n",
    "exclude=['oil', 'water','juice','salt','jam', 'brandy','cider','vinegar', 'concentrate','schnapps','nectar','liqueur', 'flour','milk', 'extract',\n",
    "'compote','peel','cream','sorbet','gelatin','syrup','sauce','bread','flour','starch','tortillas','ale','beer','salse']\n",
    "\n",
    "d=dict(zip(['meat', 'poultry', 'fish', 'seafood', 'egg', 'vegetable', 'fruit', 'dairy'], \n",
    "     [red_meat, poultry, fish, seafood, egg, vegetables, fruits]))"
   ]
  },
  {
   "cell_type": "code",
   "execution_count": 269,
   "metadata": {},
   "outputs": [
    {
     "data": {
      "text/plain": [
       "['lamb',\n",
       " 'beef',\n",
       " 'meat',\n",
       " 'mutton',\n",
       " 'veal',\n",
       " 'venison',\n",
       " 'pork',\n",
       " 'turkey',\n",
       " 'bacon',\n",
       " 'ham',\n",
       " 'hot dogs',\n",
       " 'jamon',\n",
       " 'prosciutto',\n",
       " 'salami',\n",
       " 'sausage',\n",
       " 'rabbit']"
      ]
     },
     "execution_count": 269,
     "metadata": {},
     "output_type": "execute_result"
    }
   ],
   "source": [
    "d['red_meat']"
   ]
  },
  {
   "cell_type": "code",
   "execution_count": 298,
   "metadata": {},
   "outputs": [],
   "source": [
    "for i in ingredients_short.index:\n",
    "    if type(ingredients_short.loc[i]['food type'])!=str:\n",
    "        words=list(ingredients_short.loc[i][['stem','substitute 1']].dropna())\n",
    "        words=[x.split() for x in words]\n",
    "        words=[y for x in words for y in x]\n",
    "        for key in d.keys():        \n",
    "            if len(set(d[key]).intersection(words))>0:\n",
    "                if key=='dairy':                    \n",
    "                    if len(set(milk_exclude).intersection(words))==0:\n",
    "                        ingredients_short.set_value(i, 'food type', key)  \n",
    "                if key in ['fruit', 'vegetable']:                    \n",
    "                    if len(set(exclude).intersection(words))==0:\n",
    "                        ingredients_short.set_value(i, 'food type', key)  \n",
    "                else:\n",
    "                    ingredients_short.set_value(i, 'food type', key)   \n",
    "                break"
   ]
  },
  {
   "cell_type": "code",
   "execution_count": 301,
   "metadata": {},
   "outputs": [
    {
     "data": {
      "text/html": [
       "<div>\n",
       "<style>\n",
       "    .dataframe thead tr:only-child th {\n",
       "        text-align: right;\n",
       "    }\n",
       "\n",
       "    .dataframe thead th {\n",
       "        text-align: left;\n",
       "    }\n",
       "\n",
       "    .dataframe tbody tr th {\n",
       "        vertical-align: top;\n",
       "    }\n",
       "</style>\n",
       "<table border=\"1\" class=\"dataframe\">\n",
       "  <thead>\n",
       "    <tr style=\"text-align: right;\">\n",
       "      <th></th>\n",
       "      <th>stem</th>\n",
       "      <th>substitute 1</th>\n",
       "      <th>substitute 2</th>\n",
       "      <th>substitute 3</th>\n",
       "      <th>food type</th>\n",
       "    </tr>\n",
       "  </thead>\n",
       "  <tbody>\n",
       "    <tr>\n",
       "      <th>0</th>\n",
       "      <td>cream</td>\n",
       "      <td>half-and-half</td>\n",
       "      <td>NaN</td>\n",
       "      <td>NaN</td>\n",
       "      <td>NaN</td>\n",
       "    </tr>\n",
       "    <tr>\n",
       "      <th>1</th>\n",
       "      <td>flaxseed</td>\n",
       "      <td>NaN</td>\n",
       "      <td>NaN</td>\n",
       "      <td>NaN</td>\n",
       "      <td>NaN</td>\n",
       "    </tr>\n",
       "    <tr>\n",
       "      <th>2</th>\n",
       "      <td>farro</td>\n",
       "      <td>NaN</td>\n",
       "      <td>NaN</td>\n",
       "      <td>NaN</td>\n",
       "      <td>NaN</td>\n",
       "    </tr>\n",
       "    <tr>\n",
       "      <th>3</th>\n",
       "      <td>applesauce</td>\n",
       "      <td>NaN</td>\n",
       "      <td>NaN</td>\n",
       "      <td>NaN</td>\n",
       "      <td>NaN</td>\n",
       "    </tr>\n",
       "    <tr>\n",
       "      <th>4</th>\n",
       "      <td>cranberry</td>\n",
       "      <td>NaN</td>\n",
       "      <td>NaN</td>\n",
       "      <td>NaN</td>\n",
       "      <td>fruit</td>\n",
       "    </tr>\n",
       "    <tr>\n",
       "      <th>5</th>\n",
       "      <td>schmaltz</td>\n",
       "      <td>pork fat</td>\n",
       "      <td>NaN</td>\n",
       "      <td>NaN</td>\n",
       "      <td>meat</td>\n",
       "    </tr>\n",
       "    <tr>\n",
       "      <th>6</th>\n",
       "      <td>black tea</td>\n",
       "      <td>NaN</td>\n",
       "      <td>NaN</td>\n",
       "      <td>NaN</td>\n",
       "      <td>NaN</td>\n",
       "    </tr>\n",
       "    <tr>\n",
       "      <th>7</th>\n",
       "      <td>green beans</td>\n",
       "      <td>bean</td>\n",
       "      <td>NaN</td>\n",
       "      <td>NaN</td>\n",
       "      <td>vegetable</td>\n",
       "    </tr>\n",
       "    <tr>\n",
       "      <th>8</th>\n",
       "      <td>dried orange peel</td>\n",
       "      <td>NaN</td>\n",
       "      <td>NaN</td>\n",
       "      <td>NaN</td>\n",
       "      <td>NaN</td>\n",
       "    </tr>\n",
       "    <tr>\n",
       "      <th>9</th>\n",
       "      <td>garlic salt</td>\n",
       "      <td>salt</td>\n",
       "      <td>NaN</td>\n",
       "      <td>NaN</td>\n",
       "      <td>NaN</td>\n",
       "    </tr>\n",
       "  </tbody>\n",
       "</table>\n",
       "</div>"
      ],
      "text/plain": [
       "                stem   substitute 1 substitute 2 substitute 3  food type\n",
       "0              cream  half-and-half          NaN          NaN        NaN\n",
       "1           flaxseed            NaN          NaN          NaN        NaN\n",
       "2              farro            NaN          NaN          NaN        NaN\n",
       "3         applesauce            NaN          NaN          NaN        NaN\n",
       "4          cranberry            NaN          NaN          NaN      fruit\n",
       "5           schmaltz       pork fat          NaN          NaN       meat\n",
       "6          black tea            NaN          NaN          NaN        NaN\n",
       "7        green beans           bean          NaN          NaN  vegetable\n",
       "8  dried orange peel            NaN          NaN          NaN        NaN\n",
       "9        garlic salt           salt          NaN          NaN        NaN"
      ]
     },
     "execution_count": 301,
     "metadata": {},
     "output_type": "execute_result"
    }
   ],
   "source": [
    "ingredients_short.head(10)"
   ]
  },
  {
   "cell_type": "code",
   "execution_count": 302,
   "metadata": {
    "collapsed": true
   },
   "outputs": [],
   "source": [
    "ingredients_short.to_csv('ingredients_short.csv', encoding='utf-8')"
   ]
  }
 ],
 "metadata": {
  "kernelspec": {
   "display_name": "Python 3",
   "language": "python",
   "name": "python3"
  },
  "language_info": {
   "codemirror_mode": {
    "name": "ipython",
    "version": 3
   },
   "file_extension": ".py",
   "mimetype": "text/x-python",
   "name": "python",
   "nbconvert_exporter": "python",
   "pygments_lexer": "ipython3",
   "version": "3.6.1"
  }
 },
 "nbformat": 4,
 "nbformat_minor": 2
}
