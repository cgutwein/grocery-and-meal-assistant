{
 "cells": [
  {
   "cell_type": "code",
   "execution_count": 35,
   "metadata": {},
   "outputs": [],
   "source": [
    "import pandas as pd"
   ]
  },
  {
   "cell_type": "code",
   "execution_count": 36,
   "metadata": {},
   "outputs": [
    {
     "data": {
      "text/html": [
       "<div>\n",
       "<style scoped>\n",
       "    .dataframe tbody tr th:only-of-type {\n",
       "        vertical-align: middle;\n",
       "    }\n",
       "\n",
       "    .dataframe tbody tr th {\n",
       "        vertical-align: top;\n",
       "    }\n",
       "\n",
       "    .dataframe thead th {\n",
       "        text-align: right;\n",
       "    }\n",
       "</style>\n",
       "<table border=\"1\" class=\"dataframe\">\n",
       "  <thead>\n",
       "    <tr style=\"text-align: right;\">\n",
       "      <th></th>\n",
       "      <th>username</th>\n",
       "      <th>first_name</th>\n",
       "      <th>last_name</th>\n",
       "      <th>age</th>\n",
       "      <th>gender</th>\n",
       "      <th>height</th>\n",
       "      <th>weight</th>\n",
       "      <th>act_level</th>\n",
       "      <th>goal</th>\n",
       "    </tr>\n",
       "  </thead>\n",
       "  <tbody>\n",
       "    <tr>\n",
       "      <th>0</th>\n",
       "      <td>mamrotha</td>\n",
       "      <td>Andrew</td>\n",
       "      <td>Mamroth</td>\n",
       "      <td>31</td>\n",
       "      <td>M</td>\n",
       "      <td>69</td>\n",
       "      <td>180</td>\n",
       "      <td>moderate</td>\n",
       "      <td>gain mass</td>\n",
       "    </tr>\n",
       "    <tr>\n",
       "      <th>1</th>\n",
       "      <td>person1</td>\n",
       "      <td>John</td>\n",
       "      <td>Smith</td>\n",
       "      <td>25</td>\n",
       "      <td>M</td>\n",
       "      <td>71</td>\n",
       "      <td>190</td>\n",
       "      <td>light</td>\n",
       "      <td>lose weight</td>\n",
       "    </tr>\n",
       "    <tr>\n",
       "      <th>2</th>\n",
       "      <td>person2</td>\n",
       "      <td>Jane</td>\n",
       "      <td>Doe</td>\n",
       "      <td>40</td>\n",
       "      <td>F</td>\n",
       "      <td>56</td>\n",
       "      <td>140</td>\n",
       "      <td>none</td>\n",
       "      <td>perfect the way I am</td>\n",
       "    </tr>\n",
       "    <tr>\n",
       "      <th>3</th>\n",
       "      <td>person3</td>\n",
       "      <td>Another</td>\n",
       "      <td>Person</td>\n",
       "      <td>50</td>\n",
       "      <td>F</td>\n",
       "      <td>52</td>\n",
       "      <td>120</td>\n",
       "      <td>heavy</td>\n",
       "      <td>perfect the way I am</td>\n",
       "    </tr>\n",
       "  </tbody>\n",
       "</table>\n",
       "</div>"
      ],
      "text/plain": [
       "   username first_name last_name  age gender  height  weight act_level  \\\n",
       "0  mamrotha     Andrew   Mamroth   31      M      69     180  moderate   \n",
       "1   person1       John     Smith   25      M      71     190     light   \n",
       "2   person2       Jane       Doe   40      F      56     140      none   \n",
       "3   person3    Another    Person   50      F      52     120     heavy   \n",
       "\n",
       "                   goal  \n",
       "0             gain mass  \n",
       "1           lose weight  \n",
       "2  perfect the way I am  \n",
       "3  perfect the way I am  "
      ]
     },
     "execution_count": 36,
     "metadata": {},
     "output_type": "execute_result"
    }
   ],
   "source": [
    "users = pd.read_csv('sample_profiles.csv')\n",
    "users.head()"
   ]
  },
  {
   "cell_type": "markdown",
   "metadata": {},
   "source": [
    "### The Mifflin St Jeor Equation for Basal Metabolic Rate (BMR) or resting calorie burn rate\n",
    "### Accounting for Activity Level and Goals\n",
    "\n",
    "Activity Acts as a multiplier to one's BMR  \n",
    "The Academy of Nutrition and Dietetics recommends aiming for 1-2 pounds per week of weight lost.  \n",
    "For our purposes we aim for 1 lb per week."
   ]
  },
  {
   "cell_type": "code",
   "execution_count": 58,
   "metadata": {},
   "outputs": [
    {
     "name": "stdout",
     "output_type": "stream",
     "text": [
      "3472.65293\n",
      "2284.3059749999998\n",
      "1582.83456\n",
      "1923.0479400000002\n"
     ]
    }
   ],
   "source": [
    "def calc_cal(user):\n",
    "    \n",
    "    \"\"\"BMR is calculated by the following equation:\n",
    "    P = (10.0*m + 6.25*h - 5.0*a +s)\n",
    "    P = kcal burned at rest\n",
    "    m = mass in kg\n",
    "    h = height in cm\n",
    "    a = age in years\n",
    "    s = -5 for females and +161 for males\n",
    "    \n",
    "    BMR is then multiplied by an activity level factor, then adjusted by user goal\n",
    "    \"\"\"\n",
    "    \n",
    "    act_level = {'none':1.2, 'light':1.375, 'moderate':1.55, 'heavy':1.725}\n",
    "    goals = {'lose weight':-1, 'gain mass':1, 'perfect the way I am':0}\n",
    "    \n",
    "    user_calc = users[users['username']==user]\n",
    "    m = user_calc.iloc[0]['weight']*0.453592\n",
    "    h = user_calc.iloc[0]['height']*2.54\n",
    "    a = float(user_calc.iloc[0]['age'])\n",
    "    gender = user_calc.iloc[0]['gender']\n",
    "    if gender=='M':\n",
    "        s = 161.0\n",
    "    else:\n",
    "        s= -5.0\n",
    "        \n",
    "    bmr = (10.0*m + 6.25*h - 5.0*a +s)\n",
    "    act_mult = act_level[user_calc.iloc[0]['act_level']]\n",
    "    user_goal = 500.0*goals[user_calc.iloc[0]['goal']]\n",
    "    \n",
    "    return bmr*act_mult + user_goal\n",
    "\n",
    "user_list = list(users['username'])\n",
    "for i in user_list:\n",
    "    print(calc_cal(i))"
   ]
  },
  {
   "cell_type": "markdown",
   "metadata": {},
   "source": [
    "### Calculate Macronutrients\n",
    "\n",
    "To calculate total macro nutrients for the categories carbs, protein, and fat we use the following formulas in the order given:\n",
    "\n",
    "p = 0.85g per lb if losing or maintaining weight, 1.0g per lb if gaining mass  \n",
    "f = (0.25 x total daily calories) / 9  \n",
    "c = (total daily calories - (4 * p) - (9 * f)) / 9"
   ]
  },
  {
   "cell_type": "code",
   "execution_count": 61,
   "metadata": {},
   "outputs": [
    {
     "name": "stdout",
     "output_type": "stream",
     "text": [
      "(180.0, 96.46258138888889, 471.12242437500004)\n",
      "(161.5, 63.452943749999996, 266.8073703125)\n",
      "(119.0, 43.96762666666667, 177.78148)\n",
      "(102.0, 53.41799833333334, 258.57148875)\n"
     ]
    }
   ],
   "source": [
    "def calc_macros(user):\n",
    "    \n",
    "    goals_p = {'lose weight':0.85, 'gain mass':1.0, 'perfect the way I am':0.85}\n",
    "    user_calc = users[users['username']==user]\n",
    "    cals = calc_cal(user)\n",
    "    w = user_calc.iloc[0]['weight']\n",
    "    #act_mult = act_level[user_calc.iloc[0]['act_level']]\n",
    "    p_mult = goals_p[user_calc.iloc[0]['goal']]\n",
    "    \n",
    "    p = p_mult*w\n",
    "    f = (0.25*cals)/9\n",
    "    c = (cals-p*4-f*9)/4\n",
    "    \n",
    "    return p,f,c\n",
    "\n",
    "user_list = list(users['username'])\n",
    "for i in user_list:\n",
    "    print(calc_macros(i))\n",
    "    "
   ]
  },
  {
   "cell_type": "code",
   "execution_count": null,
   "metadata": {},
   "outputs": [],
   "source": []
  }
 ],
 "metadata": {
  "kernelspec": {
   "display_name": "Python 3",
   "language": "python",
   "name": "python3"
  },
  "language_info": {
   "codemirror_mode": {
    "name": "ipython",
    "version": 3
   },
   "file_extension": ".py",
   "mimetype": "text/x-python",
   "name": "python",
   "nbconvert_exporter": "python",
   "pygments_lexer": "ipython3",
   "version": "3.6.4"
  }
 },
 "nbformat": 4,
 "nbformat_minor": 2
}
