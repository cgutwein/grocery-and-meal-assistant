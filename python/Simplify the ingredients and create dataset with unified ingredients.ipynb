{
 "cells": [
  {
   "cell_type": "code",
   "execution_count": 2,
   "metadata": {
    "collapsed": true
   },
   "outputs": [],
   "source": [
    "import pandas as pd\n",
    "import nltk"
   ]
  },
  {
   "cell_type": "markdown",
   "metadata": {},
   "source": [
    "### Tokenize and simplify the ingredients"
   ]
  },
  {
   "cell_type": "code",
   "execution_count": 2,
   "metadata": {
    "collapsed": true
   },
   "outputs": [],
   "source": [
    "# Upload trained dataset\n",
    "train_ingr=pd.read_csv('data/shortened_train.csv')\n",
    "\n",
    "train_ingr['full form']=pd.Series([x.lstrip() for x in train_ingr['full form']])\n",
    "train_ingr['short form']=pd.Series([x.lstrip() for x in train_ingr['short form']])\n",
    "train_ingr.index=train_ingr['full form']\n",
    "\n",
    "groups = train_ingr.groupby(level=train_ingr.index.names) \n",
    "train_ingr=groups.last()\n"
   ]
  },
  {
   "cell_type": "code",
   "execution_count": 285,
   "metadata": {
    "collapsed": true
   },
   "outputs": [],
   "source": [
    "# read the full list of 3700 ingredients\n",
    "ingredients=pd.read_csv('data/ingredients.csv')\n",
    "ingredients.drop('Column1', axis=1, inplace=True)"
   ]
  },
  {
   "cell_type": "code",
   "execution_count": 287,
   "metadata": {},
   "outputs": [
    {
     "data": {
      "text/html": [
       "<div>\n",
       "<style>\n",
       "    .dataframe thead tr:only-child th {\n",
       "        text-align: right;\n",
       "    }\n",
       "\n",
       "    .dataframe thead th {\n",
       "        text-align: left;\n",
       "    }\n",
       "\n",
       "    .dataframe tbody tr th {\n",
       "        vertical-align: top;\n",
       "    }\n",
       "</style>\n",
       "<table border=\"1\" class=\"dataframe\">\n",
       "  <thead>\n",
       "    <tr style=\"text-align: right;\">\n",
       "      <th></th>\n",
       "      <th>full name</th>\n",
       "      <th>stemmed (used for the dataset)</th>\n",
       "      <th>substitute 1</th>\n",
       "      <th>substitute 2</th>\n",
       "    </tr>\n",
       "  </thead>\n",
       "  <tbody>\n",
       "    <tr>\n",
       "      <th>0</th>\n",
       "      <td>cremini mushrooms</td>\n",
       "      <td>crimini mushrooms</td>\n",
       "      <td>common mushroom</td>\n",
       "      <td>NaN</td>\n",
       "    </tr>\n",
       "    <tr>\n",
       "      <th>1</th>\n",
       "      <td>caramel</td>\n",
       "      <td>caramel</td>\n",
       "      <td>NaN</td>\n",
       "      <td>NaN</td>\n",
       "    </tr>\n",
       "    <tr>\n",
       "      <th>2</th>\n",
       "      <td>maldon sea salt</td>\n",
       "      <td>sea salt</td>\n",
       "      <td>salt</td>\n",
       "      <td>NaN</td>\n",
       "    </tr>\n",
       "    <tr>\n",
       "      <th>3</th>\n",
       "      <td>orecchiette</td>\n",
       "      <td>orecchiette</td>\n",
       "      <td>NaN</td>\n",
       "      <td>NaN</td>\n",
       "    </tr>\n",
       "    <tr>\n",
       "      <th>4</th>\n",
       "      <td>baby bok choy</td>\n",
       "      <td>bok choy</td>\n",
       "      <td>NaN</td>\n",
       "      <td>NaN</td>\n",
       "    </tr>\n",
       "  </tbody>\n",
       "</table>\n",
       "</div>"
      ],
      "text/plain": [
       "           full name stemmed (used for the dataset)     substitute 1  \\\n",
       "0  cremini mushrooms              crimini mushrooms  common mushroom   \n",
       "1            caramel                        caramel              NaN   \n",
       "2    maldon sea salt                       sea salt             salt   \n",
       "3        orecchiette                    orecchiette              NaN   \n",
       "4      baby bok choy                       bok choy              NaN   \n",
       "\n",
       "  substitute 2  \n",
       "0          NaN  \n",
       "1          NaN  \n",
       "2          NaN  \n",
       "3          NaN  \n",
       "4          NaN  "
      ]
     },
     "execution_count": 287,
     "metadata": {},
     "output_type": "execute_result"
    }
   ],
   "source": [
    "ingredients.head()"
   ]
  },
  {
   "cell_type": "code",
   "execution_count": null,
   "metadata": {
    "collapsed": true
   },
   "outputs": [],
   "source": [
    "# create the dataset of ingredients\n",
    "\n",
    "ingredients['split']=pd.Series([x.split() for x in new_ingredients])\n",
    "\n",
    "ingredients['pos']=pd.Series([[xx[1] for xx in nltk.pos_tag(x)] for x in ingredients['split']])\n",
    "\n",
    "ingredients['train']=pd.Series([int(x in list(train_ingr['full form'])) for x in ingredients['full name']])\n",
    "\n",
    "ingredients['short']=pd.Series([train_ingr.loc[x]['short form'] \n",
    "                                if (x in train_ingr.index)&(x in new_ingredients) else 'na' for x in ingredients['full name'] ])\n",
    "\n",
    "ingredients['short_split']=pd.Series([ingredients['short'][i].split() for i in range(ingredients.shape[0])])\n"
   ]
  },
  {
   "cell_type": "markdown",
   "metadata": {},
   "source": [
    "### Fill the non-train short values based either on word, or the POS probability"
   ]
  },
  {
   "cell_type": "code",
   "execution_count": 47,
   "metadata": {
    "collapsed": true
   },
   "outputs": [],
   "source": [
    "samples=[]\n",
    "idx=ingredients[ingredients.train==1].index"
   ]
  },
  {
   "cell_type": "code",
   "execution_count": 48,
   "metadata": {
    "collapsed": true
   },
   "outputs": [],
   "source": [
    "for i in idx:\n",
    "    split=ingredients.loc[i]['split']\n",
    "    pos=ingredients.loc[i]['pos']\n",
    "    short_split=ingredients.loc[i]['short_split']\n",
    "    for j in range(len(split)):\n",
    "        samples.append([split[j], pos[j], int(split[j] in short_split)])"
   ]
  },
  {
   "cell_type": "code",
   "execution_count": 49,
   "metadata": {
    "collapsed": true
   },
   "outputs": [],
   "source": [
    "samples=pd.DataFrame(samples, columns=['word', 'pos','keep'])"
   ]
  },
  {
   "cell_type": "code",
   "execution_count": 50,
   "metadata": {},
   "outputs": [
    {
     "data": {
      "text/plain": [
       "(1538, 3)"
      ]
     },
     "execution_count": 50,
     "metadata": {},
     "output_type": "execute_result"
    }
   ],
   "source": [
    "samples.shape"
   ]
  },
  {
   "cell_type": "code",
   "execution_count": 51,
   "metadata": {},
   "outputs": [
    {
     "data": {
      "text/html": [
       "<div>\n",
       "<style>\n",
       "    .dataframe thead tr:only-child th {\n",
       "        text-align: right;\n",
       "    }\n",
       "\n",
       "    .dataframe thead th {\n",
       "        text-align: left;\n",
       "    }\n",
       "\n",
       "    .dataframe tbody tr th {\n",
       "        vertical-align: top;\n",
       "    }\n",
       "</style>\n",
       "<table border=\"1\" class=\"dataframe\">\n",
       "  <thead>\n",
       "    <tr style=\"text-align: right;\">\n",
       "      <th></th>\n",
       "      <th>word</th>\n",
       "      <th>pos</th>\n",
       "      <th>keep</th>\n",
       "    </tr>\n",
       "  </thead>\n",
       "  <tbody>\n",
       "    <tr>\n",
       "      <th>0</th>\n",
       "      <td>cremini</td>\n",
       "      <td>NN</td>\n",
       "      <td>1</td>\n",
       "    </tr>\n",
       "    <tr>\n",
       "      <th>1</th>\n",
       "      <td>mushrooms</td>\n",
       "      <td>NNS</td>\n",
       "      <td>1</td>\n",
       "    </tr>\n",
       "    <tr>\n",
       "      <th>2</th>\n",
       "      <td>sliced</td>\n",
       "      <td>VBN</td>\n",
       "      <td>0</td>\n",
       "    </tr>\n",
       "    <tr>\n",
       "      <th>3</th>\n",
       "      <td>mushrooms</td>\n",
       "      <td>NNS</td>\n",
       "      <td>0</td>\n",
       "    </tr>\n",
       "    <tr>\n",
       "      <th>4</th>\n",
       "      <td>rice</td>\n",
       "      <td>NN</td>\n",
       "      <td>1</td>\n",
       "    </tr>\n",
       "  </tbody>\n",
       "</table>\n",
       "</div>"
      ],
      "text/plain": [
       "        word  pos  keep\n",
       "0    cremini   NN     1\n",
       "1  mushrooms  NNS     1\n",
       "2     sliced  VBN     0\n",
       "3  mushrooms  NNS     0\n",
       "4       rice   NN     1"
      ]
     },
     "execution_count": 51,
     "metadata": {},
     "output_type": "execute_result"
    }
   ],
   "source": [
    "samples.head()"
   ]
  },
  {
   "cell_type": "code",
   "execution_count": null,
   "metadata": {
    "collapsed": true
   },
   "outputs": [],
   "source": [
    "### Simple probabiity model\n",
    "\n",
    "def keep_prob(x):\n",
    "    if x[0] in list(samples.word):\n",
    "        idx=samples[samples.word==x[0]].index\n",
    "        if x[1] in list(samples.loc[idx]['pos']):\n",
    "            idx=samples.loc[idx][samples.pos==x[1]].index\n",
    "        else:\n",
    "            idx=samples[samples.pos==x[1]].index\n",
    "    else: \n",
    "        idx=samples[samples.pos==x[1]].index\n",
    "    \n",
    "    try: return sum(samples.loc[idx]['keep'])/len(samples.loc[idx]['keep']) \n",
    "    except: return 0"
   ]
  },
  {
   "cell_type": "code",
   "execution_count": null,
   "metadata": {
    "collapsed": true
   },
   "outputs": [],
   "source": [
    "# Fille the 'short_spit' for non-train data\n",
    "\n",
    "ingredients['short_split']=pd.Series([ingredients['short'][i].split() for i in range(ingredients.shape[0])])\n",
    "\n",
    "for i in ingredients[ingredients.train==0].index:\n",
    "    ss=[]\n",
    "    for j in range(len(ingredients.loc[i]['split'])):\n",
    "        x=[ingredients.loc[i]['split'][j], ingredients.loc[i]['pos'][j]]\n",
    "        if keep_prob(x)>0.5:\n",
    "            ss.extend([x[0]])\n",
    "    ingredients.loc[i, 'short_split'].extend(ss)\n"
   ]
  },
  {
   "cell_type": "code",
   "execution_count": null,
   "metadata": {
    "collapsed": true
   },
   "outputs": [],
   "source": [
    "# Add 'short' name and 'stemmed' name columns from short_split\n",
    "\n",
    "ingredients['short']=pd.Series([' '.join(x[1:]) if x[0]=='na' else ' '.join(x) \n",
    "                               for x in ingredients['short_split'] ])\n",
    "\n",
    "def stem(x):\n",
    "    try: return lemmatizer.lemmatize(x)\n",
    "    except: return None\n",
    "    \n",
    "\n",
    "ingredients['stem']=pd.Series([stem(x) for x in ingredients['short']])"
   ]
  },
  {
   "cell_type": "code",
   "execution_count": 53,
   "metadata": {},
   "outputs": [
    {
     "data": {
      "text/html": [
       "<div>\n",
       "<style>\n",
       "    .dataframe thead tr:only-child th {\n",
       "        text-align: right;\n",
       "    }\n",
       "\n",
       "    .dataframe thead th {\n",
       "        text-align: left;\n",
       "    }\n",
       "\n",
       "    .dataframe tbody tr th {\n",
       "        vertical-align: top;\n",
       "    }\n",
       "</style>\n",
       "<table border=\"1\" class=\"dataframe\">\n",
       "  <thead>\n",
       "    <tr style=\"text-align: right;\">\n",
       "      <th></th>\n",
       "      <th>full name</th>\n",
       "      <th>stem</th>\n",
       "      <th>short</th>\n",
       "      <th>split</th>\n",
       "      <th>pos</th>\n",
       "      <th>train</th>\n",
       "      <th>short_split</th>\n",
       "    </tr>\n",
       "  </thead>\n",
       "  <tbody>\n",
       "    <tr>\n",
       "      <th>0</th>\n",
       "      <td>cremini mushrooms</td>\n",
       "      <td>cremini mushrooms</td>\n",
       "      <td>cremini mushrooms</td>\n",
       "      <td>[cremini, mushrooms]</td>\n",
       "      <td>[NN, NNS]</td>\n",
       "      <td>1</td>\n",
       "      <td>[cremini, mushrooms]</td>\n",
       "    </tr>\n",
       "    <tr>\n",
       "      <th>1</th>\n",
       "      <td>caramel</td>\n",
       "      <td>caramel</td>\n",
       "      <td>caramel</td>\n",
       "      <td>[caramel]</td>\n",
       "      <td>[NN]</td>\n",
       "      <td>0</td>\n",
       "      <td>[na, caramel]</td>\n",
       "    </tr>\n",
       "    <tr>\n",
       "      <th>2</th>\n",
       "      <td>maldon sea salt</td>\n",
       "      <td>maldon sea salt</td>\n",
       "      <td>maldon sea salt</td>\n",
       "      <td>[maldon, sea, salt]</td>\n",
       "      <td>[NNS, NN, NN]</td>\n",
       "      <td>0</td>\n",
       "      <td>[na, maldon, sea, salt]</td>\n",
       "    </tr>\n",
       "    <tr>\n",
       "      <th>3</th>\n",
       "      <td>orecchiette</td>\n",
       "      <td>orecchiette</td>\n",
       "      <td>orecchiette</td>\n",
       "      <td>[orecchiette]</td>\n",
       "      <td>[NN]</td>\n",
       "      <td>0</td>\n",
       "      <td>[na, orecchiette]</td>\n",
       "    </tr>\n",
       "    <tr>\n",
       "      <th>4</th>\n",
       "      <td>baby bok choy</td>\n",
       "      <td>baby bok choy</td>\n",
       "      <td>baby bok choy</td>\n",
       "      <td>[baby, bok, choy]</td>\n",
       "      <td>[NN, NNS, VBP]</td>\n",
       "      <td>0</td>\n",
       "      <td>[na, baby, bok, choy]</td>\n",
       "    </tr>\n",
       "  </tbody>\n",
       "</table>\n",
       "</div>"
      ],
      "text/plain": [
       "           full name               stem              short  \\\n",
       "0  cremini mushrooms  cremini mushrooms  cremini mushrooms   \n",
       "1            caramel            caramel            caramel   \n",
       "2    maldon sea salt    maldon sea salt    maldon sea salt   \n",
       "3        orecchiette        orecchiette        orecchiette   \n",
       "4      baby bok choy      baby bok choy      baby bok choy   \n",
       "\n",
       "                  split             pos  train              short_split  \n",
       "0  [cremini, mushrooms]       [NN, NNS]      1     [cremini, mushrooms]  \n",
       "1             [caramel]            [NN]      0            [na, caramel]  \n",
       "2   [maldon, sea, salt]   [NNS, NN, NN]      0  [na, maldon, sea, salt]  \n",
       "3         [orecchiette]            [NN]      0        [na, orecchiette]  \n",
       "4     [baby, bok, choy]  [NN, NNS, VBP]      0    [na, baby, bok, choy]  "
      ]
     },
     "execution_count": 53,
     "metadata": {},
     "output_type": "execute_result"
    }
   ],
   "source": [
    "ingredients.head()"
   ]
  },
  {
   "cell_type": "code",
   "execution_count": null,
   "metadata": {
    "collapsed": true
   },
   "outputs": [],
   "source": [
    "ingredients.to_csv('ingredients.csv')"
   ]
  },
  {
   "cell_type": "code",
   "execution_count": 141,
   "metadata": {
    "collapsed": true
   },
   "outputs": [],
   "source": [
    "short_ingredients=list(set(ingredients['stem']))\n",
    "short_ingredients=[x for x in short_ingredients if type(x)==str]"
   ]
  },
  {
   "cell_type": "code",
   "execution_count": 142,
   "metadata": {},
   "outputs": [
    {
     "data": {
      "text/plain": [
       "2640"
      ]
     },
     "execution_count": 142,
     "metadata": {},
     "output_type": "execute_result"
    }
   ],
   "source": [
    "len(short_ingredients)"
   ]
  },
  {
   "cell_type": "code",
   "execution_count": 143,
   "metadata": {
    "collapsed": true
   },
   "outputs": [],
   "source": [
    "short_ingredients.remove('meal')\n",
    "short_ingredients.remove('fat')"
   ]
  },
  {
   "cell_type": "code",
   "execution_count": 144,
   "metadata": {
    "collapsed": true
   },
   "outputs": [],
   "source": [
    "pd.DataFrame(short_ingredients, columns=['ingredient']).to_csv(\"data/ingr_list.csv\", encoding=\"UTF-8\")"
   ]
  },
  {
   "cell_type": "code",
   "execution_count": null,
   "metadata": {
    "collapsed": true
   },
   "outputs": [],
   "source": [
    "# Further upload of ingredients dataset"
   ]
  },
  {
   "cell_type": "code",
   "execution_count": 114,
   "metadata": {
    "collapsed": true
   },
   "outputs": [],
   "source": [
    "ingredients=pd.read_csv('data/ingredients.csv')\n",
    "ingredients.drop('Column1', axis=1, inplace=True)"
   ]
  },
  {
   "cell_type": "code",
   "execution_count": 222,
   "metadata": {
    "collapsed": true
   },
   "outputs": [],
   "source": [
    "from ast import literal_eval"
   ]
  },
  {
   "cell_type": "code",
   "execution_count": 115,
   "metadata": {
    "collapsed": true
   },
   "outputs": [],
   "source": [
    "for column in list(['split', 'pos', 'short_split']):\n",
    "    ingredients[column]=pd.Series(literal_eval(x) for x in ingredients[column])\n"
   ]
  },
  {
   "cell_type": "code",
   "execution_count": null,
   "metadata": {
    "collapsed": true
   },
   "outputs": [],
   "source": []
  },
  {
   "cell_type": "markdown",
   "metadata": {},
   "source": [
    "### Create the dataset out of 2.7K unified ingredients and recipes"
   ]
  },
  {
   "cell_type": "code",
   "execution_count": 312,
   "metadata": {
    "collapsed": true
   },
   "outputs": [],
   "source": [
    "data.rename(columns={'fat': 'fats'}, inplace=True)"
   ]
  },
  {
   "cell_type": "code",
   "execution_count": 314,
   "metadata": {
    "collapsed": true
   },
   "outputs": [],
   "source": [
    "# read the full list of 3700 ingredients\n",
    "ingredients=pd.read_csv('data/ingredients.csv')\n",
    "ingredients.drop('Column1', axis=1, inplace=True)"
   ]
  },
  {
   "cell_type": "code",
   "execution_count": 310,
   "metadata": {
    "collapsed": true
   },
   "outputs": [],
   "source": [
    "ingredients.columns=['full', 'stem', 'subs1', 'subs2']"
   ]
  },
  {
   "cell_type": "code",
   "execution_count": 315,
   "metadata": {},
   "outputs": [
    {
     "data": {
      "text/html": [
       "<div>\n",
       "<style>\n",
       "    .dataframe thead tr:only-child th {\n",
       "        text-align: right;\n",
       "    }\n",
       "\n",
       "    .dataframe thead th {\n",
       "        text-align: left;\n",
       "    }\n",
       "\n",
       "    .dataframe tbody tr th {\n",
       "        vertical-align: top;\n",
       "    }\n",
       "</style>\n",
       "<table border=\"1\" class=\"dataframe\">\n",
       "  <thead>\n",
       "    <tr style=\"text-align: right;\">\n",
       "      <th></th>\n",
       "      <th>full name</th>\n",
       "      <th>stem</th>\n",
       "      <th>substitute 1</th>\n",
       "      <th>substitute 2</th>\n",
       "    </tr>\n",
       "  </thead>\n",
       "  <tbody>\n",
       "    <tr>\n",
       "      <th>0</th>\n",
       "      <td>cremini mushrooms</td>\n",
       "      <td>crimini mushrooms</td>\n",
       "      <td>common mushroom</td>\n",
       "      <td>NaN</td>\n",
       "    </tr>\n",
       "    <tr>\n",
       "      <th>1</th>\n",
       "      <td>caramel</td>\n",
       "      <td>caramel</td>\n",
       "      <td>NaN</td>\n",
       "      <td>NaN</td>\n",
       "    </tr>\n",
       "    <tr>\n",
       "      <th>2</th>\n",
       "      <td>maldon sea salt</td>\n",
       "      <td>sea salt</td>\n",
       "      <td>salt</td>\n",
       "      <td>NaN</td>\n",
       "    </tr>\n",
       "    <tr>\n",
       "      <th>3</th>\n",
       "      <td>orecchiette</td>\n",
       "      <td>orecchiette</td>\n",
       "      <td>NaN</td>\n",
       "      <td>NaN</td>\n",
       "    </tr>\n",
       "    <tr>\n",
       "      <th>4</th>\n",
       "      <td>baby bok choy</td>\n",
       "      <td>bok choy</td>\n",
       "      <td>NaN</td>\n",
       "      <td>NaN</td>\n",
       "    </tr>\n",
       "  </tbody>\n",
       "</table>\n",
       "</div>"
      ],
      "text/plain": [
       "           full name               stem     substitute 1 substitute 2\n",
       "0  cremini mushrooms  crimini mushrooms  common mushroom          NaN\n",
       "1            caramel            caramel              NaN          NaN\n",
       "2    maldon sea salt           sea salt             salt          NaN\n",
       "3        orecchiette        orecchiette              NaN          NaN\n",
       "4      baby bok choy           bok choy              NaN          NaN"
      ]
     },
     "execution_count": 315,
     "metadata": {},
     "output_type": "execute_result"
    }
   ],
   "source": [
    "ingredients.head()"
   ]
  },
  {
   "cell_type": "code",
   "execution_count": 289,
   "metadata": {
    "collapsed": true
   },
   "outputs": [],
   "source": [
    "data=pd.read_csv('data/epi_data.csv')"
   ]
  },
  {
   "cell_type": "code",
   "execution_count": null,
   "metadata": {
    "collapsed": true
   },
   "outputs": [],
   "source": [
    "data.rename(columns={'fat': 'fats'}, inplace=True)"
   ]
  },
  {
   "cell_type": "code",
   "execution_count": 316,
   "metadata": {
    "collapsed": true
   },
   "outputs": [],
   "source": [
    "data_short=data[['title','calories','protein','carbs','fats','sodium','steps']]"
   ]
  },
  {
   "cell_type": "code",
   "execution_count": 317,
   "metadata": {
    "collapsed": true
   },
   "outputs": [],
   "source": [
    "short_ingredients=list(set(ingredients['stem']))"
   ]
  },
  {
   "cell_type": "code",
   "execution_count": 318,
   "metadata": {},
   "outputs": [
    {
     "data": {
      "text/plain": [
       "['maitake mushrooms', 'america', 'shiro miso', 'hash brown', 'jicama']"
      ]
     },
     "execution_count": 318,
     "metadata": {},
     "output_type": "execute_result"
    }
   ],
   "source": [
    "short_ingredients[:5]"
   ]
  },
  {
   "cell_type": "code",
   "execution_count": 321,
   "metadata": {},
   "outputs": [
    {
     "name": "stderr",
     "output_type": "stream",
     "text": [
      "C:\\Users\\vnuretdi\\Anaconda3\\lib\\site-packages\\ipykernel_launcher.py:4: SettingWithCopyWarning: \n",
      "A value is trying to be set on a copy of a slice from a DataFrame.\n",
      "Try using .loc[row_indexer,col_indexer] = value instead\n",
      "\n",
      "See the caveats in the documentation: http://pandas.pydata.org/pandas-docs/stable/indexing.html#indexing-view-versus-copy\n",
      "  after removing the cwd from sys.path.\n"
     ]
    }
   ],
   "source": [
    "for ingr in short_ingredients:\n",
    "    items=[ingredients.loc[i]['full name'] for i in ingredients.index if ingredients.loc[i]['stem']==ingr]\n",
    "    items=[x for x in items if x in data.columns]\n",
    "    data_short[ingr]=data[items].sum(axis=1)\n"
   ]
  },
  {
   "cell_type": "code",
   "execution_count": 322,
   "metadata": {},
   "outputs": [
    {
     "data": {
      "text/plain": [
       "(20111, 2595)"
      ]
     },
     "execution_count": 322,
     "metadata": {},
     "output_type": "execute_result"
    }
   ],
   "source": [
    "data_short.shape"
   ]
  },
  {
   "cell_type": "code",
   "execution_count": 323,
   "metadata": {},
   "outputs": [
    {
     "name": "stderr",
     "output_type": "stream",
     "text": [
      "C:\\Users\\vnuretdi\\Anaconda3\\lib\\site-packages\\pandas\\core\\frame.py:2450: SettingWithCopyWarning: \n",
      "A value is trying to be set on a copy of a slice from a DataFrame.\n",
      "Try using .loc[row_indexer,col_indexer] = value instead\n",
      "\n",
      "See the caveats in the documentation: http://pandas.pydata.org/pandas-docs/stable/indexing.html#indexing-view-versus-copy\n",
      "  self[k1] = value[k2]\n"
     ]
    }
   ],
   "source": [
    "data_short[short_ingredients]=data_short[short_ingredients].applymap(lambda x: int(x>0))"
   ]
  },
  {
   "cell_type": "code",
   "execution_count": null,
   "metadata": {
    "collapsed": true
   },
   "outputs": [],
   "source": [
    "data_short.drop('other', axis=1, inplace=True)\n",
    "data_short.drop('no ingredient', axis=1, inplace=True)"
   ]
  },
  {
   "cell_type": "code",
   "execution_count": 324,
   "metadata": {
    "collapsed": true
   },
   "outputs": [],
   "source": [
    "data_short.to_csv('data_short.csv', encoding=\"UTF-8\")"
   ]
  },
  {
   "cell_type": "markdown",
   "metadata": {},
   "source": [
    "### Categorize ingredients"
   ]
  },
  {
   "cell_type": "markdown",
   "metadata": {},
   "source": [
    "#### Categorize vegetarian and vegan products"
   ]
  },
  {
   "cell_type": "code",
   "execution_count": 268,
   "metadata": {
    "collapsed": true,
    "scrolled": true
   },
   "outputs": [],
   "source": [
    "data_short=pd.read_csv('data/data_short.csv', encoding=\"UTF-8\")"
   ]
  },
  {
   "cell_type": "code",
   "execution_count": 272,
   "metadata": {
    "collapsed": true
   },
   "outputs": [],
   "source": [
    "data_short.drop('Unnamed: 0', axis=1, inplace=True )"
   ]
  },
  {
   "cell_type": "code",
   "execution_count": 269,
   "metadata": {
    "collapsed": true
   },
   "outputs": [],
   "source": [
    "short_ingredients=pd.read_csv('data/ingr_list.csv', encoding=\"UTF-8\")"
   ]
  },
  {
   "cell_type": "code",
   "execution_count": 270,
   "metadata": {
    "collapsed": true
   },
   "outputs": [],
   "source": [
    "short_ingredients.drop('Unnamed: 0', axis=1, inplace=True)"
   ]
  },
  {
   "cell_type": "code",
   "execution_count": 325,
   "metadata": {
    "collapsed": true
   },
   "outputs": [],
   "source": [
    "red_meat=['lamb', 'beef', 'meat', 'mutton', 'veal', 'venison', 'pork',\n",
    "      'turkey', 'bacon', 'ham', 'hot dogs', 'jamon', 'prosciutto', 'salami', 'sausages', 'rabbit']"
   ]
  },
  {
   "cell_type": "code",
   "execution_count": null,
   "metadata": {
    "collapsed": true
   },
   "outputs": [],
   "source": [
    "short_ingredients[str(column)]=pd.Series([1 if len(set(column).intersection(x.split(' ')))>0 else 0 \n",
    "                                     for x in short_ingredients.ingredient])"
   ]
  },
  {
   "cell_type": "code",
   "execution_count": 152,
   "metadata": {
    "collapsed": true
   },
   "outputs": [],
   "source": [
    "poultry=['chicken', 'turkey', 'duck', 'grouse', 'pheasant']"
   ]
  },
  {
   "cell_type": "code",
   "execution_count": 153,
   "metadata": {
    "collapsed": true
   },
   "outputs": [],
   "source": [
    "fish=['fish', 'salmon', 'cod', 'tilapia', 'catfish', 'halibut', 'mahi', 'tuna', 'mackerel',  \n",
    "      'swordfish', 'sole', 'bass', 'anchovy', 'herring', 'haddock', 'monkfish', 'mullet', 'sardines', 'swordfish', \n",
    "     'trout', 'caviar', 'turbot', 'snapper', 'sturgeon', 'flounder', 'barramundi']"
   ]
  },
  {
   "cell_type": "code",
   "execution_count": 154,
   "metadata": {
    "collapsed": true
   },
   "outputs": [],
   "source": [
    "seafood=['crabs', 'shells', 'shrimp', 'clam', 'lobster', 'octopus', 'scallops', 'squid', 'eel']"
   ]
  },
  {
   "cell_type": "code",
   "execution_count": 155,
   "metadata": {
    "collapsed": true
   },
   "outputs": [],
   "source": [
    "dairy=['cheese', 'milk', 'mascarpone', 'butter' 'buttermilk', 'ice cream', 'sour cream', 'yogurt', 'yoghurt', 'kefir', 'custard']"
   ]
  },
  {
   "cell_type": "code",
   "execution_count": 156,
   "metadata": {
    "collapsed": true
   },
   "outputs": [],
   "source": [
    "milk_exclude=['coconut', 'soymilk', 'soy', 'cashew', 'almond', 'rice']"
   ]
  },
  {
   "cell_type": "code",
   "execution_count": 157,
   "metadata": {
    "collapsed": true
   },
   "outputs": [],
   "source": [
    "egg=['egg', 'eggs', 'yolk', 'whites']"
   ]
  },
  {
   "cell_type": "code",
   "execution_count": 160,
   "metadata": {
    "collapsed": true
   },
   "outputs": [],
   "source": [
    "#vegetables\n",
    "vegetables=list(pd.read_csv('data/vegetables.csv')['Vegetables'])\n",
    "vegetables=[x.lower() for x in vegetables]\n",
    "vegetables=[x.split('/') for x in vegetables]\n",
    "vegetables=[y for x in vegetables for y in x]"
   ]
  },
  {
   "cell_type": "code",
   "execution_count": 197,
   "metadata": {
    "collapsed": true
   },
   "outputs": [],
   "source": [
    "# fruit\n",
    "fruits=list(pd.read_csv('data/fruits.csv')['Fruits'])\n",
    "fruits=[x.lower() for x in fruits]\n",
    "fruits=[x.split('/') for x in fruits]\n",
    "fruits=[y for x in fruits for y in x]"
   ]
  },
  {
   "cell_type": "code",
   "execution_count": null,
   "metadata": {
    "collapsed": true
   },
   "outputs": [],
   "source": [
    "d=dict(zip(['red_meat', 'poultry', 'fish', 'seafood', 'egg', 'vegetables', 'fruits'], \n",
    "     [red_meat, poultry, fish, seafood, egg, vegetables, fruits]))"
   ]
  },
  {
   "cell_type": "code",
   "execution_count": 229,
   "metadata": {
    "collapsed": true
   },
   "outputs": [],
   "source": [
    "for column in d.keys():\n",
    "    short_ingredients[column]=pd.Series([1 if len(set(d[column]).intersection(x.split(' ')))>0 else 0 \n",
    "                                     for x in short_ingredients.ingredient])"
   ]
  },
  {
   "cell_type": "code",
   "execution_count": 233,
   "metadata": {
    "collapsed": true
   },
   "outputs": [],
   "source": [
    "short_ingredients['dairy']=pd.Series([1 if (len(set(dairy).intersection(x.split(' ')))>0)&\n",
    "                                            (len(set(milk_exclude).intersection(x.split(' ')))==0) else 0 \n",
    "                                     for x in short_ingredients.ingredient])"
   ]
  },
  {
   "cell_type": "code",
   "execution_count": 234,
   "metadata": {},
   "outputs": [
    {
     "data": {
      "text/html": [
       "<div>\n",
       "<style>\n",
       "    .dataframe thead tr:only-child th {\n",
       "        text-align: right;\n",
       "    }\n",
       "\n",
       "    .dataframe thead th {\n",
       "        text-align: left;\n",
       "    }\n",
       "\n",
       "    .dataframe tbody tr th {\n",
       "        vertical-align: top;\n",
       "    }\n",
       "</style>\n",
       "<table border=\"1\" class=\"dataframe\">\n",
       "  <thead>\n",
       "    <tr style=\"text-align: right;\">\n",
       "      <th></th>\n",
       "      <th>ingredient</th>\n",
       "      <th>red_meat</th>\n",
       "      <th>poultry</th>\n",
       "      <th>fish</th>\n",
       "      <th>seafood</th>\n",
       "      <th>egg</th>\n",
       "      <th>vegetables</th>\n",
       "      <th>fruits</th>\n",
       "      <th>dairy</th>\n",
       "    </tr>\n",
       "  </thead>\n",
       "  <tbody>\n",
       "    <tr>\n",
       "      <th>0</th>\n",
       "      <td>maitake mushrooms</td>\n",
       "      <td>0</td>\n",
       "      <td>0</td>\n",
       "      <td>0</td>\n",
       "      <td>0</td>\n",
       "      <td>0</td>\n",
       "      <td>1</td>\n",
       "      <td>0</td>\n",
       "      <td>0</td>\n",
       "    </tr>\n",
       "    <tr>\n",
       "      <th>1</th>\n",
       "      <td>america</td>\n",
       "      <td>0</td>\n",
       "      <td>0</td>\n",
       "      <td>0</td>\n",
       "      <td>0</td>\n",
       "      <td>0</td>\n",
       "      <td>0</td>\n",
       "      <td>0</td>\n",
       "      <td>0</td>\n",
       "    </tr>\n",
       "    <tr>\n",
       "      <th>2</th>\n",
       "      <td>shiro miso</td>\n",
       "      <td>0</td>\n",
       "      <td>0</td>\n",
       "      <td>0</td>\n",
       "      <td>0</td>\n",
       "      <td>0</td>\n",
       "      <td>0</td>\n",
       "      <td>0</td>\n",
       "      <td>0</td>\n",
       "    </tr>\n",
       "    <tr>\n",
       "      <th>3</th>\n",
       "      <td>hash brown</td>\n",
       "      <td>0</td>\n",
       "      <td>0</td>\n",
       "      <td>0</td>\n",
       "      <td>0</td>\n",
       "      <td>0</td>\n",
       "      <td>0</td>\n",
       "      <td>0</td>\n",
       "      <td>0</td>\n",
       "    </tr>\n",
       "    <tr>\n",
       "      <th>4</th>\n",
       "      <td>jicama</td>\n",
       "      <td>0</td>\n",
       "      <td>0</td>\n",
       "      <td>0</td>\n",
       "      <td>0</td>\n",
       "      <td>0</td>\n",
       "      <td>0</td>\n",
       "      <td>0</td>\n",
       "      <td>0</td>\n",
       "    </tr>\n",
       "  </tbody>\n",
       "</table>\n",
       "</div>"
      ],
      "text/plain": [
       "          ingredient  red_meat  poultry  fish  seafood  egg  vegetables  \\\n",
       "0  maitake mushrooms         0        0     0        0    0           1   \n",
       "1            america         0        0     0        0    0           0   \n",
       "2         shiro miso         0        0     0        0    0           0   \n",
       "3         hash brown         0        0     0        0    0           0   \n",
       "4             jicama         0        0     0        0    0           0   \n",
       "\n",
       "   fruits  dairy  \n",
       "0       0      0  \n",
       "1       0      0  \n",
       "2       0      0  \n",
       "3       0      0  \n",
       "4       0      0  "
      ]
     },
     "execution_count": 234,
     "metadata": {},
     "output_type": "execute_result"
    }
   ],
   "source": [
    "short_ingredients.head()"
   ]
  },
  {
   "cell_type": "code",
   "execution_count": 241,
   "metadata": {
    "collapsed": true
   },
   "outputs": [],
   "source": [
    "short_ingredients.to_csv('data/ingr_list.csv', encoding='UTF-8')"
   ]
  },
  {
   "cell_type": "code",
   "execution_count": 239,
   "metadata": {},
   "outputs": [
    {
     "data": {
      "text/plain": [
       "[('red_meat', 137),\n",
       " ('poultry', 46),\n",
       " ('fish', 47),\n",
       " ('seafood', 33),\n",
       " ('egg', 12),\n",
       " ('vegetables', 320),\n",
       " ('fruits', 227),\n",
       " ('dairy', 67)]"
      ]
     },
     "execution_count": 239,
     "metadata": {},
     "output_type": "execute_result"
    }
   ],
   "source": [
    "[(x, sum(short_ingredients[x])) for x in ['red_meat', 'poultry', 'fish', 'seafood', 'egg', 'vegetables', 'fruits', 'dairy']]"
   ]
  },
  {
   "cell_type": "code",
   "execution_count": 273,
   "metadata": {},
   "outputs": [
    {
     "data": {
      "text/html": [
       "<div>\n",
       "<style>\n",
       "    .dataframe thead tr:only-child th {\n",
       "        text-align: right;\n",
       "    }\n",
       "\n",
       "    .dataframe thead th {\n",
       "        text-align: left;\n",
       "    }\n",
       "\n",
       "    .dataframe tbody tr th {\n",
       "        vertical-align: top;\n",
       "    }\n",
       "</style>\n",
       "<table border=\"1\" class=\"dataframe\">\n",
       "  <thead>\n",
       "    <tr style=\"text-align: right;\">\n",
       "      <th></th>\n",
       "      <th>title</th>\n",
       "      <th>calories</th>\n",
       "      <th>protein</th>\n",
       "      <th>carbs</th>\n",
       "      <th>fat</th>\n",
       "      <th>sodium</th>\n",
       "      <th>steps</th>\n",
       "      <th>meal</th>\n",
       "      <th>shredded parmesan cheese</th>\n",
       "      <th>tea</th>\n",
       "      <th>...</th>\n",
       "      <th>cointreau</th>\n",
       "      <th>pickled radish</th>\n",
       "      <th>liquid</th>\n",
       "      <th>red bliss potato</th>\n",
       "      <th>garlic chives</th>\n",
       "      <th>shelled pistachio</th>\n",
       "      <th>chive blossoms</th>\n",
       "      <th>baking apples</th>\n",
       "      <th>haddock</th>\n",
       "      <th>chili</th>\n",
       "    </tr>\n",
       "  </thead>\n",
       "  <tbody>\n",
       "    <tr>\n",
       "      <th>0</th>\n",
       "      <td>Lentil, Apple, and Turkey Wrap</td>\n",
       "      <td>426.0</td>\n",
       "      <td>30.0</td>\n",
       "      <td>60.75</td>\n",
       "      <td>7.0</td>\n",
       "      <td>559.0</td>\n",
       "      <td>3</td>\n",
       "      <td>lunch/dinner</td>\n",
       "      <td>0</td>\n",
       "      <td>0</td>\n",
       "      <td>...</td>\n",
       "      <td>0</td>\n",
       "      <td>0</td>\n",
       "      <td>0</td>\n",
       "      <td>0</td>\n",
       "      <td>0</td>\n",
       "      <td>0</td>\n",
       "      <td>0</td>\n",
       "      <td>0</td>\n",
       "      <td>0</td>\n",
       "      <td>0</td>\n",
       "    </tr>\n",
       "    <tr>\n",
       "      <th>1</th>\n",
       "      <td>Boudin Blanc Terrine with Red Onion Confit</td>\n",
       "      <td>403.0</td>\n",
       "      <td>18.0</td>\n",
       "      <td>31.00</td>\n",
       "      <td>23.0</td>\n",
       "      <td>1439.0</td>\n",
       "      <td>5</td>\n",
       "      <td>lunch/dinner</td>\n",
       "      <td>0</td>\n",
       "      <td>0</td>\n",
       "      <td>...</td>\n",
       "      <td>0</td>\n",
       "      <td>0</td>\n",
       "      <td>0</td>\n",
       "      <td>0</td>\n",
       "      <td>0</td>\n",
       "      <td>0</td>\n",
       "      <td>0</td>\n",
       "      <td>0</td>\n",
       "      <td>0</td>\n",
       "      <td>0</td>\n",
       "    </tr>\n",
       "    <tr>\n",
       "      <th>2</th>\n",
       "      <td>Potato and Fennel Soup Hodge</td>\n",
       "      <td>165.0</td>\n",
       "      <td>6.0</td>\n",
       "      <td>19.50</td>\n",
       "      <td>7.0</td>\n",
       "      <td>165.0</td>\n",
       "      <td>2</td>\n",
       "      <td>lunch/dinner</td>\n",
       "      <td>0</td>\n",
       "      <td>0</td>\n",
       "      <td>...</td>\n",
       "      <td>0</td>\n",
       "      <td>0</td>\n",
       "      <td>0</td>\n",
       "      <td>0</td>\n",
       "      <td>0</td>\n",
       "      <td>0</td>\n",
       "      <td>0</td>\n",
       "      <td>0</td>\n",
       "      <td>0</td>\n",
       "      <td>0</td>\n",
       "    </tr>\n",
       "    <tr>\n",
       "      <th>3</th>\n",
       "      <td>Mahi-Mahi in Tomato Olive Sauce</td>\n",
       "      <td>NaN</td>\n",
       "      <td>NaN</td>\n",
       "      <td>NaN</td>\n",
       "      <td>NaN</td>\n",
       "      <td>NaN</td>\n",
       "      <td>2</td>\n",
       "      <td>dinner</td>\n",
       "      <td>0</td>\n",
       "      <td>0</td>\n",
       "      <td>...</td>\n",
       "      <td>0</td>\n",
       "      <td>0</td>\n",
       "      <td>0</td>\n",
       "      <td>0</td>\n",
       "      <td>0</td>\n",
       "      <td>0</td>\n",
       "      <td>0</td>\n",
       "      <td>0</td>\n",
       "      <td>0</td>\n",
       "      <td>0</td>\n",
       "    </tr>\n",
       "    <tr>\n",
       "      <th>4</th>\n",
       "      <td>Spinach Noodle Casserole</td>\n",
       "      <td>547.0</td>\n",
       "      <td>20.0</td>\n",
       "      <td>44.75</td>\n",
       "      <td>32.0</td>\n",
       "      <td>452.0</td>\n",
       "      <td>1</td>\n",
       "      <td>lunch/dinner</td>\n",
       "      <td>0</td>\n",
       "      <td>0</td>\n",
       "      <td>...</td>\n",
       "      <td>0</td>\n",
       "      <td>0</td>\n",
       "      <td>0</td>\n",
       "      <td>0</td>\n",
       "      <td>0</td>\n",
       "      <td>0</td>\n",
       "      <td>0</td>\n",
       "      <td>0</td>\n",
       "      <td>0</td>\n",
       "      <td>0</td>\n",
       "    </tr>\n",
       "  </tbody>\n",
       "</table>\n",
       "<p>5 rows × 2701 columns</p>\n",
       "</div>"
      ],
      "text/plain": [
       "                                         title  calories  protein  carbs  \\\n",
       "0              Lentil, Apple, and Turkey Wrap      426.0     30.0  60.75   \n",
       "1  Boudin Blanc Terrine with Red Onion Confit      403.0     18.0  31.00   \n",
       "2                Potato and Fennel Soup Hodge      165.0      6.0  19.50   \n",
       "3             Mahi-Mahi in Tomato Olive Sauce        NaN      NaN    NaN   \n",
       "4                    Spinach Noodle Casserole      547.0     20.0  44.75   \n",
       "\n",
       "    fat  sodium  steps          meal  shredded parmesan cheese  tea  ...    \\\n",
       "0   7.0   559.0      3  lunch/dinner                         0    0  ...     \n",
       "1  23.0  1439.0      5  lunch/dinner                         0    0  ...     \n",
       "2   7.0   165.0      2  lunch/dinner                         0    0  ...     \n",
       "3   NaN     NaN      2        dinner                         0    0  ...     \n",
       "4  32.0   452.0      1  lunch/dinner                         0    0  ...     \n",
       "\n",
       "   cointreau  pickled radish  liquid  red bliss potato  garlic chives  \\\n",
       "0          0               0       0                 0              0   \n",
       "1          0               0       0                 0              0   \n",
       "2          0               0       0                 0              0   \n",
       "3          0               0       0                 0              0   \n",
       "4          0               0       0                 0              0   \n",
       "\n",
       "   shelled pistachio  chive blossoms  baking apples  haddock  chili  \n",
       "0                  0               0              0        0      0  \n",
       "1                  0               0              0        0      0  \n",
       "2                  0               0              0        0      0  \n",
       "3                  0               0              0        0      0  \n",
       "4                  0               0              0        0      0  \n",
       "\n",
       "[5 rows x 2701 columns]"
      ]
     },
     "execution_count": 273,
     "metadata": {},
     "output_type": "execute_result"
    }
   ],
   "source": [
    "data_short.head()"
   ]
  },
  {
   "cell_type": "code",
   "execution_count": 280,
   "metadata": {
    "collapsed": true
   },
   "outputs": [],
   "source": [
    "freq=[(x, sum(data_short[x])) for x in \n",
    "      data_short.drop(['title','calories','protein','carbs','fat','sodium','steps', 'meal'], axis=1).columns]"
   ]
  },
  {
   "cell_type": "code",
   "execution_count": 281,
   "metadata": {
    "collapsed": true
   },
   "outputs": [],
   "source": [
    "freq.sort(key=lambda tup: tup[1])"
   ]
  },
  {
   "cell_type": "code",
   "execution_count": 284,
   "metadata": {},
   "outputs": [
    {
     "data": {
      "text/plain": [
       "[('olive oil', 6587),\n",
       " ('garlic', 5825),\n",
       " ('butter', 5741),\n",
       " ('salt', 5195),\n",
       " ('pepper', 5105),\n",
       " ('sugar', 5004),\n",
       " ('onion', 4644),\n",
       " ('egg', 4030),\n",
       " ('water', 3545),\n",
       " ('flour', 3418),\n",
       " ('lemon juice', 3066),\n",
       " ('oil', 2348),\n",
       " ('kosher salt', 1773),\n",
       " ('chicken broth', 1753),\n",
       " ('milk', 1683),\n",
       " ('shallot', 1512),\n",
       " ('cinnamon', 1404),\n",
       " ('dry wine', 1402),\n",
       " ('lime juice', 1389),\n",
       " ('wine vinegar', 1365),\n",
       " ('chicken', 1355),\n",
       " ('brown sugar', 1343),\n",
       " ('parsley', 1324),\n",
       " ('carrot', 1301),\n",
       " ('tomato', 1287),\n",
       " ('whipping cream', 1206),\n",
       " ('no ingredient', 1178),\n",
       " ('cream', 1173),\n",
       " ('cilantro', 1144),\n",
       " ('vanilla extract', 1112),\n",
       " ('ginger', 1032),\n",
       " ('parmesan', 973),\n",
       " ('dijon mustard', 930),\n",
       " ('baking powder', 914),\n",
       " ('thyme', 910),\n",
       " ('soy sauce', 905),\n",
       " ('red bell pepper', 899),\n",
       " ('honey', 891),\n",
       " ('cumin', 879),\n",
       " ('celery', 875),\n",
       " ('lemon', 867),\n",
       " ('bread', 839),\n",
       " ('scallion', 767),\n",
       " ('peeled ginger', 746),\n",
       " ('vinegar', 728),\n",
       " ('sour cream', 726),\n",
       " ('orange juice', 718),\n",
       " ('mayonnaise', 710),\n",
       " ('chive', 701),\n",
       " ('orange', 669),\n",
       " ('accompaniment', 668),\n",
       " ('nutmeg', 651),\n",
       " ('lemon peel', 643),\n",
       " ('vanilla', 641),\n",
       " ('jalape', 618),\n",
       " ('apple', 603),\n",
       " ('rosemary', 599),\n",
       " ('green onions', 590),\n",
       " ('baking soda', 585),\n",
       " ('starch', 579),\n",
       " ('basil', 569),\n",
       " ('crosswise', 559),\n",
       " ('sea salt', 558),\n",
       " ('mint', 546),\n",
       " ('almond', 540),\n",
       " ('parsley leaves', 539),\n",
       " ('rice', 528),\n",
       " ('bay leaf', 508),\n",
       " ('bacon', 501),\n",
       " ('shrimp', 497),\n",
       " ('leaf parsley', 489),\n",
       " ('plum tomatoes', 485),\n",
       " ('walnut', 479),\n",
       " ('potato', 478),\n",
       " ('coriander', 476),\n",
       " ('bell pepper', 464),\n",
       " ('cayenne pepper', 464),\n",
       " ('buttermilk', 456),\n",
       " ('corn', 445),\n",
       " ('bay leaves', 438),\n",
       " ('black peppercorns', 431),\n",
       " ('fennel', 431),\n",
       " ('raisin', 427),\n",
       " ('dill', 424),\n",
       " ('granulated sugar', 421),\n",
       " ('basil leaves', 420),\n",
       " ('dried oregano', 420),\n",
       " ('powdered sugar', 416),\n",
       " ('lemon zest', 415),\n",
       " ('coarse kosher salt', 414),\n",
       " ('rice vinegar', 413),\n",
       " ('oil spray', 412),\n",
       " ('sesame oil', 383),\n",
       " ('allspice', 383),\n",
       " ('strawberry', 381),\n",
       " ('ice cubes', 379),\n",
       " ('mint leaves', 377),\n",
       " ('mushroom', 372),\n",
       " ('caper', 371),\n",
       " ('tarragon', 369)]"
      ]
     },
     "execution_count": 284,
     "metadata": {},
     "output_type": "execute_result"
    }
   ],
   "source": [
    "freq[::-1][:100]"
   ]
  },
  {
   "cell_type": "code",
   "execution_count": null,
   "metadata": {
    "collapsed": true
   },
   "outputs": [],
   "source": []
  }
 ],
 "metadata": {
  "kernelspec": {
   "display_name": "Python 3",
   "language": "python",
   "name": "python3"
  },
  "language_info": {
   "codemirror_mode": {
    "name": "ipython",
    "version": 3
   },
   "file_extension": ".py",
   "mimetype": "text/x-python",
   "name": "python",
   "nbconvert_exporter": "python",
   "pygments_lexer": "ipython3",
   "version": "3.6.1"
  }
 },
 "nbformat": 4,
 "nbformat_minor": 2
}
