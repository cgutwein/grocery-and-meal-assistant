{
 "cells": [
  {
   "cell_type": "code",
   "execution_count": 2,
   "metadata": {
    "collapsed": true
   },
   "outputs": [],
   "source": [
    "import pandas as pd\n",
    "import nltk"
   ]
  },
  {
   "cell_type": "markdown",
   "metadata": {},
   "source": [
    "### Tokenize and simplify the ingredients"
   ]
  },
  {
   "cell_type": "code",
   "execution_count": 2,
   "metadata": {
    "collapsed": true
   },
   "outputs": [],
   "source": [
    "# Upload trained dataset\n",
    "train_ingr=pd.read_csv('data/shortened_train.csv')\n",
    "\n",
    "train_ingr['full form']=pd.Series([x.lstrip() for x in train_ingr['full form']])\n",
    "train_ingr['short form']=pd.Series([x.lstrip() for x in train_ingr['short form']])\n",
    "train_ingr.index=train_ingr['full form']\n",
    "\n",
    "groups = train_ingr.groupby(level=train_ingr.index.names) \n",
    "train_ingr=groups.last()\n"
   ]
  },
  {
   "cell_type": "code",
   "execution_count": 112,
   "metadata": {
    "collapsed": true
   },
   "outputs": [],
   "source": [
    "# read the full list of 3700 ingredients\n",
    "ingredients=pd.read_csv('data/ingredients.csv')\n",
    "ingredients.drop('Column1', axis=1, inplace=True)"
   ]
  },
  {
   "cell_type": "code",
   "execution_count": 113,
   "metadata": {},
   "outputs": [
    {
     "data": {
      "text/plain": [
       "0    cremini mushrooms\n",
       "1              caramel\n",
       "2      maldon sea salt\n",
       "3          orecchiette\n",
       "4        baby bok choy\n",
       "Name: full name, dtype: object"
      ]
     },
     "execution_count": 113,
     "metadata": {},
     "output_type": "execute_result"
    }
   ],
   "source": [
    "ingredients['full name'].head()"
   ]
  },
  {
   "cell_type": "code",
   "execution_count": null,
   "metadata": {
    "collapsed": true
   },
   "outputs": [],
   "source": [
    "# create the dataset of ingredients\n",
    "\n",
    "ingredients['split']=pd.Series([x.split() for x in new_ingredients])\n",
    "\n",
    "ingredients['pos']=pd.Series([[xx[1] for xx in nltk.pos_tag(x)] for x in ingredients['split']])\n",
    "\n",
    "ingredients['train']=pd.Series([int(x in list(train_ingr['full form'])) for x in ingredients['full name']])\n",
    "\n",
    "ingredients['short']=pd.Series([train_ingr.loc[x]['short form'] \n",
    "                                if (x in train_ingr.index)&(x in new_ingredients) else 'na' for x in ingredients['full name'] ])\n",
    "\n",
    "ingredients['short_split']=pd.Series([ingredients['short'][i].split() for i in range(ingredients.shape[0])])\n"
   ]
  },
  {
   "cell_type": "markdown",
   "metadata": {},
   "source": [
    "### Fill the non-train short values based either on word, or the POS probability"
   ]
  },
  {
   "cell_type": "code",
   "execution_count": 47,
   "metadata": {
    "collapsed": true
   },
   "outputs": [],
   "source": [
    "samples=[]\n",
    "idx=ingredients[ingredients.train==1].index"
   ]
  },
  {
   "cell_type": "code",
   "execution_count": 48,
   "metadata": {
    "collapsed": true
   },
   "outputs": [],
   "source": [
    "for i in idx:\n",
    "    split=ingredients.loc[i]['split']\n",
    "    pos=ingredients.loc[i]['pos']\n",
    "    short_split=ingredients.loc[i]['short_split']\n",
    "    for j in range(len(split)):\n",
    "        samples.append([split[j], pos[j], int(split[j] in short_split)])"
   ]
  },
  {
   "cell_type": "code",
   "execution_count": 49,
   "metadata": {
    "collapsed": true
   },
   "outputs": [],
   "source": [
    "samples=pd.DataFrame(samples, columns=['word', 'pos','keep'])"
   ]
  },
  {
   "cell_type": "code",
   "execution_count": 50,
   "metadata": {},
   "outputs": [
    {
     "data": {
      "text/plain": [
       "(1538, 3)"
      ]
     },
     "execution_count": 50,
     "metadata": {},
     "output_type": "execute_result"
    }
   ],
   "source": [
    "samples.shape"
   ]
  },
  {
   "cell_type": "code",
   "execution_count": 51,
   "metadata": {},
   "outputs": [
    {
     "data": {
      "text/html": [
       "<div>\n",
       "<style>\n",
       "    .dataframe thead tr:only-child th {\n",
       "        text-align: right;\n",
       "    }\n",
       "\n",
       "    .dataframe thead th {\n",
       "        text-align: left;\n",
       "    }\n",
       "\n",
       "    .dataframe tbody tr th {\n",
       "        vertical-align: top;\n",
       "    }\n",
       "</style>\n",
       "<table border=\"1\" class=\"dataframe\">\n",
       "  <thead>\n",
       "    <tr style=\"text-align: right;\">\n",
       "      <th></th>\n",
       "      <th>word</th>\n",
       "      <th>pos</th>\n",
       "      <th>keep</th>\n",
       "    </tr>\n",
       "  </thead>\n",
       "  <tbody>\n",
       "    <tr>\n",
       "      <th>0</th>\n",
       "      <td>cremini</td>\n",
       "      <td>NN</td>\n",
       "      <td>1</td>\n",
       "    </tr>\n",
       "    <tr>\n",
       "      <th>1</th>\n",
       "      <td>mushrooms</td>\n",
       "      <td>NNS</td>\n",
       "      <td>1</td>\n",
       "    </tr>\n",
       "    <tr>\n",
       "      <th>2</th>\n",
       "      <td>sliced</td>\n",
       "      <td>VBN</td>\n",
       "      <td>0</td>\n",
       "    </tr>\n",
       "    <tr>\n",
       "      <th>3</th>\n",
       "      <td>mushrooms</td>\n",
       "      <td>NNS</td>\n",
       "      <td>0</td>\n",
       "    </tr>\n",
       "    <tr>\n",
       "      <th>4</th>\n",
       "      <td>rice</td>\n",
       "      <td>NN</td>\n",
       "      <td>1</td>\n",
       "    </tr>\n",
       "  </tbody>\n",
       "</table>\n",
       "</div>"
      ],
      "text/plain": [
       "        word  pos  keep\n",
       "0    cremini   NN     1\n",
       "1  mushrooms  NNS     1\n",
       "2     sliced  VBN     0\n",
       "3  mushrooms  NNS     0\n",
       "4       rice   NN     1"
      ]
     },
     "execution_count": 51,
     "metadata": {},
     "output_type": "execute_result"
    }
   ],
   "source": [
    "samples.head()"
   ]
  },
  {
   "cell_type": "code",
   "execution_count": null,
   "metadata": {
    "collapsed": true
   },
   "outputs": [],
   "source": [
    "### Simple probabiity model\n",
    "\n",
    "def keep_prob(x):\n",
    "    if x[0] in list(samples.word):\n",
    "        idx=samples[samples.word==x[0]].index\n",
    "        if x[1] in list(samples.loc[idx]['pos']):\n",
    "            idx=samples.loc[idx][samples.pos==x[1]].index\n",
    "        else:\n",
    "            idx=samples[samples.pos==x[1]].index\n",
    "    else: \n",
    "        idx=samples[samples.pos==x[1]].index\n",
    "    \n",
    "    try: return sum(samples.loc[idx]['keep'])/len(samples.loc[idx]['keep']) \n",
    "    except: return 0"
   ]
  },
  {
   "cell_type": "code",
   "execution_count": null,
   "metadata": {
    "collapsed": true
   },
   "outputs": [],
   "source": [
    "# Fille the 'short_spit' for non-train data\n",
    "\n",
    "ingredients['short_split']=pd.Series([ingredients['short'][i].split() for i in range(ingredients.shape[0])])\n",
    "\n",
    "for i in ingredients[ingredients.train==0].index:\n",
    "    ss=[]\n",
    "    for j in range(len(ingredients.loc[i]['split'])):\n",
    "        x=[ingredients.loc[i]['split'][j], ingredients.loc[i]['pos'][j]]\n",
    "        if keep_prob(x)>0.5:\n",
    "            ss.extend([x[0]])\n",
    "    ingredients.loc[i, 'short_split'].extend(ss)\n"
   ]
  },
  {
   "cell_type": "code",
   "execution_count": null,
   "metadata": {
    "collapsed": true
   },
   "outputs": [],
   "source": [
    "# Add 'short' name and 'stemmed' name columns from short_split\n",
    "\n",
    "ingredients['short']=pd.Series([' '.join(x[1:]) if x[0]=='na' else ' '.join(x) \n",
    "                               for x in ingredients['short_split'] ])\n",
    "\n",
    "def stem(x):\n",
    "    try: return lemmatizer.lemmatize(x)\n",
    "    except: return None\n",
    "    \n",
    "\n",
    "ingredients['stem']=pd.Series([stem(x) for x in ingredients['short']])"
   ]
  },
  {
   "cell_type": "code",
   "execution_count": 53,
   "metadata": {},
   "outputs": [
    {
     "data": {
      "text/html": [
       "<div>\n",
       "<style>\n",
       "    .dataframe thead tr:only-child th {\n",
       "        text-align: right;\n",
       "    }\n",
       "\n",
       "    .dataframe thead th {\n",
       "        text-align: left;\n",
       "    }\n",
       "\n",
       "    .dataframe tbody tr th {\n",
       "        vertical-align: top;\n",
       "    }\n",
       "</style>\n",
       "<table border=\"1\" class=\"dataframe\">\n",
       "  <thead>\n",
       "    <tr style=\"text-align: right;\">\n",
       "      <th></th>\n",
       "      <th>full name</th>\n",
       "      <th>stem</th>\n",
       "      <th>short</th>\n",
       "      <th>split</th>\n",
       "      <th>pos</th>\n",
       "      <th>train</th>\n",
       "      <th>short_split</th>\n",
       "    </tr>\n",
       "  </thead>\n",
       "  <tbody>\n",
       "    <tr>\n",
       "      <th>0</th>\n",
       "      <td>cremini mushrooms</td>\n",
       "      <td>cremini mushrooms</td>\n",
       "      <td>cremini mushrooms</td>\n",
       "      <td>[cremini, mushrooms]</td>\n",
       "      <td>[NN, NNS]</td>\n",
       "      <td>1</td>\n",
       "      <td>[cremini, mushrooms]</td>\n",
       "    </tr>\n",
       "    <tr>\n",
       "      <th>1</th>\n",
       "      <td>caramel</td>\n",
       "      <td>caramel</td>\n",
       "      <td>caramel</td>\n",
       "      <td>[caramel]</td>\n",
       "      <td>[NN]</td>\n",
       "      <td>0</td>\n",
       "      <td>[na, caramel]</td>\n",
       "    </tr>\n",
       "    <tr>\n",
       "      <th>2</th>\n",
       "      <td>maldon sea salt</td>\n",
       "      <td>maldon sea salt</td>\n",
       "      <td>maldon sea salt</td>\n",
       "      <td>[maldon, sea, salt]</td>\n",
       "      <td>[NNS, NN, NN]</td>\n",
       "      <td>0</td>\n",
       "      <td>[na, maldon, sea, salt]</td>\n",
       "    </tr>\n",
       "    <tr>\n",
       "      <th>3</th>\n",
       "      <td>orecchiette</td>\n",
       "      <td>orecchiette</td>\n",
       "      <td>orecchiette</td>\n",
       "      <td>[orecchiette]</td>\n",
       "      <td>[NN]</td>\n",
       "      <td>0</td>\n",
       "      <td>[na, orecchiette]</td>\n",
       "    </tr>\n",
       "    <tr>\n",
       "      <th>4</th>\n",
       "      <td>baby bok choy</td>\n",
       "      <td>baby bok choy</td>\n",
       "      <td>baby bok choy</td>\n",
       "      <td>[baby, bok, choy]</td>\n",
       "      <td>[NN, NNS, VBP]</td>\n",
       "      <td>0</td>\n",
       "      <td>[na, baby, bok, choy]</td>\n",
       "    </tr>\n",
       "  </tbody>\n",
       "</table>\n",
       "</div>"
      ],
      "text/plain": [
       "           full name               stem              short  \\\n",
       "0  cremini mushrooms  cremini mushrooms  cremini mushrooms   \n",
       "1            caramel            caramel            caramel   \n",
       "2    maldon sea salt    maldon sea salt    maldon sea salt   \n",
       "3        orecchiette        orecchiette        orecchiette   \n",
       "4      baby bok choy      baby bok choy      baby bok choy   \n",
       "\n",
       "                  split             pos  train              short_split  \n",
       "0  [cremini, mushrooms]       [NN, NNS]      1     [cremini, mushrooms]  \n",
       "1             [caramel]            [NN]      0            [na, caramel]  \n",
       "2   [maldon, sea, salt]   [NNS, NN, NN]      0  [na, maldon, sea, salt]  \n",
       "3         [orecchiette]            [NN]      0        [na, orecchiette]  \n",
       "4     [baby, bok, choy]  [NN, NNS, VBP]      0    [na, baby, bok, choy]  "
      ]
     },
     "execution_count": 53,
     "metadata": {},
     "output_type": "execute_result"
    }
   ],
   "source": [
    "ingredients.head()"
   ]
  },
  {
   "cell_type": "code",
   "execution_count": null,
   "metadata": {
    "collapsed": true
   },
   "outputs": [],
   "source": [
    "ingredients.to_csv('ingredients.csv')"
   ]
  },
  {
   "cell_type": "code",
   "execution_count": 141,
   "metadata": {},
   "outputs": [],
   "source": [
    "short_ingredients=list(set(ingredients['stem']))\n",
    "short_ingredients=[x for x in short_ingredients if type(x)==str]"
   ]
  },
  {
   "cell_type": "code",
   "execution_count": 142,
   "metadata": {},
   "outputs": [
    {
     "data": {
      "text/plain": [
       "2640"
      ]
     },
     "execution_count": 142,
     "metadata": {},
     "output_type": "execute_result"
    }
   ],
   "source": [
    "len(short_ingredients)"
   ]
  },
  {
   "cell_type": "code",
   "execution_count": 143,
   "metadata": {
    "collapsed": true
   },
   "outputs": [],
   "source": [
    "short_ingredients.remove('meal')\n",
    "short_ingredients.remove('fat')"
   ]
  },
  {
   "cell_type": "code",
   "execution_count": 144,
   "metadata": {
    "collapsed": true
   },
   "outputs": [],
   "source": [
    "pd.DataFrame(short_ingredients, columns=['ingredient']).to_csv(\"data/ingr_list.csv\", encoding=\"UTF-8\")"
   ]
  },
  {
   "cell_type": "code",
   "execution_count": null,
   "metadata": {
    "collapsed": true
   },
   "outputs": [],
   "source": [
    "# Further upload of ingredients dataset"
   ]
  },
  {
   "cell_type": "code",
   "execution_count": 114,
   "metadata": {
    "collapsed": true
   },
   "outputs": [],
   "source": [
    "ingredients=pd.read_csv('data/ingredients.csv')\n",
    "ingredients.drop('Column1', axis=1, inplace=True)"
   ]
  },
  {
   "cell_type": "code",
   "execution_count": 222,
   "metadata": {
    "collapsed": true
   },
   "outputs": [],
   "source": [
    "from ast import literal_eval"
   ]
  },
  {
   "cell_type": "code",
   "execution_count": 115,
   "metadata": {
    "collapsed": true
   },
   "outputs": [],
   "source": [
    "for column in list(['split', 'pos', 'short_split']):\n",
    "    ingredients[column]=pd.Series(literal_eval(x) for x in ingredients[column])\n"
   ]
  },
  {
   "cell_type": "markdown",
   "metadata": {},
   "source": [
    "### Create the dataset out of 2.7K unified ingredients and recipes"
   ]
  },
  {
   "cell_type": "code",
   "execution_count": null,
   "metadata": {
    "collapsed": true
   },
   "outputs": [],
   "source": [
    "data=pd.read_csv('data/data.csv')\n",
    "\n",
    "data_short=data[['title','calories','protein','carbs','fat','sodium','steps', 'meal']]\n"
   ]
  },
  {
   "cell_type": "code",
   "execution_count": 118,
   "metadata": {
    "collapsed": true
   },
   "outputs": [],
   "source": []
  },
  {
   "cell_type": "code",
   "execution_count": null,
   "metadata": {
    "collapsed": true
   },
   "outputs": [],
   "source": [
    "len(short_ingredients)\n",
    "\n",
    "for ingr in short_ingredients:\n",
    "    items=[ingredients.loc[i]['full name'] for i in ingredients.index if ingredients.loc[i]['stem']==ingr]\n",
    "    items=[x for x in items if x in data.columns]\n",
    "    data_short[ingr]=data[items].sum(axis=1)\n"
   ]
  },
  {
   "cell_type": "code",
   "execution_count": null,
   "metadata": {
    "collapsed": true
   },
   "outputs": [],
   "source": [
    "data_short[short_ingredients]=data_short[short_ingredients].applymap(lambda x: int(x>0))"
   ]
  },
  {
   "cell_type": "code",
   "execution_count": null,
   "metadata": {
    "collapsed": true
   },
   "outputs": [],
   "source": [
    "\n",
    "data_short.to_csv('data_short.csv', encoding=\"UTF-8\")"
   ]
  },
  {
   "cell_type": "markdown",
   "metadata": {},
   "source": [
    "### Categorize ingredients"
   ]
  },
  {
   "cell_type": "markdown",
   "metadata": {},
   "source": [
    "#### Categorize vegetarian and vegan products"
   ]
  },
  {
   "cell_type": "code",
   "execution_count": 129,
   "metadata": {
    "scrolled": true
   },
   "outputs": [],
   "source": [
    "data_short=pd.read_csv('data/data_short.csv', encoding=\"UTF-8\")"
   ]
  },
  {
   "cell_type": "code",
   "execution_count": 217,
   "metadata": {},
   "outputs": [],
   "source": [
    "short_ingredients=pd.read_csv('data/ingr_list.csv', encoding=\"UTF-8\")"
   ]
  },
  {
   "cell_type": "code",
   "execution_count": 218,
   "metadata": {},
   "outputs": [],
   "source": [
    "short_ingredients.drop('Unnamed: 0', axis=1, inplace=True)"
   ]
  },
  {
   "cell_type": "code",
   "execution_count": 151,
   "metadata": {
    "collapsed": true
   },
   "outputs": [],
   "source": [
    "red_meat=['lamb', 'beef', 'meat', 'mutton', 'veal', 'venison', 'pork',\n",
    "      'turkey', 'bacon', 'ham', 'hot dogs', 'jamon', 'prosciutto', 'salami', 'sausages', 'rabbit']"
   ]
  },
  {
   "cell_type": "code",
   "execution_count": null,
   "metadata": {
    "collapsed": true
   },
   "outputs": [],
   "source": [
    "short_ingredients[str(column)]=pd.Series([1 if len(set(column).intersection(x.split(' ')))>0 else 0 \n",
    "                                     for x in short_ingredients.ingredient])"
   ]
  },
  {
   "cell_type": "code",
   "execution_count": 152,
   "metadata": {
    "collapsed": true
   },
   "outputs": [],
   "source": [
    "poultry=['chicken', 'turkey', 'duck', 'grouse', 'pheasant']"
   ]
  },
  {
   "cell_type": "code",
   "execution_count": 153,
   "metadata": {
    "collapsed": true
   },
   "outputs": [],
   "source": [
    "fish=['fish', 'salmon', 'cod', 'tilapia', 'catfish', 'halibut', 'mahi', 'tuna', 'mackerel',  \n",
    "      'swordfish', 'sole', 'bass', 'anchovy', 'herring', 'haddock', 'monkfish', 'mullet', 'sardines', 'swordfish', \n",
    "     'trout', 'caviar', 'turbot', 'snapper', 'sturgeon', 'flounder', 'barramundi']"
   ]
  },
  {
   "cell_type": "code",
   "execution_count": 154,
   "metadata": {
    "collapsed": true
   },
   "outputs": [],
   "source": [
    "seafood=['crabs', 'shells', 'shrimp', 'clam', 'lobster', 'octopus', 'scallops', 'squid', 'eel']"
   ]
  },
  {
   "cell_type": "code",
   "execution_count": 155,
   "metadata": {
    "collapsed": true
   },
   "outputs": [],
   "source": [
    "dairy=['cheese', 'milk', 'mascarpone', 'butter' 'buttermilk', 'ice cream', 'sour cream', 'yogurt', 'yoghurt', 'kefir', 'custard']"
   ]
  },
  {
   "cell_type": "code",
   "execution_count": 156,
   "metadata": {
    "collapsed": true
   },
   "outputs": [],
   "source": [
    "milk_exclude=['coconut', 'soymilk', 'soy', 'cashew', 'almond', 'rice']"
   ]
  },
  {
   "cell_type": "code",
   "execution_count": 157,
   "metadata": {
    "collapsed": true
   },
   "outputs": [],
   "source": [
    "egg=['egg', 'eggs', 'yolk', 'whites']"
   ]
  },
  {
   "cell_type": "code",
   "execution_count": 160,
   "metadata": {
    "collapsed": true
   },
   "outputs": [],
   "source": [
    "#vegetables\n",
    "vegetables=list(pd.read_csv('data/vegetables.csv')['Vegetables'])\n",
    "vegetables=[x.lower() for x in vegetables]\n",
    "vegetables=[x.split('/') for x in vegetables]\n",
    "vegetables=[y for x in vegetables for y in x]"
   ]
  },
  {
   "cell_type": "code",
   "execution_count": 197,
   "metadata": {},
   "outputs": [],
   "source": [
    "# fruit\n",
    "fruits=list(pd.read_csv('data/fruits.csv')['Fruits'])\n",
    "fruits=[x.lower() for x in fruits]\n",
    "fruits=[x.split('/') for x in fruits]\n",
    "fruits=[y for x in fruits for y in x]"
   ]
  },
  {
   "cell_type": "code",
   "execution_count": null,
   "metadata": {
    "collapsed": true
   },
   "outputs": [],
   "source": [
    "d=dict(zip(['red_meat', 'poultry', 'fish', 'seafood', 'egg', 'vegetables', 'fruits'], \n",
    "     [red_meat, poultry, fish, seafood, egg, vegetables, fruits]))"
   ]
  },
  {
   "cell_type": "code",
   "execution_count": 229,
   "metadata": {
    "collapsed": true
   },
   "outputs": [],
   "source": [
    "for column in d.keys():\n",
    "    short_ingredients[column]=pd.Series([1 if len(set(d[column]).intersection(x.split(' ')))>0 else 0 \n",
    "                                     for x in short_ingredients.ingredient])"
   ]
  },
  {
   "cell_type": "code",
   "execution_count": 233,
   "metadata": {},
   "outputs": [],
   "source": [
    "short_ingredients['dairy']=pd.Series([1 if (len(set(dairy).intersection(x.split(' ')))>0)&\n",
    "                                            (len(set(milk_exclude).intersection(x.split(' ')))==0) else 0 \n",
    "                                     for x in short_ingredients.ingredient])"
   ]
  },
  {
   "cell_type": "code",
   "execution_count": 234,
   "metadata": {},
   "outputs": [
    {
     "data": {
      "text/html": [
       "<div>\n",
       "<style>\n",
       "    .dataframe thead tr:only-child th {\n",
       "        text-align: right;\n",
       "    }\n",
       "\n",
       "    .dataframe thead th {\n",
       "        text-align: left;\n",
       "    }\n",
       "\n",
       "    .dataframe tbody tr th {\n",
       "        vertical-align: top;\n",
       "    }\n",
       "</style>\n",
       "<table border=\"1\" class=\"dataframe\">\n",
       "  <thead>\n",
       "    <tr style=\"text-align: right;\">\n",
       "      <th></th>\n",
       "      <th>ingredient</th>\n",
       "      <th>red_meat</th>\n",
       "      <th>poultry</th>\n",
       "      <th>fish</th>\n",
       "      <th>seafood</th>\n",
       "      <th>egg</th>\n",
       "      <th>vegetables</th>\n",
       "      <th>fruits</th>\n",
       "      <th>dairy</th>\n",
       "    </tr>\n",
       "  </thead>\n",
       "  <tbody>\n",
       "    <tr>\n",
       "      <th>0</th>\n",
       "      <td>maitake mushrooms</td>\n",
       "      <td>0</td>\n",
       "      <td>0</td>\n",
       "      <td>0</td>\n",
       "      <td>0</td>\n",
       "      <td>0</td>\n",
       "      <td>1</td>\n",
       "      <td>0</td>\n",
       "      <td>0</td>\n",
       "    </tr>\n",
       "    <tr>\n",
       "      <th>1</th>\n",
       "      <td>america</td>\n",
       "      <td>0</td>\n",
       "      <td>0</td>\n",
       "      <td>0</td>\n",
       "      <td>0</td>\n",
       "      <td>0</td>\n",
       "      <td>0</td>\n",
       "      <td>0</td>\n",
       "      <td>0</td>\n",
       "    </tr>\n",
       "    <tr>\n",
       "      <th>2</th>\n",
       "      <td>shiro miso</td>\n",
       "      <td>0</td>\n",
       "      <td>0</td>\n",
       "      <td>0</td>\n",
       "      <td>0</td>\n",
       "      <td>0</td>\n",
       "      <td>0</td>\n",
       "      <td>0</td>\n",
       "      <td>0</td>\n",
       "    </tr>\n",
       "    <tr>\n",
       "      <th>3</th>\n",
       "      <td>hash brown</td>\n",
       "      <td>0</td>\n",
       "      <td>0</td>\n",
       "      <td>0</td>\n",
       "      <td>0</td>\n",
       "      <td>0</td>\n",
       "      <td>0</td>\n",
       "      <td>0</td>\n",
       "      <td>0</td>\n",
       "    </tr>\n",
       "    <tr>\n",
       "      <th>4</th>\n",
       "      <td>jicama</td>\n",
       "      <td>0</td>\n",
       "      <td>0</td>\n",
       "      <td>0</td>\n",
       "      <td>0</td>\n",
       "      <td>0</td>\n",
       "      <td>0</td>\n",
       "      <td>0</td>\n",
       "      <td>0</td>\n",
       "    </tr>\n",
       "  </tbody>\n",
       "</table>\n",
       "</div>"
      ],
      "text/plain": [
       "          ingredient  red_meat  poultry  fish  seafood  egg  vegetables  \\\n",
       "0  maitake mushrooms         0        0     0        0    0           1   \n",
       "1            america         0        0     0        0    0           0   \n",
       "2         shiro miso         0        0     0        0    0           0   \n",
       "3         hash brown         0        0     0        0    0           0   \n",
       "4             jicama         0        0     0        0    0           0   \n",
       "\n",
       "   fruits  dairy  \n",
       "0       0      0  \n",
       "1       0      0  \n",
       "2       0      0  \n",
       "3       0      0  \n",
       "4       0      0  "
      ]
     },
     "execution_count": 234,
     "metadata": {},
     "output_type": "execute_result"
    }
   ],
   "source": [
    "short_ingredients.head()"
   ]
  },
  {
   "cell_type": "code",
   "execution_count": 240,
   "metadata": {
    "collapsed": true
   },
   "outputs": [],
   "source": [
    "short_ingredients.to_csv('data/ing_list.csv', encoding='UTF-8')"
   ]
  },
  {
   "cell_type": "code",
   "execution_count": 239,
   "metadata": {},
   "outputs": [
    {
     "data": {
      "text/plain": [
       "[('red_meat', 137),\n",
       " ('poultry', 46),\n",
       " ('fish', 47),\n",
       " ('seafood', 33),\n",
       " ('egg', 12),\n",
       " ('vegetables', 320),\n",
       " ('fruits', 227),\n",
       " ('dairy', 67)]"
      ]
     },
     "execution_count": 239,
     "metadata": {},
     "output_type": "execute_result"
    }
   ],
   "source": [
    "[(x, sum(short_ingredients[x])) for x in ['red_meat', 'poultry', 'fish', 'seafood', 'egg', 'vegetables', 'fruits', 'dairy']]"
   ]
  },
  {
   "cell_type": "markdown",
   "metadata": {},
   "source": [
    "### Separate desserts into category (in process)"
   ]
  },
  {
   "cell_type": "code",
   "execution_count": null,
   "metadata": {
    "collapsed": true
   },
   "outputs": [],
   "source": [
    "# Identify ingredients which often appear in dessets"
   ]
  },
  {
   "cell_type": "code",
   "execution_count": 73,
   "metadata": {},
   "outputs": [],
   "source": [
    "idx=[i for i in data_short.index if 'cake' in data_short.loc[i]['title']]"
   ]
  },
  {
   "cell_type": "code",
   "execution_count": 98,
   "metadata": {},
   "outputs": [],
   "source": [
    "data_short.drop('Unnamed: 0', axis=1, inplace=True)"
   ]
  },
  {
   "cell_type": "code",
   "execution_count": 99,
   "metadata": {
    "collapsed": true
   },
   "outputs": [],
   "source": [
    "x=data_short.loc[idx]"
   ]
  },
  {
   "cell_type": "code",
   "execution_count": 105,
   "metadata": {},
   "outputs": [],
   "source": [
    "x=[(y, sum(x[y])) for y in data_short.columns if y not in ['title','calories','protein','carbs','fat','sodium','steps', 'meal']]"
   ]
  },
  {
   "cell_type": "code",
   "execution_count": 109,
   "metadata": {},
   "outputs": [],
   "source": [
    "x.sort(key=lambda tup: tup[1])"
   ]
  },
  {
   "cell_type": "code",
   "execution_count": 121,
   "metadata": {},
   "outputs": [
    {
     "data": {
      "text/plain": [
       "[('egg', 236),\n",
       " ('butter', 213),\n",
       " ('sugar', 198),\n",
       " ('flour', 196),\n",
       " ('salt', 152),\n",
       " ('vanilla extract', 113),\n",
       " ('baking powder', 111),\n",
       " ('cream cheese', 89),\n",
       " ('sour cream', 76),\n",
       " ('baking soda', 68)]"
      ]
     },
     "execution_count": 121,
     "metadata": {},
     "output_type": "execute_result"
    }
   ],
   "source": [
    "x[::-1][:10]"
   ]
  },
  {
   "cell_type": "code",
   "execution_count": 39,
   "metadata": {
    "collapsed": true
   },
   "outputs": [],
   "source": [
    "import json\n",
    "from pprint import pprint"
   ]
  },
  {
   "cell_type": "code",
   "execution_count": 40,
   "metadata": {},
   "outputs": [],
   "source": [
    "with open('epicurious/full_format_recipes.json') as f:\n",
    "    recipes = json.load(f)"
   ]
  }
 ],
 "metadata": {
  "kernelspec": {
   "display_name": "Python 3",
   "language": "python",
   "name": "python3"
  },
  "language_info": {
   "codemirror_mode": {
    "name": "ipython",
    "version": 3
   },
   "file_extension": ".py",
   "mimetype": "text/x-python",
   "name": "python",
   "nbconvert_exporter": "python",
   "pygments_lexer": "ipython3",
   "version": "3.6.1"
  }
 },
 "nbformat": 4,
 "nbformat_minor": 2
}
