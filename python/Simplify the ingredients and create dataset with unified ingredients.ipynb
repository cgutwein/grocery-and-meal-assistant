{
 "cells": [
  {
   "cell_type": "code",
   "execution_count": 1,
   "metadata": {
    "collapsed": true
   },
   "outputs": [],
   "source": [
    "import pandas as pd\n",
    "import nltk"
   ]
  },
  {
   "cell_type": "markdown",
   "metadata": {},
   "source": [
    "### Tokenize and simplify the ingredients"
   ]
  },
  {
   "cell_type": "code",
   "execution_count": 2,
   "metadata": {
    "collapsed": true
   },
   "outputs": [],
   "source": [
    "# Upload trained dataset\n",
    "train_ingr=pd.read_csv('shortened_train.csv')\n",
    "\n",
    "train_ingr['full form']=pd.Series([x.lstrip() for x in train_ingr['full form']])\n",
    "train_ingr['short form']=pd.Series([x.lstrip() for x in train_ingr['short form']])\n",
    "train_ingr.index=train_ingr['full form']\n",
    "\n",
    "groups = train_ingr.groupby(level=train_ingr.index.names) \n",
    "train_ingr=groups.last()\n"
   ]
  },
  {
   "cell_type": "code",
   "execution_count": 40,
   "metadata": {
    "collapsed": true
   },
   "outputs": [],
   "source": [
    "# read the full list of 3700 ingredients\n",
    "ingredients=pd.read_csv('ingredients.csv')\n",
    "ingredients.drop('Column1', axis=1, inplace=True)"
   ]
  },
  {
   "cell_type": "code",
   "execution_count": 45,
   "metadata": {},
   "outputs": [
    {
     "data": {
      "text/plain": [
       "0    cremini mushrooms\n",
       "1              caramel\n",
       "2      maldon sea salt\n",
       "3          orecchiette\n",
       "4        baby bok choy\n",
       "Name: full name, dtype: object"
      ]
     },
     "execution_count": 45,
     "metadata": {},
     "output_type": "execute_result"
    }
   ],
   "source": [
    "ingredients['full name'].head()"
   ]
  },
  {
   "cell_type": "code",
   "execution_count": null,
   "metadata": {
    "collapsed": true
   },
   "outputs": [],
   "source": [
    "# create the dataset of ingredients\n",
    "\n",
    "ingredients['split']=pd.Series([x.split() for x in new_ingredients])\n",
    "\n",
    "ingredients['pos']=pd.Series([[xx[1] for xx in nltk.pos_tag(x)] for x in ingredients['split']])\n",
    "\n",
    "ingredients['train']=pd.Series([int(x in list(train_ingr['full form'])) for x in ingredients['full name']])\n",
    "\n",
    "ingredients['short']=pd.Series([train_ingr.loc[x]['short form'] \n",
    "                                if (x in train_ingr.index)&(x in new_ingredients) else 'na' for x in ingredients['full name'] ])\n",
    "\n",
    "ingredients['short_split']=pd.Series([ingredients['short'][i].split() for i in range(ingredients.shape[0])])\n"
   ]
  },
  {
   "cell_type": "markdown",
   "metadata": {},
   "source": [
    "### Fill the non-train short values based either on word, or the POS probability"
   ]
  },
  {
   "cell_type": "code",
   "execution_count": 47,
   "metadata": {},
   "outputs": [],
   "source": [
    "samples=[]\n",
    "idx=ingredients[ingredients.train==1].index"
   ]
  },
  {
   "cell_type": "code",
   "execution_count": 48,
   "metadata": {},
   "outputs": [],
   "source": [
    "for i in idx:\n",
    "    split=ingredients.loc[i]['split']\n",
    "    pos=ingredients.loc[i]['pos']\n",
    "    short_split=ingredients.loc[i]['short_split']\n",
    "    for j in range(len(split)):\n",
    "        samples.append([split[j], pos[j], int(split[j] in short_split)])"
   ]
  },
  {
   "cell_type": "code",
   "execution_count": 49,
   "metadata": {
    "collapsed": true
   },
   "outputs": [],
   "source": [
    "samples=pd.DataFrame(samples, columns=['word', 'pos','keep'])"
   ]
  },
  {
   "cell_type": "code",
   "execution_count": 50,
   "metadata": {},
   "outputs": [
    {
     "data": {
      "text/plain": [
       "(1538, 3)"
      ]
     },
     "execution_count": 50,
     "metadata": {},
     "output_type": "execute_result"
    }
   ],
   "source": [
    "samples.shape"
   ]
  },
  {
   "cell_type": "code",
   "execution_count": 51,
   "metadata": {},
   "outputs": [
    {
     "data": {
      "text/html": [
       "<div>\n",
       "<style>\n",
       "    .dataframe thead tr:only-child th {\n",
       "        text-align: right;\n",
       "    }\n",
       "\n",
       "    .dataframe thead th {\n",
       "        text-align: left;\n",
       "    }\n",
       "\n",
       "    .dataframe tbody tr th {\n",
       "        vertical-align: top;\n",
       "    }\n",
       "</style>\n",
       "<table border=\"1\" class=\"dataframe\">\n",
       "  <thead>\n",
       "    <tr style=\"text-align: right;\">\n",
       "      <th></th>\n",
       "      <th>word</th>\n",
       "      <th>pos</th>\n",
       "      <th>keep</th>\n",
       "    </tr>\n",
       "  </thead>\n",
       "  <tbody>\n",
       "    <tr>\n",
       "      <th>0</th>\n",
       "      <td>cremini</td>\n",
       "      <td>NN</td>\n",
       "      <td>1</td>\n",
       "    </tr>\n",
       "    <tr>\n",
       "      <th>1</th>\n",
       "      <td>mushrooms</td>\n",
       "      <td>NNS</td>\n",
       "      <td>1</td>\n",
       "    </tr>\n",
       "    <tr>\n",
       "      <th>2</th>\n",
       "      <td>sliced</td>\n",
       "      <td>VBN</td>\n",
       "      <td>0</td>\n",
       "    </tr>\n",
       "    <tr>\n",
       "      <th>3</th>\n",
       "      <td>mushrooms</td>\n",
       "      <td>NNS</td>\n",
       "      <td>0</td>\n",
       "    </tr>\n",
       "    <tr>\n",
       "      <th>4</th>\n",
       "      <td>rice</td>\n",
       "      <td>NN</td>\n",
       "      <td>1</td>\n",
       "    </tr>\n",
       "  </tbody>\n",
       "</table>\n",
       "</div>"
      ],
      "text/plain": [
       "        word  pos  keep\n",
       "0    cremini   NN     1\n",
       "1  mushrooms  NNS     1\n",
       "2     sliced  VBN     0\n",
       "3  mushrooms  NNS     0\n",
       "4       rice   NN     1"
      ]
     },
     "execution_count": 51,
     "metadata": {},
     "output_type": "execute_result"
    }
   ],
   "source": [
    "samples.head()"
   ]
  },
  {
   "cell_type": "code",
   "execution_count": null,
   "metadata": {
    "collapsed": true
   },
   "outputs": [],
   "source": [
    "### Simple probabiity model\n",
    "\n",
    "def keep_prob(x):\n",
    "    if x[0] in list(samples.word):\n",
    "        idx=samples[samples.word==x[0]].index\n",
    "        if x[1] in list(samples.loc[idx]['pos']):\n",
    "            idx=samples.loc[idx][samples.pos==x[1]].index\n",
    "        else:\n",
    "            idx=samples[samples.pos==x[1]].index\n",
    "    else: \n",
    "        idx=samples[samples.pos==x[1]].index\n",
    "    \n",
    "    try: return sum(samples.loc[idx]['keep'])/len(samples.loc[idx]['keep']) \n",
    "    except: return 0"
   ]
  },
  {
   "cell_type": "code",
   "execution_count": null,
   "metadata": {
    "collapsed": true
   },
   "outputs": [],
   "source": [
    "# Fille the 'short_spit' for non-train data\n",
    "\n",
    "ingredients['short_split']=pd.Series([ingredients['short'][i].split() for i in range(ingredients.shape[0])])\n",
    "\n",
    "for i in ingredients[ingredients.train==0].index:\n",
    "    ss=[]\n",
    "    for j in range(len(ingredients.loc[i]['split'])):\n",
    "        x=[ingredients.loc[i]['split'][j], ingredients.loc[i]['pos'][j]]\n",
    "        if keep_prob(x)>0.5:\n",
    "            ss.extend([x[0]])\n",
    "    ingredients.loc[i, 'short_split'].extend(ss)\n"
   ]
  },
  {
   "cell_type": "code",
   "execution_count": null,
   "metadata": {
    "collapsed": true
   },
   "outputs": [],
   "source": [
    "# Add 'short' name and 'stemmed' name columns from short_split\n",
    "\n",
    "ingredients['short']=pd.Series([' '.join(x[1:]) if x[0]=='na' else ' '.join(x) \n",
    "                               for x in ingredients['short_split'] ])\n",
    "\n",
    "def stem(x):\n",
    "    try: return lemmatizer.lemmatize(x)\n",
    "    except: return None\n",
    "    \n",
    "\n",
    "ingredients['stem']=pd.Series([stem(x) for x in ingredients['short']])"
   ]
  },
  {
   "cell_type": "code",
   "execution_count": 53,
   "metadata": {},
   "outputs": [
    {
     "data": {
      "text/html": [
       "<div>\n",
       "<style>\n",
       "    .dataframe thead tr:only-child th {\n",
       "        text-align: right;\n",
       "    }\n",
       "\n",
       "    .dataframe thead th {\n",
       "        text-align: left;\n",
       "    }\n",
       "\n",
       "    .dataframe tbody tr th {\n",
       "        vertical-align: top;\n",
       "    }\n",
       "</style>\n",
       "<table border=\"1\" class=\"dataframe\">\n",
       "  <thead>\n",
       "    <tr style=\"text-align: right;\">\n",
       "      <th></th>\n",
       "      <th>full name</th>\n",
       "      <th>stem</th>\n",
       "      <th>short</th>\n",
       "      <th>split</th>\n",
       "      <th>pos</th>\n",
       "      <th>train</th>\n",
       "      <th>short_split</th>\n",
       "    </tr>\n",
       "  </thead>\n",
       "  <tbody>\n",
       "    <tr>\n",
       "      <th>0</th>\n",
       "      <td>cremini mushrooms</td>\n",
       "      <td>cremini mushrooms</td>\n",
       "      <td>cremini mushrooms</td>\n",
       "      <td>[cremini, mushrooms]</td>\n",
       "      <td>[NN, NNS]</td>\n",
       "      <td>1</td>\n",
       "      <td>[cremini, mushrooms]</td>\n",
       "    </tr>\n",
       "    <tr>\n",
       "      <th>1</th>\n",
       "      <td>caramel</td>\n",
       "      <td>caramel</td>\n",
       "      <td>caramel</td>\n",
       "      <td>[caramel]</td>\n",
       "      <td>[NN]</td>\n",
       "      <td>0</td>\n",
       "      <td>[na, caramel]</td>\n",
       "    </tr>\n",
       "    <tr>\n",
       "      <th>2</th>\n",
       "      <td>maldon sea salt</td>\n",
       "      <td>maldon sea salt</td>\n",
       "      <td>maldon sea salt</td>\n",
       "      <td>[maldon, sea, salt]</td>\n",
       "      <td>[NNS, NN, NN]</td>\n",
       "      <td>0</td>\n",
       "      <td>[na, maldon, sea, salt]</td>\n",
       "    </tr>\n",
       "    <tr>\n",
       "      <th>3</th>\n",
       "      <td>orecchiette</td>\n",
       "      <td>orecchiette</td>\n",
       "      <td>orecchiette</td>\n",
       "      <td>[orecchiette]</td>\n",
       "      <td>[NN]</td>\n",
       "      <td>0</td>\n",
       "      <td>[na, orecchiette]</td>\n",
       "    </tr>\n",
       "    <tr>\n",
       "      <th>4</th>\n",
       "      <td>baby bok choy</td>\n",
       "      <td>baby bok choy</td>\n",
       "      <td>baby bok choy</td>\n",
       "      <td>[baby, bok, choy]</td>\n",
       "      <td>[NN, NNS, VBP]</td>\n",
       "      <td>0</td>\n",
       "      <td>[na, baby, bok, choy]</td>\n",
       "    </tr>\n",
       "  </tbody>\n",
       "</table>\n",
       "</div>"
      ],
      "text/plain": [
       "           full name               stem              short  \\\n",
       "0  cremini mushrooms  cremini mushrooms  cremini mushrooms   \n",
       "1            caramel            caramel            caramel   \n",
       "2    maldon sea salt    maldon sea salt    maldon sea salt   \n",
       "3        orecchiette        orecchiette        orecchiette   \n",
       "4      baby bok choy      baby bok choy      baby bok choy   \n",
       "\n",
       "                  split             pos  train              short_split  \n",
       "0  [cremini, mushrooms]       [NN, NNS]      1     [cremini, mushrooms]  \n",
       "1             [caramel]            [NN]      0            [na, caramel]  \n",
       "2   [maldon, sea, salt]   [NNS, NN, NN]      0  [na, maldon, sea, salt]  \n",
       "3         [orecchiette]            [NN]      0        [na, orecchiette]  \n",
       "4     [baby, bok, choy]  [NN, NNS, VBP]      0    [na, baby, bok, choy]  "
      ]
     },
     "execution_count": 53,
     "metadata": {},
     "output_type": "execute_result"
    }
   ],
   "source": [
    "ingredients.head()"
   ]
  },
  {
   "cell_type": "code",
   "execution_count": null,
   "metadata": {
    "collapsed": true
   },
   "outputs": [],
   "source": [
    "ingredients.to_csv('ingredients.csv')"
   ]
  },
  {
   "cell_type": "code",
   "execution_count": 56,
   "metadata": {},
   "outputs": [
    {
     "data": {
      "text/plain": [
       "2705"
      ]
     },
     "execution_count": 56,
     "metadata": {},
     "output_type": "execute_result"
    }
   ],
   "source": [
    "short_ingredients=list(set(ingredients['stem']))\n",
    "short_ingredients=[x for x in short_ingredients if type(x)==str]\n",
    "len(short_ingredients)"
   ]
  },
  {
   "cell_type": "code",
   "execution_count": 57,
   "metadata": {
    "collapsed": true
   },
   "outputs": [],
   "source": [
    "pd.DataFrame(short_ingredients, columns=['ingredient']).to_csv(\"ingr_list.csv\")"
   ]
  },
  {
   "cell_type": "code",
   "execution_count": null,
   "metadata": {
    "collapsed": true
   },
   "outputs": [],
   "source": [
    "# Further upload of ingredients dataset"
   ]
  },
  {
   "cell_type": "code",
   "execution_count": null,
   "metadata": {
    "collapsed": true
   },
   "outputs": [],
   "source": [
    "ingredients=pd.read_csv('ingredients.csv')\n",
    "ingredients.drop('Column1', axis=1, inplace=True)"
   ]
  },
  {
   "cell_type": "code",
   "execution_count": null,
   "metadata": {
    "collapsed": true
   },
   "outputs": [],
   "source": [
    "from ast import literal_eval\n",
    "for column in list(['split', 'pos', 'short_split']):\n",
    "    ingredients[column]=pd.Series(literal_eval(x) for x in ingredients[column])\n"
   ]
  },
  {
   "cell_type": "markdown",
   "metadata": {},
   "source": [
    "### Create the dataset out of 2.7K unified ingredients and recipes"
   ]
  },
  {
   "cell_type": "code",
   "execution_count": null,
   "metadata": {
    "collapsed": true
   },
   "outputs": [],
   "source": [
    "data=pd.read_csv('data.csv')\n",
    "\n",
    "data_short=data[['title','calories','protein','carbs','fat','sodium','steps', 'meal']]\n"
   ]
  },
  {
   "cell_type": "code",
   "execution_count": null,
   "metadata": {
    "collapsed": true
   },
   "outputs": [],
   "source": [
    "short_ingredients.remove('meal')\n",
    "short_ingredients.remove('fat')"
   ]
  },
  {
   "cell_type": "code",
   "execution_count": null,
   "metadata": {
    "collapsed": true
   },
   "outputs": [],
   "source": [
    "len(short_ingredients)\n",
    "\n",
    "for ingr in short_ingredients:\n",
    "    items=[ingredients.loc[i]['full name'] for i in ingredients.index if ingredients.loc[i]['stem']==ingr]\n",
    "    items=[x for x in items if x in data.columns]\n",
    "    data_short[ingr]=data[items].sum(axis=1)\n"
   ]
  },
  {
   "cell_type": "code",
   "execution_count": null,
   "metadata": {
    "collapsed": true
   },
   "outputs": [],
   "source": [
    "data_short[short_ingredients]=data_short[short_ingredients].applymap(lambda x: int(x>0))"
   ]
  },
  {
   "cell_type": "code",
   "execution_count": null,
   "metadata": {
    "collapsed": true
   },
   "outputs": [],
   "source": [
    "\n",
    "data_short.to_csv('data_short.csv', encoding=\"UTF-8\")"
   ]
  }
 ],
 "metadata": {
  "kernelspec": {
   "display_name": "Python 3",
   "language": "python",
   "name": "python3"
  },
  "language_info": {
   "codemirror_mode": {
    "name": "ipython",
    "version": 3
   },
   "file_extension": ".py",
   "mimetype": "text/x-python",
   "name": "python",
   "nbconvert_exporter": "python",
   "pygments_lexer": "ipython3",
   "version": "3.6.1"
  }
 },
 "nbformat": 4,
 "nbformat_minor": 2
}
